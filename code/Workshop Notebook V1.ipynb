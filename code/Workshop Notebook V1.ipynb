{
 "cells": [
  {
   "cell_type": "markdown",
   "id": "0ed2e768-dc1c-46b6-a70f-fa4345ecb0e8",
   "metadata": {},
   "source": [
    "<h1 align=\"center\">UW CNC Fall Hackathon </h1>  \n",
    "<h3 align=\"center\"> Dec 4, 2024 </h3>   \n",
    "<h3 align=\"center\"> mapping mesoscale connectivity between the frontal cortex and thalamus</h3> \n",
    "    \n",
    "    "
   ]
  },
  {
   "cell_type": "markdown",
   "id": "9450874e",
   "metadata": {},
   "source": [
    "<div style=\"border-left: 3px solid #000; padding: 1px; padding-left: 10px; background: #F0FAFF; \">\n",
    "    \n",
    "**Overview:** In this notebook, we will analyze the connectivity between thalamic subregions and the frontal cortex using a 3D light sheet microscopy dataset of whole mouse brains. \n",
    "While this tutorial focuses on thalamic inputs to the frontal cortex, the dataset contains connections between the frontal cortex and other brain regions that have yet to be thoroughly explored.    \n",
    "    \n",
    "**Dataset:**  \n",
    "    \n",
    "**Experiment:** Retrograde viruses were injected into frontal cortex to induce the expression of nuclear-localized fluorophores in host cells in frontal cortex and their presynaptic partners across the brain. Each brain dataset is multiplexed and received multiple viral injections, resulting in multiple color channels highlighting different connections. Whole brains were imaged using a light sheet microscope (SmartSPIM). \n",
    "    \n",
    "**Image Processing:** The image tiles were stitched together into a 3D volume then transformed into a reference brain template called the Common Coordinate Framework (CCF). A cell detection model was applied to the images, yielding spatial coordinates for each detected cell. *Note that the cell detection model was optimized for the thalamus.  \n",
    "        \n",
    "**Goal:** This tutorial will show you how to:  \n",
    "    1. analyze connectivity across brain regions  \n",
    "    2. work with 3D volumetric microscopy data of whole mouse brains \n",
    "\n"
   ]
  },
  {
   "cell_type": "markdown",
   "id": "538e274b",
   "metadata": {},
   "source": [
    "<div style=\"border-left: 3px solid #000; padding: 1px; padding-left: 10px; background: #F0FAFF; \">\n",
    "\n",
    "#### Section 1: Import packages and load data<br>\n",
    "    \n",
    "    "
   ]
  },
  {
   "cell_type": "code",
   "execution_count": 1,
   "id": "b1f94bd0-8928-4a05-8079-2aa84a3ac300",
   "metadata": {
    "tags": []
   },
   "outputs": [],
   "source": [
    "import numpy as np\n",
    "import matplotlib.pyplot as plt\n",
    "import pandas as pd\n",
    "import seaborn as sns\n",
    "import nrrd\n",
    "from pathlib import Path\n",
    "\n",
    "\n",
    "from load_data import load_data\n",
    "from allensdk.core.reference_space_cache import ReferenceSpaceCache\n",
    "import brainglobe_atlasapi as atlasapi\n",
    "from brainglobe_atlasapi import BrainGlobeAtlas\n",
    "\n",
    "output_dir = '../scratch/'\n",
    "\n",
    "%matplotlib inline"
   ]
  },
  {
   "cell_type": "markdown",
   "id": "450f338b-2523-4250-9744-52b5057cbffd",
   "metadata": {},
   "source": [
    "<div style=\"border-left: 3px solid #000; padding: 1px; padding-left: 10px; background: #f69cf7; \">\n",
    "SdV: In general, keep the imports as minimal as possible. Let's make sure we really need all of these.\n",
    "\n",
    "It might also be good to separate generic imports from things we've written ourselves, or that are more specific. E.g. brain and BrainGlobeAtlas. Might be good to note what they are ... (might also be overkill)\n",
    "\n",
    "Let's discuss whether we really need seaborn here. I'm generally not a big fan on seaborn plots because they do a lot of statistics in the back without users being aware. There are times when it's not really important, but my default is to avoid them. "
   ]
  },
  {
   "cell_type": "markdown",
   "id": "46612880",
   "metadata": {},
   "source": [
    "<div style=\"border-left: 3px solid #000; padding: 1px; padding-left: 10px; background: #F0FAFF; \">\n",
    "\n",
    "Load a single brain dataset using the load_data function.  \n",
    "      \n",
    "Here, you can see which channels went through each stage of processing.  \n",
    "(raw image channels > cell segmentation model applied > transformation to CCF space) "
   ]
  },
  {
   "cell_type": "markdown",
   "id": "eda28246-3b81-47f5-a515-99490403403c",
   "metadata": {},
   "source": [
    "<div style=\"border-left: 3px solid #000; padding: 1px; padding-left: 10px; background: #f69cf7; \">\n",
    "SdV: It might help to start with picking a brain - what do we know about this brain? Why are we picking it? This might work best starting with metadata, so we can add that shortly, but rather than brain out of a hat, let's motivate why we are looking at this brain."
   ]
  },
  {
   "cell_type": "code",
   "execution_count": 2,
   "id": "f23b1971",
   "metadata": {
    "tags": []
   },
   "outputs": [
    {
     "name": "stdout",
     "output_type": "stream",
     "text": [
      "Loading data from ../data/SmartSPIM_698035_2023-10-24_18-38-40_stitched_2023-10-28_20-52-51/image_tile_fusing/OMEZarr\n",
      "Found the following channels: ['445', '488', '561', '639']\n",
      "Found cell segmentations in the following channels: ['445', '488', '561']\n",
      "Found CCF aligned quantifications in the following channels: ['445', '488', '561']\n",
      "Grabbing volumes for level: 3\n"
     ]
    }
   ],
   "source": [
    "mouse_ID = '698035' \n",
    "x = load_data(mouse_ID, level = 3)"
   ]
  },
  {
   "cell_type": "markdown",
   "id": "f5806c3c",
   "metadata": {},
   "source": [
    "<div style=\"border-left: 3px solid #000; padding: 1px; padding-left: 10px; background: #F0FAFF; \">\n",
    "\n",
    "not sure if we need this. if so, provide context here. \n",
    "______ "
   ]
  },
  {
   "cell_type": "markdown",
   "id": "0d4679e5-c040-406e-bff3-26a799254e90",
   "metadata": {},
   "source": [
    "<div style=\"border-left: 3px solid #000; padding: 1px; padding-left: 10px; background: #f69cf7; \">\n",
    "SdV: I don't understand what the next couple cells are doing or why we would do them?"
   ]
  },
  {
   "cell_type": "code",
   "execution_count": 3,
   "id": "4940f2fe",
   "metadata": {
    "tags": []
   },
   "outputs": [
    {
     "data": {
      "text/html": [
       "<table>\n",
       "    <tr>\n",
       "        <td>\n",
       "            <table style=\"border-collapse: collapse;\">\n",
       "                <thead>\n",
       "                    <tr>\n",
       "                        <td> </td>\n",
       "                        <th> Array </th>\n",
       "                        <th> Chunk </th>\n",
       "                    </tr>\n",
       "                </thead>\n",
       "                <tbody>\n",
       "                    \n",
       "                    <tr>\n",
       "                        <th> Bytes </th>\n",
       "                        <td> 1.11 GiB </td>\n",
       "                        <td> 4.00 MiB </td>\n",
       "                    </tr>\n",
       "                    \n",
       "                    <tr>\n",
       "                        <th> Shape </th>\n",
       "                        <td> (1282, 499, 929) </td>\n",
       "                        <td> (128, 128, 128) </td>\n",
       "                    </tr>\n",
       "                    <tr>\n",
       "                        <th> Dask graph </th>\n",
       "                        <td colspan=\"2\"> 352 chunks in 4 graph layers </td>\n",
       "                    </tr>\n",
       "                    <tr>\n",
       "                        <th> Data type </th>\n",
       "                        <td colspan=\"2\"> uint16 numpy.ndarray </td>\n",
       "                    </tr>\n",
       "                </tbody>\n",
       "            </table>\n",
       "        </td>\n",
       "        <td>\n",
       "        <svg width=\"217\" height=\"167\" style=\"stroke:rgb(0,0,0);stroke-width:1\" >\n",
       "\n",
       "  <!-- Horizontal lines -->\n",
       "  <line x1=\"10\" y1=\"0\" x2=\"80\" y2=\"70\" style=\"stroke-width:2\" />\n",
       "  <line x1=\"10\" y1=\"11\" x2=\"80\" y2=\"82\" />\n",
       "  <line x1=\"10\" y1=\"23\" x2=\"80\" y2=\"94\" />\n",
       "  <line x1=\"10\" y1=\"35\" x2=\"80\" y2=\"106\" />\n",
       "  <line x1=\"10\" y1=\"46\" x2=\"80\" y2=\"117\" style=\"stroke-width:2\" />\n",
       "\n",
       "  <!-- Vertical lines -->\n",
       "  <line x1=\"10\" y1=\"0\" x2=\"10\" y2=\"46\" style=\"stroke-width:2\" />\n",
       "  <line x1=\"17\" y1=\"7\" x2=\"17\" y2=\"53\" />\n",
       "  <line x1=\"24\" y1=\"14\" x2=\"24\" y2=\"60\" />\n",
       "  <line x1=\"31\" y1=\"21\" x2=\"31\" y2=\"67\" />\n",
       "  <line x1=\"38\" y1=\"28\" x2=\"38\" y2=\"74\" />\n",
       "  <line x1=\"45\" y1=\"35\" x2=\"45\" y2=\"81\" />\n",
       "  <line x1=\"52\" y1=\"42\" x2=\"52\" y2=\"88\" />\n",
       "  <line x1=\"59\" y1=\"49\" x2=\"59\" y2=\"96\" />\n",
       "  <line x1=\"66\" y1=\"56\" x2=\"66\" y2=\"103\" />\n",
       "  <line x1=\"73\" y1=\"63\" x2=\"73\" y2=\"110\" />\n",
       "  <line x1=\"80\" y1=\"70\" x2=\"80\" y2=\"117\" />\n",
       "  <line x1=\"80\" y1=\"70\" x2=\"80\" y2=\"117\" style=\"stroke-width:2\" />\n",
       "\n",
       "  <!-- Colored Rectangle -->\n",
       "  <polygon points=\"10.0,0.0 80.58823529411765,70.58823529411765 80.58823529411765,117.29650362485089 10.0,46.708268330733226\" style=\"fill:#ECB172A0;stroke-width:0\"/>\n",
       "\n",
       "  <!-- Horizontal lines -->\n",
       "  <line x1=\"10\" y1=\"0\" x2=\"96\" y2=\"0\" style=\"stroke-width:2\" />\n",
       "  <line x1=\"17\" y1=\"7\" x2=\"104\" y2=\"7\" />\n",
       "  <line x1=\"24\" y1=\"14\" x2=\"111\" y2=\"14\" />\n",
       "  <line x1=\"31\" y1=\"21\" x2=\"118\" y2=\"21\" />\n",
       "  <line x1=\"38\" y1=\"28\" x2=\"125\" y2=\"28\" />\n",
       "  <line x1=\"45\" y1=\"35\" x2=\"132\" y2=\"35\" />\n",
       "  <line x1=\"52\" y1=\"42\" x2=\"139\" y2=\"42\" />\n",
       "  <line x1=\"59\" y1=\"49\" x2=\"146\" y2=\"49\" />\n",
       "  <line x1=\"66\" y1=\"56\" x2=\"153\" y2=\"56\" />\n",
       "  <line x1=\"73\" y1=\"63\" x2=\"160\" y2=\"63\" />\n",
       "  <line x1=\"80\" y1=\"70\" x2=\"167\" y2=\"70\" />\n",
       "  <line x1=\"80\" y1=\"70\" x2=\"167\" y2=\"70\" style=\"stroke-width:2\" />\n",
       "\n",
       "  <!-- Vertical lines -->\n",
       "  <line x1=\"10\" y1=\"0\" x2=\"80\" y2=\"70\" style=\"stroke-width:2\" />\n",
       "  <line x1=\"21\" y1=\"0\" x2=\"92\" y2=\"70\" />\n",
       "  <line x1=\"33\" y1=\"0\" x2=\"104\" y2=\"70\" />\n",
       "  <line x1=\"45\" y1=\"0\" x2=\"116\" y2=\"70\" />\n",
       "  <line x1=\"57\" y1=\"0\" x2=\"128\" y2=\"70\" />\n",
       "  <line x1=\"69\" y1=\"0\" x2=\"140\" y2=\"70\" />\n",
       "  <line x1=\"81\" y1=\"0\" x2=\"152\" y2=\"70\" />\n",
       "  <line x1=\"93\" y1=\"0\" x2=\"164\" y2=\"70\" />\n",
       "  <line x1=\"96\" y1=\"0\" x2=\"167\" y2=\"70\" style=\"stroke-width:2\" />\n",
       "\n",
       "  <!-- Colored Rectangle -->\n",
       "  <polygon points=\"10.0,0.0 96.9578783151326,0.0 167.54611360925026,70.58823529411765 80.58823529411765,70.58823529411765\" style=\"fill:#ECB172A0;stroke-width:0\"/>\n",
       "\n",
       "  <!-- Horizontal lines -->\n",
       "  <line x1=\"80\" y1=\"70\" x2=\"167\" y2=\"70\" style=\"stroke-width:2\" />\n",
       "  <line x1=\"80\" y1=\"82\" x2=\"167\" y2=\"82\" />\n",
       "  <line x1=\"80\" y1=\"94\" x2=\"167\" y2=\"94\" />\n",
       "  <line x1=\"80\" y1=\"106\" x2=\"167\" y2=\"106\" />\n",
       "  <line x1=\"80\" y1=\"117\" x2=\"167\" y2=\"117\" style=\"stroke-width:2\" />\n",
       "\n",
       "  <!-- Vertical lines -->\n",
       "  <line x1=\"80\" y1=\"70\" x2=\"80\" y2=\"117\" style=\"stroke-width:2\" />\n",
       "  <line x1=\"92\" y1=\"70\" x2=\"92\" y2=\"117\" />\n",
       "  <line x1=\"104\" y1=\"70\" x2=\"104\" y2=\"117\" />\n",
       "  <line x1=\"116\" y1=\"70\" x2=\"116\" y2=\"117\" />\n",
       "  <line x1=\"128\" y1=\"70\" x2=\"128\" y2=\"117\" />\n",
       "  <line x1=\"140\" y1=\"70\" x2=\"140\" y2=\"117\" />\n",
       "  <line x1=\"152\" y1=\"70\" x2=\"152\" y2=\"117\" />\n",
       "  <line x1=\"164\" y1=\"70\" x2=\"164\" y2=\"117\" />\n",
       "  <line x1=\"167\" y1=\"70\" x2=\"167\" y2=\"117\" style=\"stroke-width:2\" />\n",
       "\n",
       "  <!-- Colored Rectangle -->\n",
       "  <polygon points=\"80.58823529411765,70.58823529411765 167.54611360925026,70.58823529411765 167.54611360925026,117.29650362485089 80.58823529411765,117.29650362485089\" style=\"fill:#ECB172A0;stroke-width:0\"/>\n",
       "\n",
       "  <!-- Text -->\n",
       "  <text x=\"124.067174\" y=\"137.296504\" font-size=\"1.0rem\" font-weight=\"100\" text-anchor=\"middle\" >929</text>\n",
       "  <text x=\"187.546114\" y=\"93.942369\" font-size=\"1.0rem\" font-weight=\"100\" text-anchor=\"middle\" transform=\"rotate(-90,187.546114,93.942369)\">499</text>\n",
       "  <text x=\"35.294118\" y=\"102.002386\" font-size=\"1.0rem\" font-weight=\"100\" text-anchor=\"middle\" transform=\"rotate(45,35.294118,102.002386)\">1282</text>\n",
       "</svg>\n",
       "        </td>\n",
       "    </tr>\n",
       "</table>"
      ],
      "text/plain": [
       "dask.array<transpose, shape=(1282, 499, 929), dtype=uint16, chunksize=(128, 128, 128), chunktype=numpy.ndarray>"
      ]
     },
     "execution_count": 3,
     "metadata": {},
     "output_type": "execute_result"
    }
   ],
   "source": [
    "x.orientVol('561', plane = \"coronal\", returnLabels = False)"
   ]
  },
  {
   "cell_type": "markdown",
   "id": "36a87582",
   "metadata": {},
   "source": [
    "<div style=\"border-left: 3px solid #000; padding: 1px; padding-left: 10px; background: #F0FAFF; \">\n",
    "\n",
    "not sure if we need this. if so, provide context here\n",
    "\n"
   ]
  },
  {
   "cell_type": "code",
   "execution_count": 4,
   "id": "a76f6182",
   "metadata": {
    "tags": []
   },
   "outputs": [
    {
     "name": "stdout",
     "output_type": "stream",
     "text": [
      "Grabbing volumes for level: 3\n"
     ]
    },
    {
     "name": "stderr",
     "output_type": "stream",
     "text": [
      "/opt/conda/lib/python3.10/site-packages/dask/array/core.py:1713: FutureWarning: The `numpy.quantile` function is not implemented by Dask array. You may want to use the da.map_blocks function or something similar to silence this warning. Your code may stop working in a future release.\n",
      "  warnings.warn(\n"
     ]
    },
    {
     "data": {
      "text/html": [
       "<table>\n",
       "    <tr>\n",
       "        <td>\n",
       "            <table style=\"border-collapse: collapse;\">\n",
       "                <thead>\n",
       "                    <tr>\n",
       "                        <td> </td>\n",
       "                        <th> Array </th>\n",
       "                        <th> Chunk </th>\n",
       "                    </tr>\n",
       "                </thead>\n",
       "                <tbody>\n",
       "                    \n",
       "                    <tr>\n",
       "                        <th> Bytes </th>\n",
       "                        <td> 13.18 MiB </td>\n",
       "                        <td> 6.63 MiB </td>\n",
       "                    </tr>\n",
       "                    \n",
       "                    <tr>\n",
       "                        <th> Shape </th>\n",
       "                        <td> (120, 120, 120) </td>\n",
       "                        <td> (115, 63, 120) </td>\n",
       "                    </tr>\n",
       "                    <tr>\n",
       "                        <th> Dask graph </th>\n",
       "                        <td colspan=\"2\"> 4 chunks in 7 graph layers </td>\n",
       "                    </tr>\n",
       "                    <tr>\n",
       "                        <th> Data type </th>\n",
       "                        <td colspan=\"2\"> float64 numpy.ndarray </td>\n",
       "                    </tr>\n",
       "                </tbody>\n",
       "            </table>\n",
       "        </td>\n",
       "        <td>\n",
       "        <svg width=\"250\" height=\"240\" style=\"stroke:rgb(0,0,0);stroke-width:1\" >\n",
       "\n",
       "  <!-- Horizontal lines -->\n",
       "  <line x1=\"10\" y1=\"0\" x2=\"80\" y2=\"70\" style=\"stroke-width:2\" />\n",
       "  <line x1=\"10\" y1=\"63\" x2=\"80\" y2=\"133\" />\n",
       "  <line x1=\"10\" y1=\"120\" x2=\"80\" y2=\"190\" style=\"stroke-width:2\" />\n",
       "\n",
       "  <!-- Vertical lines -->\n",
       "  <line x1=\"10\" y1=\"0\" x2=\"10\" y2=\"120\" style=\"stroke-width:2\" />\n",
       "  <line x1=\"77\" y1=\"67\" x2=\"77\" y2=\"187\" />\n",
       "  <line x1=\"80\" y1=\"70\" x2=\"80\" y2=\"190\" style=\"stroke-width:2\" />\n",
       "\n",
       "  <!-- Colored Rectangle -->\n",
       "  <polygon points=\"10.0,0.0 80.58823529411765,70.58823529411765 80.58823529411765,190.58823529411765 10.0,120.0\" style=\"fill:#ECB172A0;stroke-width:0\"/>\n",
       "\n",
       "  <!-- Horizontal lines -->\n",
       "  <line x1=\"10\" y1=\"0\" x2=\"130\" y2=\"0\" style=\"stroke-width:2\" />\n",
       "  <line x1=\"77\" y1=\"67\" x2=\"197\" y2=\"67\" />\n",
       "  <line x1=\"80\" y1=\"70\" x2=\"200\" y2=\"70\" style=\"stroke-width:2\" />\n",
       "\n",
       "  <!-- Vertical lines -->\n",
       "  <line x1=\"10\" y1=\"0\" x2=\"80\" y2=\"70\" style=\"stroke-width:2\" />\n",
       "  <line x1=\"130\" y1=\"0\" x2=\"200\" y2=\"70\" style=\"stroke-width:2\" />\n",
       "\n",
       "  <!-- Colored Rectangle -->\n",
       "  <polygon points=\"10.0,0.0 130.0,0.0 200.58823529411765,70.58823529411765 80.58823529411765,70.58823529411765\" style=\"fill:#ECB172A0;stroke-width:0\"/>\n",
       "\n",
       "  <!-- Horizontal lines -->\n",
       "  <line x1=\"80\" y1=\"70\" x2=\"200\" y2=\"70\" style=\"stroke-width:2\" />\n",
       "  <line x1=\"80\" y1=\"133\" x2=\"200\" y2=\"133\" />\n",
       "  <line x1=\"80\" y1=\"190\" x2=\"200\" y2=\"190\" style=\"stroke-width:2\" />\n",
       "\n",
       "  <!-- Vertical lines -->\n",
       "  <line x1=\"80\" y1=\"70\" x2=\"80\" y2=\"190\" style=\"stroke-width:2\" />\n",
       "  <line x1=\"200\" y1=\"70\" x2=\"200\" y2=\"190\" style=\"stroke-width:2\" />\n",
       "\n",
       "  <!-- Colored Rectangle -->\n",
       "  <polygon points=\"80.58823529411765,70.58823529411765 200.58823529411765,70.58823529411765 200.58823529411765,190.58823529411765 80.58823529411765,190.58823529411765\" style=\"fill:#ECB172A0;stroke-width:0\"/>\n",
       "\n",
       "  <!-- Text -->\n",
       "  <text x=\"140.588235\" y=\"210.588235\" font-size=\"1.0rem\" font-weight=\"100\" text-anchor=\"middle\" >120</text>\n",
       "  <text x=\"220.588235\" y=\"130.588235\" font-size=\"1.0rem\" font-weight=\"100\" text-anchor=\"middle\" transform=\"rotate(-90,220.588235,130.588235)\">120</text>\n",
       "  <text x=\"35.294118\" y=\"175.294118\" font-size=\"1.0rem\" font-weight=\"100\" text-anchor=\"middle\" transform=\"rotate(45,35.294118,175.294118)\">120</text>\n",
       "</svg>\n",
       "        </td>\n",
       "    </tr>\n",
       "</table>"
      ],
      "text/plain": [
       "dask.array<clip, shape=(120, 120, 120), dtype=float64, chunksize=(115, 63, 120), chunktype=numpy.ndarray>"
      ]
     },
     "execution_count": 4,
     "metadata": {},
     "output_type": "execute_result"
    },
    {
     "data": {
      "image/png": "[encoded data removed]",
      "text/plain": [
       "<Figure size 640x480 with 1 Axes>"
      ]
     },
     "metadata": {},
     "output_type": "display_data"
    }
   ],
   "source": [
    "x.getInjectionSite('561', level = 3, plane = 'sagittal', span = 60, showPlot = True)"
   ]
  },
  {
   "cell_type": "markdown",
   "id": "b58e455d-34e9-426a-91a8-13a1b2c4f999",
   "metadata": {},
   "source": [
    "<div style=\"border-left: 3px solid #000; padding: 1px; padding-left: 10px; background: #f69cf7; \">\n",
    "SdV: What am I looking at in this figure? "
   ]
  },
  {
   "cell_type": "markdown",
   "id": "2150fe2b",
   "metadata": {},
   "source": [
    "<div style=\"border-left: 3px solid #000; padding: 1px; padding-left: 10px; background: #F0FAFF; \">\n",
    "\n",
    "We can quickly look at the slices in each channel using plotSlice or all channels together in plotBlend.  \n",
    "      \n",
    "(to do: might be worth just putting the plotSlice and plotBlend code in here and then resorting the parameter order so they are the same)"
   ]
  },
  {
   "cell_type": "code",
   "execution_count": null,
   "id": "8d80df5d",
   "metadata": {
    "tags": []
   },
   "outputs": [
    {
     "name": "stdout",
     "output_type": "stream",
     "text": [
      "Grabbing volumes for level: 3\n",
      "Plotting sagittal axis, secion: 3600 (level 3 index: 450)\n"
     ]
    }
   ],
   "source": [
    "x.plotSlice(ch = \"561\", plane=\"sagittal\", level = 3, section = 3600) \n"
   ]
  },
  {
   "cell_type": "code",
   "execution_count": null,
   "id": "e9647586",
   "metadata": {},
   "outputs": [],
   "source": [
    "x.plotBlend(plane = \"sagittal\", section = 3600, level = 3, ticks = True)\n"
   ]
  },
  {
   "cell_type": "markdown",
   "id": "a84fd8ca",
   "metadata": {},
   "source": [
    "<div style=\"border-left: 3px solid #000; padding: 1px; padding-left: 10px; background: #F0FAFF; \">\n",
    "\n",
    "Neuroglancer link to browse through the data in 3D \n",
    "    \n",
    "(note: we won't use this once we can upload metadata into a df)"
   ]
  },
  {
   "cell_type": "code",
   "execution_count": 26,
   "id": "47727534",
   "metadata": {},
   "outputs": [
    {
     "name": "stdout",
     "output_type": "stream",
     "text": [
      "https://aind-neuroglancer-sauujisjxq-uw.a.run.app#!s3://aind-open-data/SmartSPIM_698035_2023-10-24_18-38-40_stitched_2023-10-28_20-52-51/neuroglancer_config.json\n"
     ]
    }
   ],
   "source": [
    "x.getNGLink()"
   ]
  },
  {
   "cell_type": "markdown",
   "id": "040341f7",
   "metadata": {},
   "source": [
    "<div style=\"border-left: 3px solid #000; padding: 1px; padding-left: 10px; background: #F0FAFF; \">\n",
    "\n",
    "The getCellsCCF function will load the spatial coordinates of the detected cells in each channel. Note that these coordinates are transformed into CCF space.<br><br>"
   ]
  },
  {
   "cell_type": "code",
   "execution_count": 27,
   "id": "6feaadc0",
   "metadata": {
    "tags": []
   },
   "outputs": [
    {
     "data": {
      "text/plain": [
       "array([[  1,   1,  76],\n",
       "       [  1,   1,  76],\n",
       "       [  1,   1,  72],\n",
       "       ...,\n",
       "       [527, 319, 298],\n",
       "       [527, 319, 299],\n",
       "       [527, 319, 301]])"
      ]
     },
     "execution_count": 27,
     "metadata": {},
     "output_type": "execute_result"
    }
   ],
   "source": [
    "cellLocs = x.getCellsCCF([\"445\", \"561\"])\n",
    "\n",
    "cellLocs[\"445\"]"
   ]
  },
  {
   "cell_type": "markdown",
   "id": "adbd43ef",
   "metadata": {},
   "source": [
    "<div style=\"border-left: 3px solid #000; padding: 1px; padding-left: 10px; background: #F0FAFF; \">\n",
    "\n",
    "#### Section 2: Quantify cell counts in each thalamic sub-region  \n",
    "    \n",
    "We can cross-reference the spatial coordinates of the detected cells in our dataset to the CCF reference brain atlas and identify which brain regions our cells are in. Here, we use brainglobe_atlasapi to import the Allen Mouse Brain Atlas (25um resolution) and identify the spatial bounds of our brain regions of interest. You can use the same approach to target other brain regions by acronym. More details on CCF and the brain region hierarchy here. (to do: point to CCF content. e.g.https://allenswdb.github.io/background/CCF.html?highlight=ccf ) \n",
    "\n"
   ]
  },
  {
   "cell_type": "code",
   "execution_count": 28,
   "id": "93affa26",
   "metadata": {},
   "outputs": [],
   "source": [
    "def generate_region_mask(atlas, roiList):     \n",
    "    \"\"\"\n",
    "    Generates a boolean array of entire brain space, with brain region ROI's == True to generate spatial mask. \n",
    "    \n",
    "    Parameters: \n",
    "    -----------\n",
    "    roiList : list \n",
    "        List of brain region acronyms (e.g. [\"MD, PT\"])\n",
    "        \n",
    "    \n",
    "    Returns: \n",
    "    --------\n",
    "    roiMask : array\n",
    "        Array the size of the CCF brain template. Spatial coordinates of brain region ROI's == True\n",
    "        \n",
    "    \"\"\" \n",
    "    idList = [atlas.structures[roi]['id'] for roi in roiList] # converts brain region acronym to CCF number id \n",
    "    counter = 0 \n",
    "\n",
    "    for id in idList:\n",
    "        if counter == 0:\n",
    "            roiMask = atlas.get_structure_mask(id).astype('bool') \n",
    "            counter = counter + 1 \n",
    "\n",
    "        else: \n",
    "            roiMask = np.logical_or.reduce([roiMask, atlas.get_structure_mask(id).astype('bool')]) # iterates through rois, converting each position in the mask to True if it falls within any region mask \n",
    "            counter = counter + 1\n",
    "\n",
    "    roiMask[:, :, 0:220] = False # ignore left hemisphere (half width of ML axis is 228, can revisit exact cutoff)\n",
    "\n",
    "    return roiMask  \n",
    "\n",
    "def mask_cells(cellLocs_ch):\n",
    "    \"\"\" \n",
    "    Truncates the array of cell locations to those within the brain region ROI's.\n",
    "    \n",
    "    Parameters: \n",
    "    -----------\n",
    "    cellLocs_ch : array \n",
    "        Array of the detected cell locations in a single channel (e.g. cellLocs[\"561\"])\n",
    "        \n",
    "    \n",
    "    Returns: \n",
    "    --------\n",
    "    maskCells : array \n",
    "        Array of detected cell locations within the brain region ROI's \n",
    "    \"\"\"\n",
    "    # grab the cell locations for a single channel \n",
    "    locCells = cellLocs_ch\n",
    "    \n",
    "    # check if cell index is within mask of requested ROIs\n",
    "    cellInMask = np.zeros(len(locCells), dtype = 'bool')\n",
    "    for i, pos in enumerate(locCells):\n",
    "        cellInMask[i] = roiMask[pos[0], pos[1], pos[2]]\n",
    "\n",
    "    maskCells = locCells[cellInMask] # apply brain region mask \n",
    "    \n",
    "    return maskCells\n",
    "    \n",
    "def count_cells_by_region(maskCells, annot):\n",
    "    \"\"\" \n",
    "    Counts the cells in each brain region. \n",
    "    \n",
    "    Parameters: \n",
    "    -----------\n",
    "    maskCells : array \n",
    "        Array of detected cell locations within the brain region ROI's  \n",
    "    atlas : object \n",
    "        Allen Mouse Atlas object pulled using BrainGlobeAtlas \n",
    "        \n",
    "        \n",
    "    Returns: \n",
    "    --------\n",
    "    String of cell counts in each brain region \n",
    "    \"\"\"\n",
    "    annot = atlas.annotation # creates an empty array the size of the brain volume \n",
    "    uniqVals, valCounts = np.unique(annot[maskCells[:,0], maskCells[:,1], maskCells[:,2]], return_counts=True)\n",
    "\n",
    "    for count, name in enumerate(uniqVals):\n",
    "         print(str(atlas.structures[name]['acronym']) + \" \" + str(valCounts[count]))\n",
    "\n"
   ]
  },
  {
   "cell_type": "markdown",
   "id": "d6a7ebe8",
   "metadata": {},
   "source": [
    "<div style=\"border-left: 3px solid #000; padding: 1px; padding-left: 10px; background: #F0FAFF; \">\n",
    "\n",
    "This section uses a set of functions to:  \n",
    "1. create an array the size of the brain volume, with the brain regions of interest masked out \n",
    "2. get the cells within the brain regions \n",
    "3. count how many cells are in each region "
   ]
  },
  {
   "cell_type": "code",
   "execution_count": 30,
   "id": "e0c969cc",
   "metadata": {},
   "outputs": [
    {
     "name": "stdout",
     "output_type": "stream",
     "text": [
      "PT 435\n",
      "IMD 223\n",
      "PVT 1411\n",
      "MD 1045\n",
      "CL 29\n",
      "CM 303\n",
      "PCN 9\n",
      "IAD 460\n"
     ]
    }
   ],
   "source": [
    "atlasapi.config.write_config_value('brainglobe_dir', '/data/.brainglobe') # points to allen mouse atlases pre-loaded in data folder \n",
    "\n",
    "atlas = BrainGlobeAtlas('allen_mouse_25um', check_latest = False) # load CCF mouse brain atlas, 25um resolution \n",
    "roiList = [\"MD\",\"PT\",\"IAD\",\"PVT\",\"IMD\",\"CM\",\"PCN\",\"CL\"] # list of thalamic sub-regions to target \n",
    "cellLocs_ch = cellLocs[\"561\"] # cell locations within one imaging channel \n",
    " \n",
    "roiMask = generate_region_mask(atlas, roiList) \n",
    "maskCells = mask_cells(cellLocs_ch) \n",
    "count_cells_by_region(maskCells, atlas) "
   ]
  },
  {
   "cell_type": "markdown",
   "id": "640caec9",
   "metadata": {},
   "source": [
    "<div style=\"border-left: 3px solid #000; padding: 1px; padding-left: 10px; background: #F0FAFF; \">\n",
    "\n",
    "#### Section 4: How are targeted cells in the thalamus spatially organized?<br> \n",
    "    \n",
    "We will use different plotting tools to assess the spatial organization of the cells in each region. "
   ]
  },
  {
   "cell_type": "code",
   "execution_count": 31,
   "id": "0bfe321d",
   "metadata": {},
   "outputs": [],
   "source": [
    "# Restructures data to separate cells by brain region\n",
    "\n",
    "annot = atlas.annotation \n",
    "uniqVals, valCounts = np.unique(annot[maskCells[:,0], maskCells[:,1], maskCells[:,2]], return_counts=True)\n",
    "cellCCF = annot[maskCells[:,0], maskCells[:,1], maskCells[:,2]]\n",
    "structDict = {}\n",
    "for name in uniqVals:\n",
    "    isStruct = cellCCF == name\n",
    "    structDict[atlas.structures[name]['acronym']] = isStruct\n",
    "    "
   ]
  },
  {
   "cell_type": "markdown",
   "id": "dee5259a",
   "metadata": {},
   "source": [
    "<div style=\"border-left: 3px solid #000; padding: 1px; padding-left: 10px; background: #F0FAFF; \">\n",
    "\n",
    "to do: add some context here about the importance of anterior-posterior organization   \n",
    "      \n",
    "    "
   ]
  },
  {
   "cell_type": "code",
   "execution_count": 34,
   "id": "bfb935a6-eac2-4bd0-8c36-7eb1c45733f5",
   "metadata": {},
   "outputs": [
    {
     "data": {
      "image/png": "[encoded data removed]",
      "text/plain": [
       "<Figure size 640x480 with 1 Axes>"
      ]
     },
     "metadata": {},
     "output_type": "display_data"
    }
   ],
   "source": [
    "# Violin plots showing the spread of the cells across the anterior-posterior axis in each sub-region \n",
    "\n",
    "plt.figure()\n",
    "a = 1\n",
    "b = []\n",
    "c = []\n",
    "for key, val in structDict.items():\n",
    "    plt.violinplot(maskCells[val,0]*25, positions=[a], widths = 1)\n",
    "    b.extend([a])\n",
    "    c.extend([key])\n",
    "    a = a + 1\n",
    "plt.ylabel(\"AP Position (um)\")\n",
    "plt.xticks(b,c);"
   ]
  },
  {
   "cell_type": "code",
   "execution_count": 16,
   "id": "f521434f-e681-49a5-9789-06590f015e30",
   "metadata": {},
   "outputs": [
    {
     "data": {
      "image/png": "[encoded data removed]",
      "text/plain": [
       "<Figure size 640x480 with 2 Axes>"
      ]
     },
     "metadata": {},
     "output_type": "display_data"
    }
   ],
   "source": [
    "# Heatmap depicting 2D spatial histogram of cell locations \n",
    "\n",
    "# to do - what are axes labels? \n",
    "\n",
    "bin_egdes = np.arange(0,80,1)\n",
    "plt.hist2d(maskCells[:,0]-220, maskCells[:,1]-120, bin_egdes)\n",
    "plt.colorbar();"
   ]
  },
  {
   "cell_type": "code",
   "execution_count": 17,
   "id": "b82173ed-1885-4c40-98be-b72db0ea560a",
   "metadata": {},
   "outputs": [
    {
     "data": {
      "image/png": "[encoded data removed]",
      "text/plain": [
       "<Figure size 640x480 with 2 Axes>"
      ]
     },
     "metadata": {},
     "output_type": "display_data"
    }
   ],
   "source": [
    "# Heatmap depicting 2D spatial histogram of cell locations \n",
    "bin_egdes = np.arange(0,80,1)\n",
    "plt.hist2d(maskCells[:,2]-220, maskCells[:,1]-120, bin_egdes)\n",
    "plt.colorbar()\n",
    "plt.ylabel(\"DV\")\n",
    "plt.xlabel(\"ML\");"
   ]
  },
  {
   "cell_type": "markdown",
   "id": "aabe9759",
   "metadata": {},
   "source": [
    "<div style=\"border-left: 3px solid #000; padding: 1px; padding-left: 10px; background: #F0FAFF; \">\n",
    "\n",
    "   to do: need to add axes labels and add more context on this figure  \n"
   ]
  },
  {
   "cell_type": "code",
   "execution_count": 35,
   "id": "e714fa4d",
   "metadata": {},
   "outputs": [
    {
     "data": {
      "text/plain": [
       "<matplotlib.legend.Legend at 0x7fd9748e33a0>"
      ]
     },
     "execution_count": 35,
     "metadata": {},
     "output_type": "execute_result"
    },
    {
     "data": {
      "image/png": "[encoded data removed]",
      "text/plain": [
       "<Figure size 640x480 with 1 Axes>"
      ]
     },
     "metadata": {},
     "output_type": "display_data"
    }
   ],
   "source": [
    "# Sort each cell into CCF structures\n",
    "\n",
    "plt.ecdf(maskCells[structDict[\"PVT\"],0]*25, label = \"PVT\")\n",
    "plt.ecdf(maskCells[structDict[\"MD\"],0]*25, label = \"MD\")\n",
    "plt.ecdf(maskCells[structDict[\"PCN\"],0]*25, label = \"PCN\")\n",
    "plt.legend()"
   ]
  },
  {
   "cell_type": "markdown",
   "id": "e17a826c",
   "metadata": {},
   "source": [
    "<div style=\"border-left: 3px solid #000; padding: 1px; padding-left: 10px; background: #F0FAFF; \">\n",
    "\n",
    "#### Section 5: Import metadata and analyze multiple datasets<br>\n",
    "    \n",
    "Now, let's look at the data from multiple brains and channels. \n",
    "\n",
    "(to do: waiting until we can import metadata/qc information. for now, i've uploaded a few data assets to test the batch processing code) "
   ]
  },
  {
   "cell_type": "code",
   "execution_count": 16,
   "id": "24e0f415-8a30-46d1-8708-e3d505f1c160",
   "metadata": {},
   "outputs": [],
   "source": [
    "# ccfCoordDict = {685903: {'445': [171, 66, 284], '488': [162, 61, 248], '561': [157, 80, 267]},\n",
    "#                 698035: {'445': [115, 120, 287], '488': [100, 127, 236], '561': [133, 133, 232]},\n",
    "#                 689238: {'445': [126, 92, 259], '488': [127, 84, 271], '561': [122, 138, 237]},\n",
    "#                 691387: {'445': [94, 117, 279], '488': [103, 124, 295], '561': [103, 131, 314]},\n",
    "#                 691388: {'445': [107, 126, 259], '488': [99, 130, 274], '561': [102, 112, 238]},\n",
    "#                 694512: {'445': [142, 101, 237], '488': [154, 75, 254], '561': [157, 89, 238]},\n",
    "#                 695721: {'445': [107, 98, 255], '488': [144, 85, 258], '561': [129, 89, 254]},\n",
    "#                 696668: {'561': [161, 82, 241]},\n",
    "#                 684812: {'445': [166, 65, 197], '488': [166, 70, 265], '561': [167, 85, 240]},\n",
    "#                 684821: {'488': [119, 100, 266], '561': [121, 98, 298]},\n",
    "#                 689237: {'445': [139, 96, 244], '561': [140, 86, 295]},\n",
    "#                 696669: {'445': [141, 87, 289], '561': [105, 113, 287]},\n",
    "#                 693977: {'488': [154, 93, 268], '561': [93, 139, 240]},\n",
    "#                 698927: {'488': [104, 128, 295], '561': [95, 117, 245]},\n",
    "#                 698928: {'488': [146, 138, 232], '561': [145, 88, 271]},\n",
    "#                 693979: {'488': [164, 91, 239], '561': [154, 95, 264]},\n",
    "#                 693980: {'488': [120, 139, 293], '561': [115, 101, 286]},\n",
    "#                 692909: {'561': [122, 132, 294]},\n",
    "#                 692907: {'561': [115, 112, 244]},\n",
    "#                 692912: {'561': [152, 131, 245]},\n",
    "#                 692911: {'561': [123, 127, 294]},\n",
    "#                 701750: {'561': [150, 142, 243]},\n",
    "#                 701751: {'561': [105, 126, 284]},\n",
    "#                 701754: {'561': [146, 80, 255]},\n",
    "#                 721832: {'488': [120, 145, 306]}} #manually annotated, estimate injection site later\n",
    "\n",
    "# virusDict = {685903:'AAVrg-XFP',\n",
    "#              # 698034:'AAVrg',\n",
    "#              698035:'AAVrg-XFP',\n",
    "#              689238:'AAVrg-XFP',\n",
    "#              691387:'AAVrg-XFP',\n",
    "#              691388:'AAVrg-XFP',\n",
    "#              694512:'AAVrg-XFP',\n",
    "#              695721:'AAVrg-XFP',\n",
    "#              696668:'AAVrg-XFP',\n",
    "#              684812:'AAVrg-XFP',\n",
    "#              684821:'AAVrg-XFP',\n",
    "#              689237:'AAVrg-XFP',\n",
    "#              696669:'AAVrg-XFP',\n",
    "#              693977:\"RabV-XFP\",\n",
    "#              698927:\"RabV-XFP\",\n",
    "#              698928:\"RabV-XFP\",\n",
    "#              693979:\"RabV-XFP\",\n",
    "#              693980:\"RabV-XFP\",\n",
    "#              692909:\"AAVrg-Recombinase\",\n",
    "#              692907:\"AAVrg-Recombinase\",\n",
    "#              692912:\"AAVrg-Recombinase\",\n",
    "#              692911:\"AAVrg-Recombinase\",\n",
    "#              685110:\"AAVrg-Recombinase\",\n",
    "#              701750:\"RabV-Recombinase\",\n",
    "#              701751:\"RabV-Recombinase\",\n",
    "#              701754:\"RabV-Recombinase\",\n",
    "#              721832:\"AAVrg-XFP\"\n",
    "#             }"
   ]
  },
  {
   "cell_type": "code",
   "execution_count": 37,
   "id": "d37b90db",
   "metadata": {},
   "outputs": [],
   "source": [
    "# suyee: placeholder until we get metadata/qc access. only working with a few data assets to test my code since i converted to using brainglobeatlas\n",
    "\n",
    "ccfCoordDict = {698035: {'445': [115, 120, 287], '488': [100, 127, 236], '561': [133, 133, 232]},\n",
    "                691388: {'445': [107, 126, 259], '488': [99, 130, 274], '561': [102, 112, 238]}} #manually annotated, estimate injection site later\n",
    "\n",
    "virusDict = {698035:'AAVrg-XFP',\n",
    "             691388:'AAVrg-XFP'}"
   ]
  },
  {
   "cell_type": "code",
   "execution_count": 20,
   "id": "ac3c4dba",
   "metadata": {},
   "outputs": [
    {
     "name": "stdout",
     "output_type": "stream",
     "text": [
      "Loading data from ../data/SmartSPIM_698035_2023-10-24_18-38-40_stitched_2023-10-28_20-52-51/image_tile_fusing/OMEZarr\n",
      "Found the following channels: ['445', '488', '561', '639']\n",
      "Found cell segmentations in the following channels: ['445', '488', '561']\n",
      "Found CCF aligned quantifications in the following channels: ['445', '488', '561']\n",
      "Grabbing volumes for level: 3\n",
      "Loading data from ../data/SmartSPIM_691388_2023-09-16_03-45-18_stitched_2023-09-20_23-25-37/image_tile_fusing/OMEZarr\n",
      "Found the following channels: ['445', '488', '561', '639']\n",
      "Found cell segmentations in the following channels: ['445', '488', '561']\n",
      "Found CCF aligned quantifications in the following channels: ['445', '488', '561']\n",
      "Grabbing volumes for level: 3\n"
     ]
    }
   ],
   "source": [
    "# Define our mouse brain atlas and brain regions of interest again \n",
    "\n",
    "atlas = BrainGlobeAtlas('allen_mouse_25um', check_latest = False) # load CCF mouse brain atlas, 25um resolution \n",
    "roiList = [\"MD\",\"PT\",\"IAD\",\"PVT\",\"IMD\",\"CM\",\"PCN\",\"CL\"] # list of thalamic sub-regions to target \n",
    "\n",
    "# iterate through all of the mouse IDs and grab the detected cell locations in each channel \n",
    "\n",
    "cellDict = {}\n",
    "for sample in ccfCoordDict.keys():\n",
    "    brainObj = load_data(sample, level=3)\n",
    "    chList = list(brainObj.ccfCellsPaths.keys())\n",
    "    cellLocs = brainObj.getCellsCCF(chList)\n",
    "    \n",
    "    for channel in ccfCoordDict[sample].keys():\n",
    "        cellLocs_ch = cellLocs[channel]\n",
    "        cellDict[str(sample) + \" \" + channel] = mask_cells(cellLocs_ch)\n",
    "        "
   ]
  },
  {
   "cell_type": "markdown",
   "id": "8b01b3f9",
   "metadata": {},
   "source": [
    "<div style=\"border-left: 3px solid #000; padding: 1px; padding-left: 10px; background: #F0FAFF; \">\n",
    "\n",
    "Now, we have a dictionary that contains the cell locations for each channel imaged and processed for each mouse ID. "
   ]
  },
  {
   "cell_type": "code",
   "execution_count": 21,
   "id": "7b17d50a-298a-42be-b2db-356be038e2b6",
   "metadata": {},
   "outputs": [
    {
     "name": "stdout",
     "output_type": "stream",
     "text": [
      "698035 445: 2473\n",
      "698035 488: 4380\n",
      "698035 561: 3915\n",
      "691388 445: 6785\n",
      "691388 488: 4699\n",
      "691388 561: 3656\n"
     ]
    }
   ],
   "source": [
    "for key, val in cellDict.items():\n",
    "    print(key + \": \" + str(len(val)))"
   ]
  },
  {
   "cell_type": "code",
   "execution_count": 38,
   "id": "82a52abf",
   "metadata": {},
   "outputs": [],
   "source": [
    "# stopping here for now "
   ]
  },
  {
   "cell_type": "code",
   "execution_count": null,
   "id": "f3c118ad",
   "metadata": {},
   "outputs": [],
   "source": []
  },
  {
   "cell_type": "code",
   "execution_count": null,
   "id": "960074aa",
   "metadata": {},
   "outputs": [],
   "source": []
  },
  {
   "cell_type": "code",
   "execution_count": null,
   "id": "6cf4d814",
   "metadata": {},
   "outputs": [],
   "source": []
  },
  {
   "cell_type": "code",
   "execution_count": 22,
   "id": "8a79d261-5b6a-46f7-955b-b0855c19f0e8",
   "metadata": {},
   "outputs": [
    {
     "data": {
      "text/plain": [
       "<matplotlib.legend.Legend at 0x7fd96eadadd0>"
      ]
     },
     "execution_count": 22,
     "metadata": {},
     "output_type": "execute_result"
    },
    {
     "data": {
      "image/png": "[encoded data removed]",
      "text/plain": [
       "<Figure size 640x480 with 1 Axes>"
      ]
     },
     "metadata": {},
     "output_type": "display_data"
    }
   ],
   "source": [
    "for key, val in cellDict.items():\n",
    "    if len(val) > 100:\n",
    "        plt.ecdf(val[:,0]*25, label = key)\n",
    "plt.legend()"
   ]
  },
  {
   "cell_type": "code",
   "execution_count": 23,
   "id": "13912839-4cfc-4022-a228-3de1167611f3",
   "metadata": {},
   "outputs": [
    {
     "data": {
      "image/png": "[encoded data removed]",
      "text/plain": [
       "<Figure size 640x480 with 1 Axes>"
      ]
     },
     "metadata": {},
     "output_type": "display_data"
    }
   ],
   "source": [
    "plt.figure()\n",
    "a = 1\n",
    "b = []\n",
    "c = []\n",
    "for key, val in cellDict.items():\n",
    "    if len(val) > 800:\n",
    "        plt.violinplot(val[:,0]*25, positions=[a], widths = len(val)/6785)\n",
    "        b.extend([a])\n",
    "        c.extend([key])\n",
    "        a = a + 1\n",
    "plt.ylabel(\"AP Position (um)\")\n",
    "plt.xticks(b,c);"
   ]
  },
  {
   "cell_type": "code",
   "execution_count": null,
   "id": "65515e2e-f400-4421-901b-344dee693668",
   "metadata": {},
   "outputs": [],
   "source": [
    "#reshape the cellDict w/ the cell locations into a pandas dataframe \n",
    "\n",
    "pd.DataFrame.from_dict(cellDict, orient = \"index\")"
   ]
  },
  {
   "cell_type": "code",
   "execution_count": null,
   "id": "91d52767-035e-473f-ab0a-f85e780bdea1",
   "metadata": {},
   "outputs": [],
   "source": [
    "cellDict[\"698035 561\"].shape"
   ]
  },
  {
   "cell_type": "code",
   "execution_count": null,
   "id": "dd149c3c-6732-4e6d-89f4-90ebd86a9244",
   "metadata": {},
   "outputs": [],
   "source": [
    "np.vstack(cellDict.values())"
   ]
  },
  {
   "cell_type": "code",
   "execution_count": null,
   "id": "7dc0db06-2a63-44ab-9085-8daf587bbaf5",
   "metadata": {},
   "outputs": [],
   "source": [
    "stackCells = np.vstack(cellDict.values())\n",
    "# stackCells = np.vstack((cellDict[\"689238 561\"],cellDict[\"689238 488\"]))\n",
    "stepSize = 1\n",
    "x_bin_edges = np.arange(0,50,stepSize)\n",
    "y_bin_edges = np.arange(0,70,stepSize)\n",
    "plt.hist2d(stackCells[:,2]-220, stackCells[:,1]-120, (x_bin_edges, y_bin_edges))\n",
    "plt.gca().invert_yaxis()\n",
    "plt.colorbar()\n",
    "plt.ylabel(\"DV\")\n",
    "plt.xlabel(\"ML\")\n",
    "plt.savefig(\"../results/coronal hist.png\",dpi=300)"
   ]
  },
  {
   "cell_type": "code",
   "execution_count": null,
   "id": "ada54e49-56ad-408c-babc-cfe91a5be1df",
   "metadata": {},
   "outputs": [],
   "source": [
    "i = 2\n",
    "expList = list(cellDict.keys())\n",
    "stackCells = cellDict[expList[i]]\n",
    "x_bin_edges = np.arange(0,50,stepSize)\n",
    "y_bin_edges = np.arange(0,70,stepSize)\n",
    "bin_egdes = np.arange(0,80,1)\n",
    "plt.hist2d(stackCells[:,2]-220, stackCells[:,1]-120, (x_bin_edges, y_bin_edges))\n",
    "plt.gca().invert_yaxis()\n",
    "plt.colorbar()\n",
    "plt.title(expList[i])\n",
    "plt.ylabel(\"DV\")\n",
    "plt.xlabel(\"ML\");\n",
    "plt.savefig(\"../results/hist ex 3.png\",dpi=300, transparent=True)"
   ]
  },
  {
   "cell_type": "code",
   "execution_count": null,
   "id": "14e53d30-cd49-4508-8464-5337b583c5aa",
   "metadata": {},
   "outputs": [],
   "source": [
    "stackCells = np.vstack(cellDict.values())\n",
    "# stackCells = np.vstack((cellDict[\"689238 561\"],cellDict[\"689238 488\"]))\n",
    "stepSize = 1\n",
    "x_bin_edges = np.arange(0,50,stepSize)\n",
    "y_bin_edges = np.arange(0,70,stepSize)\n",
    "plt.hist2d(stackCells[:,2]-220, stackCells[:,1]-120, (x_bin_edges, y_bin_edges), cmap = 'viridis')\n",
    "plt.gca().invert_yaxis()\n",
    "# Set the color of the axes to white\n",
    "plt.gca().spines['bottom'].set_color('white')\n",
    "plt.gca().spines['top'].set_color('white') \n",
    "plt.gca().spines['right'].set_color('white')\n",
    "plt.gca().spines['left'].set_color('white')\n",
    "\n",
    "# Set the color of the ticks to white\n",
    "plt.tick_params(axis='x', colors='white')\n",
    "plt.tick_params(axis='y', colors='white')\n",
    "\n",
    "# set colorbar label plus label color\n",
    "cb = plt.colorbar()\n",
    "cb.set_label('Cell count', color='white')\n",
    "\n",
    "# set colorbar tick color\n",
    "cb.ax.yaxis.set_tick_params(color='white')\n",
    "\n",
    "# set colorbar edgecolor \n",
    "cb.outline.set_edgecolor('white')\n",
    "\n",
    "# set colorbar ticklabels\n",
    "plt.setp(plt.getp(cb.ax.axes, 'yticklabels'), color='white')\n",
    "plt.savefig(\"../results/coronal hist.png\",dpi=300, transparent =True)"
   ]
  },
  {
   "cell_type": "code",
   "execution_count": null,
   "id": "2d62021f-dde8-4971-b0a0-79903665de74",
   "metadata": {},
   "outputs": [],
   "source": [
    "stackCells = np.vstack(cellDict.values())\n",
    "# stackCells = np.vstack((cellDict[\"689238 561\"],cellDict[\"689238 488\"]))\n",
    "bin_egdes = np.arange(0,80,1)\n",
    "plt.hist2d(stackCells[:,0]-220, stackCells[:,1]-120, bin_egdes, cmap = \"viridis\")\n",
    "plt.gca().invert_yaxis()\n",
    "\n",
    "# Set the color of the axes to white\n",
    "plt.gca().spines['bottom'].set_color('white')\n",
    "plt.gca().spines['top'].set_color('white') \n",
    "plt.gca().spines['right'].set_color('white')\n",
    "plt.gca().spines['left'].set_color('white')\n",
    "\n",
    "# Set the color of the ticks to white\n",
    "plt.tick_params(axis='x', colors='white')\n",
    "plt.tick_params(axis='y', colors='white')\n",
    "\n",
    "# set colorbar label plus label color\n",
    "cb = plt.colorbar()\n",
    "cb.set_label('Cell count', color='white')\n",
    "\n",
    "# set colorbar tick color\n",
    "cb.ax.yaxis.set_tick_params(color='white')\n",
    "\n",
    "# set colorbar edgecolor \n",
    "cb.outline.set_edgecolor('white')\n",
    "\n",
    "# set colorbar ticklabels\n",
    "plt.setp(plt.getp(cb.ax.axes, 'yticklabels'), color='white')\n",
    "\n",
    "plt.savefig(\"../results/sagittal hist.png\",dpi=300, transparent=True)"
   ]
  },
  {
   "cell_type": "code",
   "execution_count": null,
   "id": "b60b3613-ac03-45b0-a5e2-98b62783a79d",
   "metadata": {},
   "outputs": [],
   "source": [
    "plt.figure(dpi=300)\n",
    "bin_egdes = np.arange(0,80,1)\n",
    "nExps = len(cellDict)\n",
    "nRow = int(np.floor(np.sqrt(nExps)))\n",
    "nCol = int(np.ceil(nExps / nRow))\n",
    "for i, items in enumerate(cellDict.items(), 1):\n",
    "    key, val = items\n",
    "    plt.subplot(nRow,nCol,i)\n",
    "    plt.hist2d(val[:,2]-220, val[:,1]-120, bin_egdes)\n",
    "    plt.colorbar()\n",
    "    plt.title(key)\n",
    "    plt.ylabel(\"DV\")\n",
    "    plt.xlabel(\"ML\")\n",
    "    # plt.rc('font',**{\"size\": 3})\n",
    "    plt.tight_layout();"
   ]
  },
  {
   "cell_type": "markdown",
   "id": "3617027b-feee-4f9c-976b-d15e9c070d2e",
   "metadata": {},
   "source": [
    "## Try NMF"
   ]
  },
  {
   "cell_type": "code",
   "execution_count": null,
   "id": "9673e0c2-3c3c-4c95-a430-45a418a2a438",
   "metadata": {},
   "outputs": [],
   "source": [
    "from sklearn.decomposition import NMF"
   ]
  },
  {
   "cell_type": "code",
   "execution_count": null,
   "id": "0ef0e3df-d875-46d0-b9f6-8e9223455202",
   "metadata": {},
   "outputs": [],
   "source": [
    "## Prepare data as an array of dictionaries\n",
    "expList = list(cellDict.keys())\n",
    "nExps = len(expList)\n",
    "stepSize = 1\n",
    "x_bin_edges = np.arange(0,50,stepSize)\n",
    "y_bin_edges = np.arange(0,70,stepSize)\n",
    "xLen = len(x_bin_edges)-1\n",
    "yLen = len(y_bin_edges)-1\n",
    "vectorSize = xLen*yLen # convert 2d array to vector\n",
    "histArray = np.empty((nExps,vectorSize))\n",
    "for i in range(nExps):\n",
    "    stackCells = cellDict[expList[i]]\n",
    "    a, xa, ya = np.histogram2d(stackCells[:,2]-220, stackCells[:,1]-120, (x_bin_edges, y_bin_edges)) # Coronal section\n",
    "    # a, xa, ya = np.histogram2d(stackCells[:,0]-220, stackCells[:,1]-120, (x_bin_edges, y_bin_edges)) # Sagittal section\n",
    "    histArray[i,:] = a.reshape(1,vectorSize)\n",
    "# plt.imshow(a.T, origin='lower')"
   ]
  },
  {
   "cell_type": "code",
   "execution_count": null,
   "id": "97d292f8-7b73-4633-8527-4aa975c59531",
   "metadata": {},
   "outputs": [],
   "source": [
    "i = 2\n",
    "# plt.imshow(histArray[i,:].reshape((xLen,yLen)).T, origin = \"lower\")\n",
    "plt.imshow(histArray[i,:].reshape((xLen,yLen)).T)"
   ]
  },
  {
   "cell_type": "code",
   "execution_count": null,
   "id": "edda1783-e0ef-4f8f-84ac-202754a555ca",
   "metadata": {},
   "outputs": [],
   "source": [
    "model = NMF(n_components=5, init='random', random_state=0)\n",
    "W = model.fit_transform(histArray)\n",
    "H = model.components_"
   ]
  },
  {
   "cell_type": "code",
   "execution_count": null,
   "id": "7a2788da-5735-449d-a3f0-eeef1545ce32",
   "metadata": {},
   "outputs": [],
   "source": [
    "i = 0\n",
    "# plt.imshow(H[i,:].reshape((xLen,yLen)).T, origin = \"lower\")\n",
    "plt.imshow(H[i,:].reshape((xLen,yLen)).T)"
   ]
  },
  {
   "cell_type": "code",
   "execution_count": null,
   "id": "90676e9a-fe4c-4089-8f68-8d44df4f8c9c",
   "metadata": {},
   "outputs": [],
   "source": [
    "for i in range(5):\n",
    "    plt.figure()\n",
    "    # plt.imshow(H[i,:].reshape((xLen,yLen)).T, origin = \"lower\")\n",
    "    plt.imshow(H[i,:].reshape((xLen,yLen)).T)\n",
    "    fn = \"../results/component \" + str(i) + \".svg\"\n",
    "    plt.savefig(fn,dpi=300)"
   ]
  },
  {
   "cell_type": "code",
   "execution_count": null,
   "id": "d12d03a0-29a8-4b09-9693-c6838646fe61",
   "metadata": {},
   "outputs": [],
   "source": [
    "vars(model)"
   ]
  },
  {
   "cell_type": "code",
   "execution_count": null,
   "id": "e1d1651e-2c30-4b1d-ba30-797af6903c39",
   "metadata": {},
   "outputs": [],
   "source": [
    "W.shape"
   ]
  },
  {
   "cell_type": "code",
   "execution_count": null,
   "id": "5bf279a3-ce8e-40d8-b195-c27486a5a2e8",
   "metadata": {},
   "outputs": [],
   "source": [
    "plt.figure()\n",
    "for i in range(W.shape[1]):\n",
    "    label = \"Component \" + str(i)\n",
    "    plt.plot(W[:,i],label=label)\n",
    "plt.legend()"
   ]
  },
  {
   "cell_type": "code",
   "execution_count": null,
   "id": "1d3d033b-0c82-4af3-b2bf-4a56efd87e31",
   "metadata": {},
   "outputs": [],
   "source": [
    "wHeldOut = W\n",
    "# wHeldOut[12,:] = 0\n",
    "np.argmax(W[:,0])\n",
    "list(cellDict.keys())[2]"
   ]
  },
  {
   "cell_type": "code",
   "execution_count": null,
   "id": "573fcc1d-6181-41ea-8545-d9268410491d",
   "metadata": {},
   "outputs": [],
   "source": [
    "np.argmax(W[:,4])\n",
    "list(cellDict.keys())[2]"
   ]
  },
  {
   "cell_type": "code",
   "execution_count": null,
   "id": "780fc6ee-2e6a-4391-b886-a7409ea6162b",
   "metadata": {},
   "outputs": [],
   "source": [
    "maxComponents = 20\n",
    "modelErr = np.zeros(maxComponents-1)\n",
    "norm = np.linalg.norm(histArray)\n",
    "for i in range(1,maxComponents):\n",
    "    model = NMF(n_components=i, init='random', random_state=0)\n",
    "    W = model.fit_transform(histArray)\n",
    "#     H = model.components_\n",
    "    modelErr[i-1] = model.reconstruction_err_"
   ]
  },
  {
   "cell_type": "code",
   "execution_count": null,
   "id": "13ca74ba-54b2-4579-bff6-83f90572f716",
   "metadata": {},
   "outputs": [],
   "source": [
    "plt.plot(np.arange(1,20),modelErr,'o-')\n",
    "plt.xticks(np.arange(0,21,5))\n",
    "plt.ylabel(\"Reconstruction Error\")\n",
    "plt.xlabel(\"Num. Components\")\n",
    "plt.savefig(\"../results/NMF Reconstruction Error.svg\",dpi=300)"
   ]
  },
  {
   "cell_type": "code",
   "execution_count": null,
   "id": "46de2930-2ae0-4a33-83b9-b4de52514ef0",
   "metadata": {},
   "outputs": [],
   "source": [
    "plt.figure()\n",
    "for i in range(W.shape[1]):\n",
    "    label = \"Component \" + str(i)\n",
    "    plt.plot(W[:,i],label=label)\n",
    "plt.legend()"
   ]
  },
  {
   "cell_type": "markdown",
   "id": "812e3c39-9ff2-4abe-814e-31e72f9e7fb3",
   "metadata": {},
   "source": [
    "## Construct dataframe for further analysis of NMF domains"
   ]
  },
  {
   "cell_type": "code",
   "execution_count": null,
   "id": "ad627bc0-13eb-4738-ba6b-605ff93fad31",
   "metadata": {},
   "outputs": [],
   "source": [
    "nComponents = 5\n",
    "model = NMF(n_components=nComponents, init='random', random_state=0)\n",
    "W = model.fit_transform(histArray)\n",
    "H = model.components_"
   ]
  },
  {
   "cell_type": "code",
   "execution_count": null,
   "id": "11b4dae4-1561-4227-b31f-43b653cfc177",
   "metadata": {},
   "outputs": [],
   "source": [
    "sampleList = []\n",
    "chList = []\n",
    "for count, name in enumerate(expList):\n",
    "    sampleList.append(np.int64(expList[count][0:6]))\n",
    "    chList.append(expList[count][7:])\n",
    "chList = np.array(chList)"
   ]
  },
  {
   "cell_type": "code",
   "execution_count": null,
   "id": "3ab50ca1",
   "metadata": {},
   "outputs": [],
   "source": [
    "# to do: need to update components of this since switching to brainglobe \n",
    "# this will also change when loading metadata "
   ]
  },
  {
   "cell_type": "code",
   "execution_count": null,
   "id": "f9692021-4bb4-42de-85d5-0123c24e63ad",
   "metadata": {},
   "outputs": [],
   "source": [
    "# Format dataframe\n",
    "ccfData = pd.DataFrame(ccfCoordDict).transpose()\n",
    "ccfData.insert(0,\"Sample\",ccfData.index)\n",
    "ccfData = ccfData.melt(id_vars=\"Sample\", var_name = \"Channel\", value_name=\"CCF Coord\")\n",
    "ccfData = ccfData.dropna(axis = 0, how = \"any\")\n",
    "# Re-establish index\n",
    "ccfData.index = ccfData.Sample\n",
    "ccfData = ccfData.drop(columns = \"Sample\")\n",
    "\n",
    "# Add virus dictionary\n",
    "ccfData.insert(2,\"Virus\",np.nan)\n",
    "ccfData.insert(3,\"Payload\",np.nan)\n",
    "ccfData.insert(4,\"Capsid\",np.nan)\n",
    "for sample, virus in virusDict.items():\n",
    "    ccfData.loc[sample,[\"Virus\",\"Payload\",\"Capsid\"]] = [virus, virus.split('-')[1], virus.split('-')[0]]\n",
    "\n",
    "# Get coordinates for projection\n",
    "ccfCoords = np.array(list(ccfData[\"CCF Coord\"]))\n",
    "\n",
    "# Get CCF Structure\n",
    "ccfData.insert(5,\"CCF Struct\",np.nan)\n",
    "ccfData.insert(6,\"CCF Parent\",np.nan)\n",
    "coordMap = structure_tree.get_structures_by_id(annot[ccfCoords[:,0],ccfCoords[:,1],ccfCoords[:,2]])\n",
    "for count, structDict in enumerate(coordMap):\n",
    "    ccfData[\"CCF Struct\"].iloc[count] = structDict[\"acronym\"]\n",
    "    ccfData[\"CCF Parent\"].iloc[count] = acronymMap[structDict[\"structure_id_path\"][-2]] # get next level parent acronym\n",
    "    \n",
    "# Add factor contribution. ccfData order is different from expList due to melt operation.\n",
    "# Trying to reconcile these here - may be more complicated than need be...\n",
    "nExps = len(sampleList)\n",
    "expIndx = np.empty(nExps, dtype = int)\n",
    "for count, sample in enumerate(zip(ccfData.index, ccfData.Channel)):\n",
    "    for i in range(nExps):\n",
    "        if (sample[0] == sampleList[i]) & (sample[1] == chList[i]):\n",
    "            expIndx[count] = i\n",
    "            break\n",
    "\n",
    "for i in range(nComponents):\n",
    "    field = \"Factor \" + str(i)\n",
    "    ccfData[field] = W[expIndx,i] / np.max(W[expIndx,i])"
   ]
  },
  {
   "cell_type": "code",
   "execution_count": null,
   "id": "1bd4d328-a68c-427c-a0bf-ffde11307818",
   "metadata": {},
   "outputs": [],
   "source": [
    "W[expIndx,0]"
   ]
  },
  {
   "cell_type": "code",
   "execution_count": null,
   "id": "9a8556aa-ead6-435a-a440-59fc6643d874",
   "metadata": {},
   "outputs": [],
   "source": [
    "nExps = len(sampleList)\n",
    "expIndx = np.empty(nExps, dtype = int)\n",
    "for count, sample in enumerate(zip(ccfData.index, ccfData.Channel)):\n",
    "    for i in range(nExps):\n",
    "        if (sample[0] == sampleList[i]) & (sample[1] == chList[i]):\n",
    "            expIndx[count] = i\n",
    "            break\n",
    "            # print(str(sampleList[i]) + ' ' + chList[i] + ' ' + str(i))\n",
    "    # print(sample[1])"
   ]
  },
  {
   "cell_type": "code",
   "execution_count": null,
   "id": "8c558db8-d372-44b3-a5ab-754f06391f57",
   "metadata": {},
   "outputs": [],
   "source": [
    "expIndx"
   ]
  },
  {
   "cell_type": "code",
   "execution_count": null,
   "id": "04c56a7c-a13d-47ff-a9e4-c4b2e201c7b3",
   "metadata": {},
   "outputs": [],
   "source": [
    "ccfData.head(5)"
   ]
  },
  {
   "cell_type": "code",
   "execution_count": null,
   "id": "befdea61-cacf-4974-9d7f-f88e906d583c",
   "metadata": {},
   "outputs": [],
   "source": [
    "plt.figure()\n",
    "for i in range(W.shape[1]):\n",
    "    label = \"Component \" + str(i)\n",
    "    plt.plot(W[:,i],label=label)\n",
    "plt.legend()"
   ]
  },
  {
   "cell_type": "code",
   "execution_count": null,
   "id": "632e9d71-67c9-4c28-afd0-2cf48a796187",
   "metadata": {},
   "outputs": [],
   "source": [
    "ccfData.head(5)"
   ]
  },
  {
   "cell_type": "code",
   "execution_count": null,
   "id": "fd22ad52-014d-455e-932c-a585f36e0726",
   "metadata": {},
   "outputs": [],
   "source": [
    "i = 2\n",
    "plt.figure(figsize = (12.8,4.8)) # size of 2 figures\n",
    "plt.subplot(1,2,1)\n",
    "plt.imshow(H[i,:].reshape((xLen,yLen)).T, cmap = \"viridis\")\n",
    "plt.axis('tight')\n",
    "plt.subplot(1,2,2)\n",
    "field = \"Factor \" + str(i)\n",
    "sns.stripplot(ccfData,x = \"CCF Parent\", y = field, color = \"gray\", order=[\"ACAd\",\"PL\",\"ILA\",\"FRP\",\"ORBm\",\"ORBl\",\"ORBvl\",\"MOs\",\"AId\"], s = 7, jitter = .2)\n",
    "# sns.despine()\n",
    "plt.axis('tight');"
   ]
  },
  {
   "cell_type": "markdown",
   "id": "ce9cb2a5-37cd-4082-a949-c805734dc1dd",
   "metadata": {},
   "source": [
    "## Try to add flatmap representations"
   ]
  },
  {
   "cell_type": "code",
   "execution_count": null,
   "id": "05b70553-6996-4e8b-b992-672f607a0ed6",
   "metadata": {},
   "outputs": [],
   "source": [
    "from pathlib import Path\n",
    "from allensdk.core.reference_space_cache import ReferenceSpaceCache\n",
    "import ccf_streamlines.projection as ccfproj\n",
    "output_dir = '../scratch/'\n",
    "# Establish reference space\n",
    "reference_space_key = 'annotation/ccf_2017'\n",
    "resolution = 25\n",
    "rspc = ReferenceSpaceCache(resolution, reference_space_key, manifest=Path(output_dir) / 'manifest.json')\n",
    "annot, annot_info = rspc.get_annotation_volume()\n",
    "structure_tree= rspc.get_structure_tree()\n",
    "rsp = rspc.get_reference_space()\n",
    "# Set up CCF structure lookup dicts\n",
    "idMap = structure_tree.get_id_acronym_map()\n",
    "acronymMap = {IDs:acronym for acronym, IDs in idMap.items()} # invert idMap"
   ]
  },
  {
   "cell_type": "code",
   "execution_count": null,
   "id": "a7832509",
   "metadata": {
    "scrolled": true
   },
   "outputs": [],
   "source": [
    "from allensdk.api import api\n",
    "apiObj = api.Api(\"../results\")\n",
    "apiObj.retrieve_file_over_http(\"http://download.alleninstitute.org/informatics-archive/current-release/mouse_ccf/cortical_coordinates/ccf_2017/ccf_streamlines_assets/view_lookup/flatmap_dorsal.h5\",\"../scratch/flatmap_dorsal.h5\")\n",
    "apiObj.retrieve_file_over_http(\"http://download.alleninstitute.org/informatics-archive/current-release/mouse_ccf/cortical_coordinates/ccf_2017/ccf_streamlines_assets/master_updated/labelDescription_ITKSNAPColor.txt\",\"../scratch/labelDescription_ITKSNAPColor.txt\")\n",
    "apiObj.retrieve_file_over_http(\"http://download.alleninstitute.org/informatics-archive/current-release/mouse_ccf/cortical_coordinates/ccf_2017/ccf_streamlines_assets/streamlines/closest_surface_voxel_lookup.h5\",\"../scratch/closest_surface_voxel_lookup.h5\")\n",
    "apiObj.retrieve_file_over_http(\"http://download.alleninstitute.org/informatics-archive/current-release/mouse_ccf/cortical_coordinates/ccf_2017/ccf_streamlines_assets/master_updated/flatmap_dorsal.nrrd\",\"../scratch/flatmap_dorsal.nrrd\")\n",
    "apiObj.retrieve_file_over_http(\"http://download.alleninstitute.org/informatics-archive/current-release/mouse_ccf/cortical_coordinates/ccf_2017/ccf_streamlines_assets/streamlines/surface_paths_10_v3.h5\",\"../scratch/surface_paths_10_v3.h5\")"
   ]
  },
  {
   "cell_type": "code",
   "execution_count": null,
   "id": "a45e6b7c-0f8b-417b-adc0-f68c9da767ff",
   "metadata": {},
   "outputs": [],
   "source": [
    "# Get flatmap boundaries\n",
    "bf_boundary_finder = ccfproj.BoundaryFinder(\n",
    "    projected_atlas_file=\"../scratch/flatmap_dorsal.nrrd\",\n",
    "    labels_file=\"../scratch/labelDescription_ITKSNAPColor.txt\",\n",
    ")\n",
    "\n",
    "# And we can get the right hemisphere boundaries that match up with\n",
    "# our projection if we specify the same configuration\n",
    "bf_right_boundaries = bf_boundary_finder.region_boundaries(\n",
    "    # we want the right hemisphere boundaries, but located in the right place\n",
    "    # to plot both hemispheres at the same time\n",
    "    hemisphere='right',\n",
    "\n",
    "    # we also want the hemispheres to be adjacent\n",
    "    view_space_for_other_hemisphere='flatmap_dorsal',\n",
    ")\n",
    "\n",
    "# Setup projector object\n",
    "ccf_coord_proj = ccfproj.IsocortexCoordinateProjector(\n",
    "    projection_file=\"../scratch/flatmap_dorsal.h5\",\n",
    "    surface_paths_file=\"../scratch/surface_paths_10_v3.h5\",\n",
    "    closest_surface_voxel_reference_file=\"../scratch/closest_surface_voxel_lookup.h5\"\n",
    ")"
   ]
  },
  {
   "cell_type": "code",
   "execution_count": null,
   "id": "a3c734ef-ad55-44df-96b9-435f52c4550a",
   "metadata": {},
   "outputs": [],
   "source": [
    "# Project CCF coords onto flatmap\n",
    "injCoords = ccfCoords*25 # convert from voxels to microns\n",
    "\n",
    "# Project injection site onto dorsal flatmap\n",
    "projCoords = ccf_coord_proj.project_coordinates(injCoords, scale='voxels', hemisphere = 'right', view_space_for_other_hemisphere=\"flatmap_dorsal\")\n",
    "\n",
    "# Add projections to dataframe\n",
    "ccfData.insert(4,\"ML\",np.nan)\n",
    "ccfData.insert(5,\"AP\",np.nan)\n",
    "ccfData.insert(6,\"DV\",np.nan)\n",
    "ccfData.loc[:,[\"ML\",\"AP\",\"DV\"]] = projCoords"
   ]
  },
  {
   "cell_type": "code",
   "execution_count": null,
   "id": "ac4e283a-3019-4d02-a581-e66546e2123e",
   "metadata": {},
   "outputs": [],
   "source": [
    "for k, boundary_coords in bf_right_boundaries.items():\n",
    "    plt.plot(*boundary_coords.T, color = 'k', lw= 2)\n",
    "\n",
    "sns.scatterplot(ccfData,x = \"ML\", y = \"AP\",edgecolor = \"none\", hue = \"Factor 2\",zorder = 2, s =80, palette = \"viridis\")\n",
    "plt.legend(loc = \"upper right\")"
   ]
  },
  {
   "cell_type": "code",
   "execution_count": null,
   "id": "5c9f8774-3a92-4cbf-9735-8eb0a0c01ea4",
   "metadata": {},
   "outputs": [],
   "source": [
    "i = 1\n",
    "plt.figure(figsize = (12.8,4.8)) # size of 2 figures\n",
    "plt.subplot(1,2,1)\n",
    "plt.imshow(H[i,:].reshape((xLen,yLen)).T, cmap = \"viridis\")\n",
    "plt.axis('tight')\n",
    "plt.subplot(1,2,2)\n",
    "field = \"Factor \" + str(i)\n",
    "sns.stripplot(ccfData,x = \"CCF Parent\", y = field, color = \"gray\", order=[\"ACAd\",\"PL\",\"ILA\",\"FRP\",\"ORBm\",\"ORBl\",\"ORBvl\",\"MOs\",\"AId\"], s = 7, jitter = .2)\n",
    "# sns.despine()\n",
    "plt.axis('tight');"
   ]
  },
  {
   "cell_type": "code",
   "execution_count": null,
   "id": "172d9c3a-d53f-4a46-bde2-963f2a47dea7",
   "metadata": {},
   "outputs": [],
   "source": [
    "ccfData.sort_values(\"Factor 1\", ascending=False)"
   ]
  },
  {
   "cell_type": "code",
   "execution_count": null,
   "id": "57e95daa-74c9-44d9-8766-9bfe1c749c63",
   "metadata": {},
   "outputs": [],
   "source": [
    "struct = \"Factor 1\"\n",
    "plotData = ccfData.copy()\n",
    "plt.figure(dpi=300)\n",
    "for k, boundary_coords in bf_right_boundaries.items():\n",
    "    plt.plot(*boundary_coords.T, color = 'k', lw= 2)\n",
    "\n",
    "plotData = plotData.sort_values(by=struct,ascending=True) # sort for plotting largest value on top\n",
    "ax = sns.scatterplot(plotData,x = \"ML\", y = \"AP\", s = 45, hue = struct, hue_norm=(0,1),\n",
    "                     edgecolor = 'black', linewidth = 1, zorder = 2, palette = 'viridis')\n",
    "\n",
    "norm = plt.Normalize(0, 1)\n",
    "sm = plt.cm.ScalarMappable(cmap=\"viridis\", norm=norm)\n",
    "sm = plt.cm.ScalarMappable(cmap=\"viridis\")\n",
    "plt.colorbar(sm, ax = ax)\n",
    "ax.get_legend().remove()\n",
    "plt.title(struct)\n",
    "plt.savefig(\"../results/factor 1 flatmap.svg\",dpi=300)"
   ]
  },
  {
   "cell_type": "code",
   "execution_count": null,
   "id": "7ee4af70-b450-4b77-8845-58de043af1b4",
   "metadata": {},
   "outputs": [],
   "source": [
    "for i in range(5):\n",
    "    plt.figure()\n",
    "    # plt.imshow(H[i,:].reshape((xLen,yLen)).T, origin = \"lower\")\n",
    "    plt.imshow(H[i,:].reshape((xLen,yLen)).T)\n",
    "    plt.title(i)"
   ]
  },
  {
   "cell_type": "code",
   "execution_count": null,
   "id": "891f887e-2dcb-45a3-8bec-e3e1ff5f6b86",
   "metadata": {},
   "outputs": [],
   "source": [
    "from matplotlib.colors import Normalize, to_hex"
   ]
  },
  {
   "cell_type": "code",
   "execution_count": null,
   "id": "24763b0b-1316-463b-8d65-d505c746fdf5",
   "metadata": {},
   "outputs": [],
   "source": [
    "\n",
    "# rFactor = \"Factor 0\"\n",
    "# gFactor = \"Factor 1\"\n",
    "# bFactor = \"Factor 2\"\n",
    "\n",
    "rFactor = \"Factor 1\"\n",
    "gFactor = \"Factor 0\"\n",
    "bFactor = \"Factor 3\"\n",
    "plotData = ccfData.copy()\n",
    "plt.figure(dpi=300)\n",
    "for k, boundary_coords in bf_right_boundaries.items():\n",
    "    plt.plot(*boundary_coords.T, color = 'k', lw= 2)\n",
    "\n",
    "plotData['color'] = plotData.apply(lambda row: to_hex((row[rFactor], row[gFactor], row[bFactor])), axis=1)\n",
    "palette = {color: color for color in plotData['color'].unique()}\n",
    "plotData = plotData.sort_values(by='color',ascending=True) # sort for plotting largest value on top\n",
    "ax = sns.scatterplot(plotData,x = \"ML\", y = \"AP\", s = 45, hue = \"color\",\n",
    "                     edgecolor = 'black', linewidth = 1, zorder = 2, palette = palette)\n",
    "\n",
    "ax.get_legend().remove()\n",
    "plt.title(rFactor + \" \" + gFactor + \" \" + bFactor)\n",
    "plt.savefig(\"../results/joint factors flatmap.svg\",dpi=300)"
   ]
  },
  {
   "cell_type": "code",
   "execution_count": null,
   "id": "3bf71557-2f38-4c1d-a7de-9b24da16b9cf",
   "metadata": {},
   "outputs": [],
   "source": [
    "\n",
    "# rFactor = \"Factor 0\"\n",
    "# gFactor = \"Factor 1\"\n",
    "# bFactor = \"Factor 2\"\n",
    "\n",
    "rFactor = \"Factor 1\"\n",
    "gFactor = \"Factor 0\"\n",
    "bFactor = \"Factor 2\"\n",
    "plotData = ccfData.copy()\n",
    "plt.figure(dpi=300)\n",
    "for k, boundary_coords in bf_right_boundaries.items():\n",
    "    plt.plot(*boundary_coords.T, color = 'k', lw= 2)\n",
    "\n",
    "plotData['color'] = plotData.apply(lambda row: to_hex((row[rFactor], row[gFactor], row[bFactor])), axis=1)\n",
    "palette = {color: color for color in plotData['color'].unique()}\n",
    "plotData = plotData.sort_values(by='color',ascending=True) # sort for plotting largest value on top\n",
    "ax = sns.scatterplot(plotData,x = \"ML\", y = \"AP\", s = 45, hue = \"color\",\n",
    "                     edgecolor = 'black', linewidth = 1, zorder = 2, palette = palette)\n",
    "\n",
    "ax.get_legend().remove()\n",
    "plt.title(rFactor + \" \" + gFactor + \" \" + bFactor)\n",
    "# plt.savefig(\"../results/joint factors flatmap.svg\",dpi=300)"
   ]
  },
  {
   "cell_type": "code",
   "execution_count": null,
   "id": "24912a17-0a06-4725-8c74-f873468011e8",
   "metadata": {},
   "outputs": [],
   "source": [
    "# Create RGB colors and convert them to hex\n",
    "plotData['color'] = plotData.apply(lambda row: to_hex((row['Factor 0'], row['Factor 1'], row['Factor 2'])), axis=1)\n",
    "# Create a color palette dictionary\n",
    "palette = {color: color for color in plotData['color'].unique()}\n",
    "# sns.scatterplot(data=X, x='posX', y='posY', hue='color', palette=X['color'].unique(), legend=False, s=100)"
   ]
  },
  {
   "cell_type": "code",
   "execution_count": null,
   "id": "c6d7d85c-8a37-4453-8e85-2f3381daa048",
   "metadata": {},
   "outputs": [],
   "source": [
    "ccfData.sort_values(\"Factor 1\", ascending=False).head(5)"
   ]
  },
  {
   "cell_type": "code",
   "execution_count": null,
   "id": "4996f8ff-15eb-413d-adc0-8e93b4f9f48f",
   "metadata": {},
   "outputs": [],
   "source": [
    "lookFor = \"698927 488\"\n",
    "for i, name in enumerate(expList):\n",
    "    if name == lookFor:\n",
    "        print(name)\n",
    "        print(i)\n",
    "        break"
   ]
  },
  {
   "cell_type": "code",
   "execution_count": null,
   "id": "a0531f23-472b-4edf-a982-8d0693068a2a",
   "metadata": {},
   "outputs": [],
   "source": [
    "i = 33\n",
    "plt.imshow(histArray[i,:].reshape((xLen,yLen)).T)"
   ]
  },
  {
   "cell_type": "code",
   "execution_count": null,
   "id": "5de715ba-d2b0-4a2c-af8f-a3d0efc39170",
   "metadata": {},
   "outputs": [],
   "source": [
    "i = 4\n",
    "showName = 2\n",
    "field = \"Factor \" + str(i)\n",
    "sns.stripplot(ccfData,x = \"CCF Parent\", y = field, color = \"white\", order=[\"ACAd\",\"PL\",\"ILA\",\"FRP\",\"ORBm\",\"ORBl\",\"ORBvl\",\"MOs\",\"AId\"], s = 7, jitter = .2)\n",
    "sns.despine()\n",
    "plt.ylabel(\"Factor \" + str(showName), color = \"white\")\n",
    "plt.xlabel('Injection Site', color='white')\n",
    "plt.axis('tight');\n",
    "\n",
    "# Set the color of the axes to white\n",
    "plt.gca().spines['bottom'].set_color('white')\n",
    "plt.gca().spines['top'].set_color('white') \n",
    "plt.gca().spines['right'].set_color('white')\n",
    "plt.gca().spines['left'].set_color('white')\n",
    "\n",
    "# Set the color of the ticks to white\n",
    "plt.tick_params(axis='x', colors='white')\n",
    "plt.tick_params(axis='y', colors='white')\n",
    "\n",
    "\n",
    "# Set the color of the axis labels to white\n",
    "# plt.xlabel('X Axis', color='white')\n",
    "# plt.ylabel('Y Axis', color='white')\n",
    "\n",
    "plt.savefig(\"../results/input \" + str(showName) + \".svg\", dpi = 300, transparent=True)"
   ]
  }
 ],
 "metadata": {
  "kernelspec": {
   "display_name": "Python 3 (ipykernel)",
   "language": "python",
   "name": "python3"
  },
  "language_info": {
   "codemirror_mode": {
    "name": "ipython",
    "version": 3
   },
   "file_extension": ".py",
   "mimetype": "text/x-python",
   "name": "python",
   "nbconvert_exporter": "python",
   "pygments_lexer": "ipython3",
   "version": "3.10.12"
  }
 },
 "nbformat": 4,
 "nbformat_minor": 5
}
