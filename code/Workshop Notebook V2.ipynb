{
 "cells": [
  {
   "cell_type": "markdown",
   "id": "0ed2e768-dc1c-46b6-a70f-fa4345ecb0e8",
   "metadata": {
    "jupyter": {
     "source_hidden": false
    }
   },
   "source": [
    "<h1 align=\"center\">UW CNC Fall Hackathon </h1>  \n",
    "<h3 align=\"center\"> Dec 4, 2024 </h3>   \n",
    "<h3 align=\"center\"> mapping mesoscale connectivity between the frontal cortex and thalamus</h3> \n",
    "    \n",
    "    "
   ]
  },
  {
   "cell_type": "markdown",
   "id": "9450874e",
   "metadata": {},
   "source": [
    "<div style=\"border-left: 3px solid #000; padding: 1px; padding-left: 10px; background: #F0FAFF; \">\n",
    "    \n",
    "**Overview:** In this notebook, we will analyze the connectivity between thalamic subregions and the frontal cortex using a 3D light sheet microscopy dataset of whole mouse brains. \n",
    "While this tutorial focuses on thalamic inputs to the frontal cortex, the dataset contains connections between the frontal cortex and other brain regions that have yet to be thoroughly explored.    \n",
    "    \n",
    "**Dataset:**  \n",
    "    \n",
    "**Experiment:** Retrograde viruses were injected into frontal cortex to induce the expression of nuclear-localized fluorophores in host cells in frontal cortex and their presynaptic partners across the brain. Each brain received 1-3 viral injections, resulting in multiple color channels highlighting different connections. Whole brains were imaged using a light sheet microscope (SmartSPIM). \n",
    "    \n",
    "**Image Processing:** The image tiles were stitched together into a 3D volume then transformed into a reference brain template called the Common Coordinate Framework (CCF). A cell detection model was applied to the images, yielding spatial coordinates for each detected cell. *Note that the cell detection model was optimized for the thalamus.  \n",
    "        \n",
    "**Goal:** This tutorial will show you how to:  \n",
    "    1. analyze connectivity across brain regions  \n",
    "    2. work with 3D volumetric microscopy data of whole mouse brains \n",
    "\n"
   ]
  },
  {
   "cell_type": "markdown",
   "id": "538e274b",
   "metadata": {},
   "source": [
    "<div style=\"border-left: 3px solid #000; padding: 1px; padding-left: 10px; background: #F0FAFF; \">\n",
    "\n",
    "#### Section 1: Import packages and load data<br>\n",
    "    \n",
    "    "
   ]
  },
  {
   "cell_type": "code",
   "execution_count": 1,
   "id": "b1f94bd0-8928-4a05-8079-2aa84a3ac300",
   "metadata": {
    "tags": []
   },
   "outputs": [],
   "source": [
    "import numpy as np\n",
    "import matplotlib.pyplot as plt\n",
    "import pandas as pd\n",
    "import seaborn as sns\n",
    "import nrrd\n",
    "from pathlib import Path\n",
    "\n",
    "\n",
    "from load_data import load_data\n",
    "import brainglobe_atlasapi as atlasapi\n",
    "from brainglobe_atlasapi import BrainGlobeAtlas\n",
    "\n",
    "output_dir = '../scratch/'\n",
    "\n",
    "%matplotlib inline"
   ]
  },
  {
   "cell_type": "code",
   "execution_count": 2,
   "id": "531bb4ba-851d-45a7-8a5e-a0eeab22b67c",
   "metadata": {},
   "outputs": [],
   "source": [
    "atlasapi.config.write_config_value('brainglobe_dir', '/data/.brainglobe') # points to allen mouse atlases pre-loaded in data folder \n",
    "\n",
    "atlas = BrainGlobeAtlas('allen_mouse_25um', check_latest = False) # load CCF mouse brain atlas, 25um resolution "
   ]
  },
  {
   "cell_type": "markdown",
   "id": "450f338b-2523-4250-9744-52b5057cbffd",
   "metadata": {},
   "source": [
    "<div style=\"border-left: 3px solid #000; padding: 1px; padding-left: 10px; background: #f69cf7; \">\n",
    "SdV: In general, keep the imports as minimal as possible. Let's make sure we really need all of these.\n",
    "\n",
    "It might also be good to separate generic imports from things we've written ourselves, or that are more specific. E.g. brain and BrainGlobeAtlas. Might be good to note what they are ... (might also be overkill)\n",
    "    \n",
    "Let's add the atlas instantiation here maybe? Or at least point brainglobe to the right data here?\n",
    "\n",
    "Let's discuss whether we really need seaborn here. I'm generally not a big fan on seaborn plots because they do a lot of statistics in the back without users being aware. There are times when it's not really important, but my default is to avoid them. \n",
    "    "
   ]
  },
  {
   "cell_type": "markdown",
   "id": "821fe0f5",
   "metadata": {},
   "source": [
    "<div style=\"border-left: 3px solid #000; padding: 1px; padding-left: 10px; background: #F0FAFF; \">\n",
    "\n",
    "### Break:  \n",
    "we will start by importing metadata as a df and unpack some of the experimental information"
   ]
  },
  {
   "cell_type": "code",
   "execution_count": null,
   "id": "a6d1431c",
   "metadata": {},
   "outputs": [],
   "source": []
  },
  {
   "cell_type": "code",
   "execution_count": null,
   "id": "cd13b4eb",
   "metadata": {},
   "outputs": [],
   "source": []
  },
  {
   "cell_type": "code",
   "execution_count": null,
   "id": "f5b03c5f",
   "metadata": {},
   "outputs": [],
   "source": []
  },
  {
   "cell_type": "code",
   "execution_count": null,
   "id": "53d2abe7",
   "metadata": {},
   "outputs": [],
   "source": []
  },
  {
   "cell_type": "code",
   "execution_count": null,
   "id": "341d2ad7",
   "metadata": {},
   "outputs": [],
   "source": []
  },
  {
   "cell_type": "markdown",
   "id": "46612880",
   "metadata": {},
   "source": [
    "<div style=\"border-left: 3px solid #000; padding: 1px; padding-left: 10px; background: #F0FAFF; \">\n",
    "\n",
    "#### Load data for a single brain \n",
    "      \n",
    "load_data will pull the relevant data from the files for a given Mouse ID.  \n",
    "\n",
    "Here, you can see which channels went through each stage of processing.  \n",
    "(raw image channels > cell segmentation model applied > transformation to CCF space)\n"
   ]
  },
  {
   "cell_type": "markdown",
   "id": "5250918b-4b4d-4c15-879b-d92fa4e05395",
   "metadata": {},
   "source": [
    "<div style=\"border-left: 3px solid #000; padding: 1px; padding-left: 10px; background: #f69cf7; \">\n",
    "SdV: Can we add proper docstrings to the functions in load_data to help users understand what the functions do, what inputs are, what outputs are, etc?"
   ]
  },
  {
   "cell_type": "markdown",
   "id": "eda28246-3b81-47f5-a515-99490403403c",
   "metadata": {},
   "source": [
    "<div style=\"border-left: 3px solid #000; padding: 1px; padding-left: 10px; background: #f69cf7; \">\n",
    "SdV: It might help to start with picking a brain - what do we know about this brain? Why are we picking it? This might work best starting with metadata, so we can add that shortly, but rather than brain out of a hat, let's motivate why we are looking at this brain."
   ]
  },
  {
   "cell_type": "code",
   "execution_count": 3,
   "id": "f23b1971",
   "metadata": {
    "tags": []
   },
   "outputs": [
    {
     "name": "stdout",
     "output_type": "stream",
     "text": [
      "Loading data from ../data/SmartSPIM_698035_2023-10-24_18-38-40_stitched_2023-10-28_20-52-51/image_tile_fusing/OMEZarr\n",
      "Found the following channels: ['445', '488', '561', '639']\n",
      "Found cell segmentations in the following channels: ['445', '488', '561']\n",
      "Found CCF aligned quantifications in the following channels: ['445', '488', '561']\n",
      "Grabbing volumes for level: 3\n"
     ]
    }
   ],
   "source": [
    "mouse_ID = '698035' \n",
    "x = load_data(mouse_ID)"
   ]
  },
  {
   "cell_type": "code",
   "execution_count": 5,
   "id": "0e76b6d2",
   "metadata": {},
   "outputs": [
    {
     "data": {
      "text/plain": [
       "641"
      ]
     },
     "execution_count": 5,
     "metadata": {},
     "output_type": "execute_result"
    }
   ],
   "source": [
    "# is this the right way to get the range of sections? \n",
    "# is there a more straightforward way to do this? \n",
    "\n",
    "[chVol, xLabel, yLabel, printTxt] = x.orientVol(ch = \"561\", plane = \"coronal\", returnLabels = True)\n",
    "int(chVol.shape[0] / 2)"
   ]
  },
  {
   "cell_type": "markdown",
   "id": "ba4e4a45-4710-42d5-a7db-ac491d6b47f2",
   "metadata": {},
   "source": [
    "<div style=\"border-left: 3px solid #000; padding: 1px; padding-left: 10px; background: #f69cf7; \">\n",
    "SdV: We need to unpack what this information means. Specifically the level. The rest I'm able to figure out based on my existing knowledge. I'm guessing the level is some sort of CCF level? But since we don't really have meaningful levels for the CCF (e.g. there is no consistent hierarchy structure across the brain) I have no idea how to think about this."
   ]
  },
  {
   "cell_type": "markdown",
   "id": "2150fe2b",
   "metadata": {},
   "source": [
    "<div style=\"border-left: 3px solid #000; padding: 1px; padding-left: 10px; background: #F0FAFF; \">\n",
    "\n",
    "We can quickly look at the slices in each channel using `plotSlice`. "
   ]
  },
  {
   "cell_type": "code",
   "execution_count": null,
   "id": "8d80df5d",
   "metadata": {
    "tags": []
   },
   "outputs": [],
   "source": [
    "x.plotSlice(ch = \"561\", plane=\"coronal\", section = 300) \n",
    "\n",
    "# find range of sections (shape of volume) "
   ]
  },
  {
   "cell_type": "markdown",
   "id": "a84fd8ca",
   "metadata": {},
   "source": [
    "<div style=\"border-left: 3px solid #000; padding: 1px; padding-left: 10px; background: #F0FAFF; \">\n",
    "\n",
    "Neuroglancer link to browse through the data in 3D \n",
    "    \n",
    "(note: we won't use this once we can upload metadata into a df)"
   ]
  },
  {
   "cell_type": "code",
   "execution_count": null,
   "id": "47727534",
   "metadata": {
    "tags": []
   },
   "outputs": [],
   "source": [
    "x.getNGLink()\n",
    "\n",
    "# point to cleaned up links in metadata\n",
    "# get neuroglancer links in metadata df "
   ]
  },
  {
   "cell_type": "markdown",
   "id": "040341f7",
   "metadata": {},
   "source": [
    "<div style=\"border-left: 3px solid #000; padding: 1px; padding-left: 10px; background: #F0FAFF; \">\n",
    "\n",
    "The `getCellsCCF` function will load the spatial coordinates of the detected cells in each channel. Note that these coordinates are transformed into CCF space.<br><br>"
   ]
  },
  {
   "cell_type": "code",
   "execution_count": 68,
   "id": "c2e8a7bc",
   "metadata": {},
   "outputs": [],
   "source": [
    "# working on converting the outputs of getCellsCCF into a df, xarray, or array \n",
    "# another option for getCellsCCF that outputs a dataframe \n",
    "\n",
    "def getCellsCCF3(x, ch: list):\n",
    "    # Method to retrieve and format CCF transformed coordinates of segemented cells\n",
    "    ccfDim = [528, 320, 456]\n",
    "    location_df = pd.DataFrame() \n",
    "    \n",
    "    for channel in ch:\n",
    "        locCells = pd.read_xml(x.ccfCellsPaths[channel],xpath = \"//CellCounter_Marker_File//Marker_Data//Marker_Type//Marker\")\n",
    "        locCells = locCells[['MarkerZ', 'MarkerY', 'MarkerX']] # Rearrange indices to be AP, DV, ML\n",
    "        locCells['channel'] = [channel] * len(locCells) # Adds a column with the channel name \n",
    "        locCells = locCells.rename(columns={'MarkerZ' : 'AP', 'MarkerY' : 'DV', 'MarkerX' : 'ML'}) # Rename columns \n",
    "       \n",
    "        locCells['AP'] = locCells['AP'].clip(0, ccfDim[0])\n",
    "        locCells['DV'] = locCells['DV'].clip(0, ccfDim[1])\n",
    "        locCells['ML'] = locCells['ML'].clip(0, ccfDim[2])\n",
    "        \n",
    "        location_df = pd.concat([location_df, locCells])\n",
    "        \n",
    "    return location_df"
   ]
  },
  {
   "cell_type": "code",
   "execution_count": 70,
   "id": "1b38b213",
   "metadata": {},
   "outputs": [],
   "source": [
    "cellLocs = getCellsCCF3(x, [\"445\", \"488\", \"561\"])"
   ]
  },
  {
   "cell_type": "markdown",
   "id": "fe4fa157",
   "metadata": {},
   "source": [
    "getCellsCCF returns a pandas dataframe  \n",
    "AP, DV, ML: coordinates in CCF brain space  \n",
    "channel: wavelength  \n",
    "every row is a detected cell "
   ]
  },
  {
   "cell_type": "code",
   "execution_count": 71,
   "id": "90426ccd",
   "metadata": {},
   "outputs": [
    {
     "data": {
      "text/html": [
       "<div>\n",
       "<style scoped>\n",
       "    .dataframe tbody tr th:only-of-type {\n",
       "        vertical-align: middle;\n",
       "    }\n",
       "\n",
       "    .dataframe tbody tr th {\n",
       "        vertical-align: top;\n",
       "    }\n",
       "\n",
       "    .dataframe thead th {\n",
       "        text-align: right;\n",
       "    }\n",
       "</style>\n",
       "<table border=\"1\" class=\"dataframe\">\n",
       "  <thead>\n",
       "    <tr style=\"text-align: right;\">\n",
       "      <th></th>\n",
       "      <th>AP</th>\n",
       "      <th>DV</th>\n",
       "      <th>ML</th>\n",
       "      <th>channel</th>\n",
       "    </tr>\n",
       "  </thead>\n",
       "  <tbody>\n",
       "    <tr>\n",
       "      <th>0</th>\n",
       "      <td>1</td>\n",
       "      <td>1</td>\n",
       "      <td>76</td>\n",
       "      <td>445</td>\n",
       "    </tr>\n",
       "    <tr>\n",
       "      <th>1</th>\n",
       "      <td>1</td>\n",
       "      <td>1</td>\n",
       "      <td>76</td>\n",
       "      <td>445</td>\n",
       "    </tr>\n",
       "    <tr>\n",
       "      <th>2</th>\n",
       "      <td>1</td>\n",
       "      <td>1</td>\n",
       "      <td>72</td>\n",
       "      <td>445</td>\n",
       "    </tr>\n",
       "    <tr>\n",
       "      <th>3</th>\n",
       "      <td>1</td>\n",
       "      <td>1</td>\n",
       "      <td>73</td>\n",
       "      <td>445</td>\n",
       "    </tr>\n",
       "    <tr>\n",
       "      <th>4</th>\n",
       "      <td>1</td>\n",
       "      <td>1</td>\n",
       "      <td>74</td>\n",
       "      <td>445</td>\n",
       "    </tr>\n",
       "    <tr>\n",
       "      <th>...</th>\n",
       "      <td>...</td>\n",
       "      <td>...</td>\n",
       "      <td>...</td>\n",
       "      <td>...</td>\n",
       "    </tr>\n",
       "    <tr>\n",
       "      <th>163789</th>\n",
       "      <td>528</td>\n",
       "      <td>320</td>\n",
       "      <td>293</td>\n",
       "      <td>561</td>\n",
       "    </tr>\n",
       "    <tr>\n",
       "      <th>163790</th>\n",
       "      <td>528</td>\n",
       "      <td>320</td>\n",
       "      <td>279</td>\n",
       "      <td>561</td>\n",
       "    </tr>\n",
       "    <tr>\n",
       "      <th>163791</th>\n",
       "      <td>528</td>\n",
       "      <td>320</td>\n",
       "      <td>294</td>\n",
       "      <td>561</td>\n",
       "    </tr>\n",
       "    <tr>\n",
       "      <th>163792</th>\n",
       "      <td>528</td>\n",
       "      <td>320</td>\n",
       "      <td>295</td>\n",
       "      <td>561</td>\n",
       "    </tr>\n",
       "    <tr>\n",
       "      <th>163793</th>\n",
       "      <td>528</td>\n",
       "      <td>320</td>\n",
       "      <td>296</td>\n",
       "      <td>561</td>\n",
       "    </tr>\n",
       "  </tbody>\n",
       "</table>\n",
       "<p>670439 rows × 4 columns</p>\n",
       "</div>"
      ],
      "text/plain": [
       "         AP   DV   ML channel\n",
       "0         1    1   76     445\n",
       "1         1    1   76     445\n",
       "2         1    1   72     445\n",
       "3         1    1   73     445\n",
       "4         1    1   74     445\n",
       "...     ...  ...  ...     ...\n",
       "163789  528  320  293     561\n",
       "163790  528  320  279     561\n",
       "163791  528  320  294     561\n",
       "163792  528  320  295     561\n",
       "163793  528  320  296     561\n",
       "\n",
       "[670439 rows x 4 columns]"
      ]
     },
     "execution_count": 71,
     "metadata": {},
     "output_type": "execute_result"
    }
   ],
   "source": [
    "cellLocs"
   ]
  },
  {
   "cell_type": "markdown",
   "id": "1fec1819",
   "metadata": {},
   "source": [
    "How many cells were detected in each channel? "
   ]
  },
  {
   "cell_type": "code",
   "execution_count": 75,
   "id": "ad6b9c77",
   "metadata": {},
   "outputs": [
    {
     "name": "stdout",
     "output_type": "stream",
     "text": [
      "249322\n"
     ]
    }
   ],
   "source": [
    "print(len(cellLocs[cellLocs['channel'] == \"445\"]))"
   ]
  },
  {
   "cell_type": "code",
   "execution_count": 76,
   "id": "e32cafe2",
   "metadata": {},
   "outputs": [
    {
     "name": "stdout",
     "output_type": "stream",
     "text": [
      "257323\n"
     ]
    }
   ],
   "source": [
    "print(len(cellLocs[cellLocs['channel'] == \"488\"]))"
   ]
  },
  {
   "cell_type": "code",
   "execution_count": 77,
   "id": "afa48cef",
   "metadata": {},
   "outputs": [
    {
     "name": "stdout",
     "output_type": "stream",
     "text": [
      "163794\n"
     ]
    }
   ],
   "source": [
    "print(len(cellLocs[cellLocs['channel'] == \"561\"]))"
   ]
  },
  {
   "cell_type": "code",
   "execution_count": 78,
   "id": "6feaadc0",
   "metadata": {
    "tags": []
   },
   "outputs": [],
   "source": [
    "# write docstrings and unpack function \n",
    "# what is structure? \n",
    "\n",
    "# change data structure to df or xarray (each column labelled) or array (simpler)\n",
    "# what are columns? more info in the getCellsCCF function \n",
    "#  structured as AP, DV, ML \n",
    "# add image of brain w/ axes labels ap, ml, dv. reiterate in intro"
   ]
  },
  {
   "cell_type": "markdown",
   "id": "31cb29b8",
   "metadata": {},
   "source": [
    "<div style=\"border-left: 3px solid #000; padding: 1px; padding-left: 10px; background: #F0FAFF; \">\n",
    "\n",
    "### Break:  \n",
    "to do: instead of jumping into plotting, we will compare thalamus expression across channels in a single brain. we should pick a good example for this (e.g. similar injection sites, same virus)"
   ]
  },
  {
   "cell_type": "code",
   "execution_count": null,
   "id": "78560600",
   "metadata": {},
   "outputs": [],
   "source": [
    "# ok now, need to test how to fit the new df structure into stuff below... "
   ]
  },
  {
   "cell_type": "code",
   "execution_count": null,
   "id": "227f512c",
   "metadata": {},
   "outputs": [],
   "source": [
    "## Alternate way to do this\n",
    "\n",
    "roiList = [\"MD\",\"PT\",\"IAD\",\"PVT\",\"IMD\",\"CM\",\"PCN\",\"CL\"] # list of thalamic sub-regions to target \n",
    "cellLocs_ch = cellLocs[\"561\"] # cell locations within one imaging channel \n",
    "\n",
    "for roi in roiList:\n",
    "    count=0\n",
    "    for cell in cellLocs_ch:\n",
    "        if atlas.structure_from_coords(cell, as_acronym=True)==roi: #do the cell coordinates map to the roi?\n",
    "            count+=1\n",
    "\n",
    "            \n",
    "    print(roi, count)\n",
    "\n",
    "    \n",
    "# connectivity matrix plotting \n",
    "# good stopping point for tutorial section "
   ]
  },
  {
   "cell_type": "code",
   "execution_count": null,
   "id": "13e81936",
   "metadata": {},
   "outputs": [],
   "source": [
    "# Saskia wrote the code above that uses a brainglobe function to identify cell counts in each brain region \n",
    "# to do: need to double check that the cell counts are accurate and the outputs are structured in a way that is useful for later stuff "
   ]
  },
  {
   "cell_type": "code",
   "execution_count": null,
   "id": "6b2436dd",
   "metadata": {},
   "outputs": [],
   "source": [
    "# Now, we can look at a larger set of data (e.g. brains injected with the same virus) "
   ]
  },
  {
   "cell_type": "code",
   "execution_count": null,
   "id": "78c411c9",
   "metadata": {},
   "outputs": [],
   "source": []
  },
  {
   "cell_type": "code",
   "execution_count": null,
   "id": "45aeeec0",
   "metadata": {},
   "outputs": [],
   "source": []
  },
  {
   "cell_type": "code",
   "execution_count": null,
   "id": "a85b4773",
   "metadata": {},
   "outputs": [],
   "source": []
  },
  {
   "cell_type": "code",
   "execution_count": null,
   "id": "6b4824fa",
   "metadata": {},
   "outputs": [],
   "source": [
    "# rest of notebook is in a very messy state "
   ]
  },
  {
   "cell_type": "markdown",
   "id": "65144f6a-0f25-4973-8686-304b1b50df20",
   "metadata": {},
   "source": [
    "<div style=\"border-left: 3px solid #000; padding: 1px; padding-left: 10px; background: #f69cf7; \">\n",
    "SdV: Oh wait, these aren't even arrays... what is this structure? an array of arrays? Can we make this something easier to work with? \n",
    "    \n",
    "I'm not sure exactly what is ideal. A dataframe could have columns of AP, ML, DV, channel, then it's filtering by channel and getting the three coordinates as a tuple... \n",
    "We could add a column of structure when we count cells in thalamic nuclei... "
   ]
  },
  {
   "cell_type": "code",
   "execution_count": null,
   "id": "eb9f0eb9-f1ad-4ac6-a807-50fc106b8450",
   "metadata": {
    "tags": []
   },
   "outputs": [],
   "source": [
    "bin_egdes = np.arange(0,500,5)\n",
    "plt.hist2d(cellLocs[\"445\"][:,1], cellLocs[\"445\"][:,2], bin_egdes, cmap=\"Greys\")\n",
    "plt.colorbar();"
   ]
  },
  {
   "cell_type": "code",
   "execution_count": null,
   "id": "8d5ddda6-dd68-4f86-8dd8-9a2467e73b36",
   "metadata": {
    "tags": []
   },
   "outputs": [],
   "source": [
    "bin_egdes = np.arange(0,500,5)\n",
    "plt.hist2d(cellLocs[\"561\"][:,0], cellLocs[\"561\"][:,1], bin_egdes, vmax=1000)\n",
    "plt.colorbar();"
   ]
  },
  {
   "cell_type": "markdown",
   "id": "adbd43ef",
   "metadata": {},
   "source": [
    "<div style=\"border-left: 3px solid #000; padding: 1px; padding-left: 10px; background: #F0FAFF; \">\n",
    "\n",
    "#### Section 2: Quantify cell counts in each thalamic sub-region  \n",
    "    \n",
    "We can cross-reference the spatial coordinates of the detected cells in our dataset to the CCF reference brain atlas and identify which brain regions our cells are in. Here, we use brainglobe_atlasapi to import the Allen Mouse Brain Atlas (25um resolution) and identify the spatial bounds of our brain regions of interest. You can use the same approach to target other brain regions by acronym. More details on CCF and the brain region hierarchy here. (to do: point to CCF content. e.g.https://allenswdb.github.io/background/CCF.html?highlight=ccf ) \n",
    "\n"
   ]
  },
  {
   "cell_type": "markdown",
   "id": "c13bf079-8255-4a75-93b9-0cc8fd750c19",
   "metadata": {},
   "source": [
    "<div style=\"border-left: 3px solid #000; padding: 1px; padding-left: 10px; background: #f69cf7; \">\n",
    "SdV: I wonder if it's not too hard to plot a heatmap of the cells with some CCF boundaries superimposed to try to motivate the question a bit?"
   ]
  },
  {
   "cell_type": "code",
   "execution_count": null,
   "id": "909175de-3409-4a99-8bc7-8517539a6aa6",
   "metadata": {
    "tags": []
   },
   "outputs": [],
   "source": [
    "atlasapi.config.write_config_value('brainglobe_dir', '/data/.brainglobe') # points to allen mouse atlases pre-loaded in data folder \n",
    "\n",
    "atlas = BrainGlobeAtlas('allen_mouse_25um', check_latest = False) # load CCF mouse brain atlas, 25um resolution \n",
    "\n",
    "\n",
    "stack = atlas.get_structure_mask(\"TH\")"
   ]
  },
  {
   "cell_type": "code",
   "execution_count": null,
   "id": "ce07c395-c1c2-4d99-83c8-4074f6756852",
   "metadata": {
    "tags": []
   },
   "outputs": [],
   "source": [
    "stack.shape"
   ]
  },
  {
   "cell_type": "code",
   "execution_count": null,
   "id": "abbee91c-3fd3-4d2b-ab74-8fa66108a1ec",
   "metadata": {
    "tags": []
   },
   "outputs": [],
   "source": [
    "np.where(stack>0)"
   ]
  },
  {
   "cell_type": "code",
   "execution_count": null,
   "id": "a4090fcf-6e5c-4b25-bfbd-c15d39168662",
   "metadata": {
    "tags": []
   },
   "outputs": [],
   "source": [
    "atlas.mesh_from_structure(\"TH\")"
   ]
  },
  {
   "cell_type": "code",
   "execution_count": null,
   "id": "7b53d404-2676-4ce3-a1bd-227472a03de4",
   "metadata": {
    "tags": []
   },
   "outputs": [],
   "source": [
    "plt.imshow(stack[:,:,217])"
   ]
  },
  {
   "cell_type": "code",
   "execution_count": null,
   "id": "459ea10f-b16b-4e99-ad0e-35321c1c322f",
   "metadata": {},
   "outputs": [],
   "source": [
    "bin_egdes = np.arange(0,500,5)\n",
    "plt.hist2d(cellLocs[\"561\"][:,0], cellLocs[\"561\"][:,1], bin_egdes, vmax=1000)\n",
    "plt.colorbar();\n",
    "\n"
   ]
  },
  {
   "cell_type": "markdown",
   "id": "cca007e5-a2c7-4626-b548-4df1ee329219",
   "metadata": {},
   "source": [
    "<div style=\"border-left: 3px solid #000; padding: 1px; padding-left: 10px; background: #f69cf7; \">\n",
    "SdV: These functions are wonky - parameter lists don't match the inputs and some are using global variables when they shouldn't.\n",
    "    \n",
    "`generate_region_mask`: Can we use the brainglobe mask function instead? Lean into existing tools rather than recreating them?\n",
    "    \n",
    "`mask_cells`: this function uses a roiMask that isn't passed into the function - so using a global variable. That's not good. \n",
    "    \n",
    "I wrote a shorter way to do this below. The numbers are very slightly different so someone should check, but I think it is easier to parse"
   ]
  },
  {
   "cell_type": "code",
   "execution_count": null,
   "id": "93affa26",
   "metadata": {
    "tags": []
   },
   "outputs": [],
   "source": [
    "def generate_region_mask(atlas, roiList):     \n",
    "    \"\"\"\n",
    "    Generates a boolean array of entire brain space, with brain region ROI's == True to generate spatial mask. \n",
    "    \n",
    "    Parameters: \n",
    "    -----------\n",
    "    roiList : list \n",
    "        List of brain region acronyms (e.g. [\"MD, PT\"])\n",
    "        \n",
    "    \n",
    "    Returns: \n",
    "    --------\n",
    "    roiMask : array\n",
    "        Array the size of the CCF brain template. Spatial coordinates of brain region ROI's == True\n",
    "        \n",
    "    \"\"\" \n",
    "    idList = [atlas.structures[roi]['id'] for roi in roiList] # converts brain region acronym to CCF number id \n",
    "    counter = 0 \n",
    "\n",
    "    for id in idList:\n",
    "        if counter == 0:\n",
    "            roiMask = atlas.get_structure_mask(id).astype('bool') \n",
    "            counter = counter + 1 \n",
    "\n",
    "        else: \n",
    "            roiMask = np.logical_or.reduce([roiMask, atlas.get_structure_mask(id).astype('bool')]) # iterates through rois, converting each position in the mask to True if it falls within any region mask \n",
    "            counter = counter + 1\n",
    "\n",
    "    roiMask[:, :, 0:220] = False # ignore left hemisphere (half width of ML axis is 228, can revisit exact cutoff)\n",
    "\n",
    "    return roiMask  \n",
    "\n",
    "def mask_cells(cellLocs_ch):\n",
    "    \"\"\" \n",
    "    Truncates the array of cell locations to those within the brain region ROIs.\n",
    "    \n",
    "    Parameters: \n",
    "    -----------\n",
    "    cellLocs_ch : array \n",
    "        Array of the detected cell locations in a single channel (e.g. cellLocs[\"561\"])\n",
    "        \n",
    "    \n",
    "    Returns: \n",
    "    --------\n",
    "    maskCells : array \n",
    "        Array of detected cell locations within the brain region ROI's \n",
    "    \"\"\"\n",
    "    # grab the cell locations for a single channel \n",
    "    locCells = cellLocs_ch\n",
    "    \n",
    "    # check if cell index is within mask of requested ROIs\n",
    "    cellInMask = np.zeros(len(locCells), dtype = 'bool')\n",
    "    for i, pos in enumerate(locCells):\n",
    "        cellInMask[i] = roiMask[pos[0], pos[1], pos[2]]\n",
    "\n",
    "    maskCells = locCells[cellInMask] # apply brain region mask \n",
    "    \n",
    "    return maskCells\n",
    "    \n",
    "def count_cells_by_region(maskCells, annot):\n",
    "    \"\"\" \n",
    "    Counts the cells in each brain region. \n",
    "    \n",
    "    Parameters: \n",
    "    -----------\n",
    "    maskCells : array \n",
    "        Array of detected cell locations within the brain region ROI's  \n",
    "    atlas : object \n",
    "        Allen Mouse Atlas object pulled using BrainGlobeAtlas \n",
    "        \n",
    "        \n",
    "    Returns: \n",
    "    --------\n",
    "    String of cell counts in each brain region \n",
    "    \"\"\"\n",
    "    annot = atlas.annotation # creates an empty array the size of the brain volume \n",
    "    uniqVals, valCounts = np.unique(annot[maskCells[:,0], maskCells[:,1], maskCells[:,2]], return_counts=True)\n",
    "\n",
    "    for count, name in enumerate(uniqVals):\n",
    "         print(str(atlas.structures[name]['acronym']) + \" \" + str(valCounts[count]))\n",
    "\n"
   ]
  },
  {
   "cell_type": "markdown",
   "id": "d6a7ebe8",
   "metadata": {},
   "source": [
    "<div style=\"border-left: 3px solid #000; padding: 1px; padding-left: 10px; background: #F0FAFF; \">\n",
    "\n",
    "This section uses a set of functions to:  \n",
    "1. create an array the size of the brain volume, with the brain regions of interest masked out \n",
    "2. get the cells within the brain regions \n",
    "3. count how many cells are in each region "
   ]
  },
  {
   "cell_type": "code",
   "execution_count": null,
   "id": "e0c969cc",
   "metadata": {
    "tags": []
   },
   "outputs": [],
   "source": [
    " roiList = [\"MD\",\"PT\",\"IAD\",\"PVT\",\"IMD\",\"CM\",\"PCN\",\"CL\"] # list of thalamic sub-regions to target \n",
    "cellLocs_ch = cellLocs[\"561\"] # cell locations within one imaging channel \n",
    " \n",
    "roiMask = generate_region_mask(atlas, roiList) \n",
    "maskCells = mask_cells(cellLocs_ch) \n",
    "count_cells_by_region(maskCells, atlas) "
   ]
  },
  {
   "cell_type": "code",
   "execution_count": null,
   "id": "bd99d185-e0ac-4024-b634-4bd694c96691",
   "metadata": {
    "tags": []
   },
   "outputs": [],
   "source": [
    "## Alternate way to do this\n",
    "\n",
    "atlasapi.config.write_config_value('brainglobe_dir', '/data/.brainglobe') # points to allen mouse atlases pre-loaded in data folder \n",
    "\n",
    "atlas = BrainGlobeAtlas('allen_mouse_25um', check_latest = False) # load CCF mouse brain atlas, 25um resolution \n",
    "roiList = [\"MD\",\"PT\",\"IAD\",\"PVT\",\"IMD\",\"CM\",\"PCN\",\"CL\"] # list of thalamic sub-regions to target \n",
    "cellLocs_ch = cellLocs[\"561\"] # cell locations within one imaging channel \n",
    "\n",
    "for roi in roiList:\n",
    "    count=0\n",
    "    for cell in cellLocs_ch:\n",
    "        if atlas.structure_from_coords(cell, as_acronym=True)==roi: #do the cell coordinates map to the roi?\n",
    "            count+=1\n",
    "            \n",
    "    print(roi, count)"
   ]
  },
  {
   "cell_type": "code",
   "execution_count": null,
   "id": "87cfb716-3efc-4a86-8b05-c388dea64e0f",
   "metadata": {
    "tags": []
   },
   "outputs": [],
   "source": [
    "count=0\n",
    "for cell in cellLocs[\"561\"]:\n",
    "    if atlas.structure_from_coords(cell, as_acronym=True) in(roiList):\n",
    "        count+=1"
   ]
  },
  {
   "cell_type": "code",
   "execution_count": null,
   "id": "78be1709-fbb0-4141-8c52-f40a6a0092b3",
   "metadata": {
    "tags": []
   },
   "outputs": [],
   "source": [
    "count"
   ]
  },
  {
   "cell_type": "code",
   "execution_count": null,
   "id": "0776772b-c621-4431-84ac-f553aec67378",
   "metadata": {},
   "outputs": [],
   "source": []
  },
  {
   "cell_type": "code",
   "execution_count": null,
   "id": "8d4b9874-6e40-4930-a6df-833ca234929d",
   "metadata": {
    "tags": []
   },
   "outputs": [],
   "source": [
    "maskCells.shape"
   ]
  },
  {
   "cell_type": "code",
   "execution_count": null,
   "id": "5e82c0f8-bad4-4c45-bb62-a4cb9c58dbdd",
   "metadata": {
    "tags": []
   },
   "outputs": [],
   "source": [
    "cellLocs[\"561\"].shape"
   ]
  },
  {
   "cell_type": "markdown",
   "id": "640caec9",
   "metadata": {},
   "source": [
    "<div style=\"border-left: 3px solid #000; padding: 1px; padding-left: 10px; background: #F0FAFF; \">\n",
    "\n",
    "#### Section 4: How are targeted cells in the thalamus spatially organized?<br> \n",
    "    \n",
    "We will use different plotting tools to assess the spatial organization of the cells in each region. "
   ]
  },
  {
   "cell_type": "markdown",
   "id": "c2aebd68-7a11-463f-99ee-f6a2558df06b",
   "metadata": {},
   "source": [
    "<div style=\"border-left: 3px solid #000; padding: 1px; padding-left: 10px; background: #f69cf7; \">\n",
    "SdV: I think we need a little more motivation about what we're doing in each section. What question are we trying to answer and why?"
   ]
  },
  {
   "cell_type": "code",
   "execution_count": null,
   "id": "529e25c1-f4e6-4fe3-825d-b8fe8fba90b1",
   "metadata": {
    "tags": []
   },
   "outputs": [],
   "source": [
    "pd.DataFrame(cellLocs['445'])"
   ]
  },
  {
   "cell_type": "code",
   "execution_count": null,
   "id": "0bfe321d",
   "metadata": {
    "tags": []
   },
   "outputs": [],
   "source": [
    "# Restructures data to separate cells by brain region\n",
    "\n",
    "annot = atlas.annotation \n",
    "uniqVals, valCounts = np.unique(annot[maskCells[:,0], maskCells[:,1], maskCells[:,2]], return_counts=True)\n",
    "cellCCF = annot[maskCells[:,0], maskCells[:,1], maskCells[:,2]]\n",
    "structDict = {}\n",
    "for name in uniqVals:\n",
    "    isStruct = cellCCF == name\n",
    "    structDict[atlas.structures[name]['acronym']] = isStruct\n",
    "    "
   ]
  },
  {
   "cell_type": "code",
   "execution_count": null,
   "id": "1c9730b4-e60e-429c-810a-cee2ba5c59fe",
   "metadata": {
    "tags": []
   },
   "outputs": [],
   "source": [
    "structDict"
   ]
  },
  {
   "cell_type": "markdown",
   "id": "dee5259a",
   "metadata": {},
   "source": [
    "<div style=\"border-left: 3px solid #000; padding: 1px; padding-left: 10px; background: #F0FAFF; \">\n",
    "\n",
    "to do: add some context here about the importance of anterior-posterior organization   \n",
    "      \n",
    "    "
   ]
  },
  {
   "cell_type": "markdown",
   "id": "5f1a6590-23c9-49f5-934f-e0f1c4615c6c",
   "metadata": {
    "tags": []
   },
   "source": [
    "<div style=\"border-left: 3px solid #000; padding: 1px; padding-left: 10px; background: #f69cf7; \">\n",
    "SdV: We still don't know which coordinate is the ap one. \n",
    "\n",
    "also, why are we multiplying the coordinate by 25 below? I assume this has to do with the atlas resolution? If so, what are the units of the coordinates that we get in cellLocs?"
   ]
  },
  {
   "cell_type": "code",
   "execution_count": null,
   "id": "bfb935a6-eac2-4bd0-8c36-7eb1c45733f5",
   "metadata": {
    "tags": []
   },
   "outputs": [],
   "source": [
    "# Violin plots showing the spread of the cells across the anterior-posterior axis in each sub-region \n",
    "\n",
    "plt.figure()\n",
    "a = 1\n",
    "b = []\n",
    "c = []\n",
    "for key, val in structDict.items():\n",
    "    plt.violinplot(maskCells[val,0]*25, positions=[a], widths = 1)\n",
    "    b.extend([a])\n",
    "    c.extend([key])\n",
    "    a = a + 1\n",
    "plt.ylabel(\"AP Position (um)\")\n",
    "plt.xticks(b,c);"
   ]
  },
  {
   "cell_type": "code",
   "execution_count": null,
   "id": "f521434f-e681-49a5-9789-06590f015e30",
   "metadata": {
    "tags": []
   },
   "outputs": [],
   "source": [
    "# Heatmap depicting 2D spatial histogram of cell locations \n",
    "\n",
    "# to do - what are axes labels? \n",
    "\n",
    "bin_egdes = np.arange(0,80,1)\n",
    "plt.hist2d(maskCells[:,0]-220, maskCells[:,1]-120, bin_egdes)\n",
    "plt.colorbar();"
   ]
  },
  {
   "cell_type": "markdown",
   "id": "24596f5b-a220-4256-a77c-a49862e7bc56",
   "metadata": {},
   "source": [
    "<div style=\"border-left: 3px solid #000; padding: 1px; padding-left: 10px; background: #f69cf7; \">\n",
    "SdV: Ditto on axis labels. Also why the -220 and -120?"
   ]
  },
  {
   "cell_type": "code",
   "execution_count": null,
   "id": "b82173ed-1885-4c40-98be-b72db0ea560a",
   "metadata": {},
   "outputs": [],
   "source": [
    "# Heatmap depicting 2D spatial histogram of cell locations \n",
    "bin_egdes = np.arange(0,80,1)\n",
    "plt.hist2d(maskCells[:,2]-220, maskCells[:,1]-120, bin_egdes)\n",
    "plt.colorbar()\n",
    "plt.ylabel(\"DV\")\n",
    "plt.xlabel(\"ML\");"
   ]
  },
  {
   "cell_type": "markdown",
   "id": "aabe9759",
   "metadata": {},
   "source": [
    "<div style=\"border-left: 3px solid #000; padding: 1px; padding-left: 10px; background: #F0FAFF; \">\n",
    "\n",
    "   to do: need to add axes labels and add more context on this figure  \n"
   ]
  },
  {
   "cell_type": "code",
   "execution_count": null,
   "id": "e714fa4d",
   "metadata": {
    "tags": []
   },
   "outputs": [],
   "source": [
    "# Sort each cell into CCF structures\n",
    "\n",
    "plt.ecdf(maskCells[structDict[\"PVT\"],0]*25, label = \"PVT\")\n",
    "plt.ecdf(maskCells[structDict[\"MD\"],0]*25, label = \"MD\")\n",
    "plt.ecdf(maskCells[structDict[\"PCN\"],0]*25, label = \"PCN\")\n",
    "plt.legend()"
   ]
  },
  {
   "cell_type": "markdown",
   "id": "146e7622-aada-4d2e-9fa3-60a844ff0822",
   "metadata": {},
   "source": [
    "<div style=\"border-left: 3px solid #000; padding: 1px; padding-left: 10px; background: #f69cf7; \">\n",
    "SdV: What is this plot? cumulative histogram of AP coordinates in each region? If so, I'd put this plot up by the violin plots.\n",
    "I think this section is missing a question. The point is that the cells in different structures are in different locations? But that's a given because they are in these different structures?"
   ]
  },
  {
   "cell_type": "markdown",
   "id": "009326be-7af1-4b4c-9a8a-749758db2c6b",
   "metadata": {},
   "source": [
    "<div style=\"border-left: 3px solid #000; padding: 1px; padding-left: 10px; background: #f69cf7; \">\n",
    "SdV: Before we move to other datasets, isn't there something else to think about with this dataset? Like comparing the different channels? Comparing projections from different locations in cortex? I think it could help to motivate looking across datasets. So far it's just been can we label cells based on their coordinates, but why do we care about where these cells are located?"
   ]
  },
  {
   "cell_type": "code",
   "execution_count": null,
   "id": "655f85d5-7048-4fb6-9677-6a926c6e42d1",
   "metadata": {
    "tags": []
   },
   "outputs": [],
   "source": [
    "\n",
    "atlasapi.config.write_config_value('brainglobe_dir', '/data/.brainglobe') # points to allen mouse atlases pre-loaded in data folder \n",
    "\n",
    "atlas = BrainGlobeAtlas('allen_mouse_25um', check_latest = False) # load CCF mouse brain atlas, 25um resolution \n",
    "roiList = [\"MD\",\"PT\",\"IAD\",\"PVT\",\"IMD\",\"CM\",\"PCN\",\"CL\"] # list of thalamic sub-regions to target \n",
    "cellLocs_ch = cellLocs[\"561\"] # cell locations within one imaging channel \n",
    "\n",
    "for roi in roiList:\n",
    "    count=0\n",
    "    for cell in cellLocs_ch:\n",
    "        if atlas.structure_from_coords(cell, as_acronym=True)==roi: #do the cell coordinates map to the roi?\n",
    "            count+=1\n",
    "    print(roi, count)"
   ]
  },
  {
   "cell_type": "code",
   "execution_count": null,
   "id": "f431864b-c811-4768-a6e3-7806177ba0c9",
   "metadata": {
    "tags": []
   },
   "outputs": [],
   "source": [
    "\n",
    "cellLocs_ch = cellLocs[\"445\"] # cell locations within one imaging channel \n",
    "\n",
    "for roi in roiList:\n",
    "    count=0\n",
    "    for cell in cellLocs_ch:\n",
    "        if atlas.structure_from_coords(cell, as_acronym=True)==roi: #do the cell coordinates map to the roi?\n",
    "            count+=1\n",
    "    print(roi, count)"
   ]
  },
  {
   "cell_type": "markdown",
   "id": "e17a826c",
   "metadata": {},
   "source": [
    "<div style=\"border-left: 3px solid #000; padding: 1px; padding-left: 10px; background: #F0FAFF; \">\n",
    "\n",
    "#### Section 5: Import metadata and analyze multiple datasets<br>\n",
    "    \n",
    "Now, let's look at the data from multiple brains and channels. \n",
    "\n",
    "(to do: waiting until we can import metadata/qc information. for now, i've uploaded a few data assets to test the batch processing code) "
   ]
  },
  {
   "cell_type": "code",
   "execution_count": null,
   "id": "24e0f415-8a30-46d1-8708-e3d505f1c160",
   "metadata": {},
   "outputs": [],
   "source": [
    "# ccfCoordDict = {685903: {'445': [171, 66, 284], '488': [162, 61, 248], '561': [157, 80, 267]},\n",
    "#                 698035: {'445': [115, 120, 287], '488': [100, 127, 236], '561': [133, 133, 232]},\n",
    "#                 689238: {'445': [126, 92, 259], '488': [127, 84, 271], '561': [122, 138, 237]},\n",
    "#                 691387: {'445': [94, 117, 279], '488': [103, 124, 295], '561': [103, 131, 314]},\n",
    "#                 691388: {'445': [107, 126, 259], '488': [99, 130, 274], '561': [102, 112, 238]},\n",
    "#                 694512: {'445': [142, 101, 237], '488': [154, 75, 254], '561': [157, 89, 238]},\n",
    "#                 695721: {'445': [107, 98, 255], '488': [144, 85, 258], '561': [129, 89, 254]},\n",
    "#                 696668: {'561': [161, 82, 241]},\n",
    "#                 684812: {'445': [166, 65, 197], '488': [166, 70, 265], '561': [167, 85, 240]},\n",
    "#                 684821: {'488': [119, 100, 266], '561': [121, 98, 298]},\n",
    "#                 689237: {'445': [139, 96, 244], '561': [140, 86, 295]},\n",
    "#                 696669: {'445': [141, 87, 289], '561': [105, 113, 287]},\n",
    "#                 693977: {'488': [154, 93, 268], '561': [93, 139, 240]},\n",
    "#                 698927: {'488': [104, 128, 295], '561': [95, 117, 245]},\n",
    "#                 698928: {'488': [146, 138, 232], '561': [145, 88, 271]},\n",
    "#                 693979: {'488': [164, 91, 239], '561': [154, 95, 264]},\n",
    "#                 693980: {'488': [120, 139, 293], '561': [115, 101, 286]},\n",
    "#                 692909: {'561': [122, 132, 294]},\n",
    "#                 692907: {'561': [115, 112, 244]},\n",
    "#                 692912: {'561': [152, 131, 245]},\n",
    "#                 692911: {'561': [123, 127, 294]},\n",
    "#                 701750: {'561': [150, 142, 243]},\n",
    "#                 701751: {'561': [105, 126, 284]},\n",
    "#                 701754: {'561': [146, 80, 255]},\n",
    "#                 721832: {'488': [120, 145, 306]}} #manually annotated, estimate injection site later\n",
    "\n",
    "# virusDict = {685903:'AAVrg-XFP',\n",
    "#              # 698034:'AAVrg',\n",
    "#              698035:'AAVrg-XFP',\n",
    "#              689238:'AAVrg-XFP',\n",
    "#              691387:'AAVrg-XFP',\n",
    "#              691388:'AAVrg-XFP',\n",
    "#              694512:'AAVrg-XFP',\n",
    "#              695721:'AAVrg-XFP',\n",
    "#              696668:'AAVrg-XFP',\n",
    "#              684812:'AAVrg-XFP',\n",
    "#              684821:'AAVrg-XFP',\n",
    "#              689237:'AAVrg-XFP',\n",
    "#              696669:'AAVrg-XFP',\n",
    "#              693977:\"RabV-XFP\",\n",
    "#              698927:\"RabV-XFP\",\n",
    "#              698928:\"RabV-XFP\",\n",
    "#              693979:\"RabV-XFP\",\n",
    "#              693980:\"RabV-XFP\",\n",
    "#              692909:\"AAVrg-Recombinase\",\n",
    "#              692907:\"AAVrg-Recombinase\",\n",
    "#              692912:\"AAVrg-Recombinase\",\n",
    "#              692911:\"AAVrg-Recombinase\",\n",
    "#              685110:\"AAVrg-Recombinase\",\n",
    "#              701750:\"RabV-Recombinase\",\n",
    "#              701751:\"RabV-Recombinase\",\n",
    "#              701754:\"RabV-Recombinase\",\n",
    "#              721832:\"AAVrg-XFP\"\n",
    "#             }"
   ]
  },
  {
   "cell_type": "code",
   "execution_count": null,
   "id": "d37b90db",
   "metadata": {
    "tags": []
   },
   "outputs": [],
   "source": [
    "# suyee: placeholder until we get metadata/qc access. only working with a few data assets to test my code since i converted to using brainglobeatlas\n",
    "\n",
    "ccfCoordDict = {698035: {'445': [115, 120, 287], '488': [100, 127, 236], '561': [133, 133, 232]},\n",
    "                691388: {'445': [107, 126, 259], '488': [99, 130, 274], '561': [102, 112, 238]}} #manually annotated, estimate injection site later\n",
    "\n",
    "virusDict = {698035:'AAVrg-XFP',\n",
    "             691388:'AAVrg-XFP'}"
   ]
  },
  {
   "cell_type": "code",
   "execution_count": null,
   "id": "ac3c4dba",
   "metadata": {
    "tags": []
   },
   "outputs": [],
   "source": [
    "# Define our mouse brain atlas and brain regions of interest again \n",
    "\n",
    "atlas = BrainGlobeAtlas('allen_mouse_25um', check_latest = False) # load CCF mouse brain atlas, 25um resolution \n",
    "roiList = [\"MD\",\"PT\",\"IAD\",\"PVT\",\"IMD\",\"CM\",\"PCN\",\"CL\"] # list of thalamic sub-regions to target \n",
    "\n",
    "# iterate through all of the mouse IDs and grab the detected cell locations in each channel \n",
    "\n",
    "cellDict = {}\n",
    "for sample in ccfCoordDict.keys():\n",
    "    brainObj = load_data(sample, level=3)\n",
    "    chList = list(brainObj.ccfCellsPaths.keys())\n",
    "    cellLocs = brainObj.getCellsCCF(chList)\n",
    "    \n",
    "    for channel in ccfCoordDict[sample].keys():\n",
    "        cellLocs_ch = cellLocs[channel]\n",
    "        cellDict[str(sample) + \" \" + channel] = mask_cells(cellLocs_ch)\n",
    "        "
   ]
  },
  {
   "cell_type": "code",
   "execution_count": null,
   "id": "e4858a68-cd8a-482e-98c2-62d2619829f6",
   "metadata": {},
   "outputs": [],
   "source": []
  },
  {
   "cell_type": "markdown",
   "id": "8b01b3f9",
   "metadata": {},
   "source": [
    "<div style=\"border-left: 3px solid #000; padding: 1px; padding-left: 10px; background: #F0FAFF; \">\n",
    "\n",
    "Now, we have a dictionary that contains the cell locations for each channel imaged and processed for each mouse ID. "
   ]
  },
  {
   "cell_type": "code",
   "execution_count": null,
   "id": "7b17d50a-298a-42be-b2db-356be038e2b6",
   "metadata": {},
   "outputs": [],
   "source": [
    "for key, val in cellDict.items():\n",
    "    print(key + \": \" + str(len(val)))"
   ]
  },
  {
   "cell_type": "code",
   "execution_count": null,
   "id": "82a52abf",
   "metadata": {},
   "outputs": [],
   "source": [
    "# stopping here for now "
   ]
  },
  {
   "cell_type": "code",
   "execution_count": null,
   "id": "f3c118ad",
   "metadata": {},
   "outputs": [],
   "source": []
  },
  {
   "cell_type": "code",
   "execution_count": null,
   "id": "960074aa",
   "metadata": {},
   "outputs": [],
   "source": []
  },
  {
   "cell_type": "code",
   "execution_count": null,
   "id": "6cf4d814",
   "metadata": {},
   "outputs": [],
   "source": []
  },
  {
   "cell_type": "code",
   "execution_count": null,
   "id": "8a79d261-5b6a-46f7-955b-b0855c19f0e8",
   "metadata": {},
   "outputs": [],
   "source": [
    "for key, val in cellDict.items():\n",
    "    if len(val) > 100:\n",
    "        plt.ecdf(val[:,0]*25, label = key)\n",
    "plt.legend()"
   ]
  },
  {
   "cell_type": "code",
   "execution_count": null,
   "id": "13912839-4cfc-4022-a228-3de1167611f3",
   "metadata": {},
   "outputs": [],
   "source": [
    "plt.figure()\n",
    "a = 1\n",
    "b = []\n",
    "c = []\n",
    "for key, val in cellDict.items():\n",
    "    if len(val) > 800:\n",
    "        plt.violinplot(val[:,0]*25, positions=[a], widths = len(val)/6785)\n",
    "        b.extend([a])\n",
    "        c.extend([key])\n",
    "        a = a + 1\n",
    "plt.ylabel(\"AP Position (um)\")\n",
    "plt.xticks(b,c);"
   ]
  },
  {
   "cell_type": "code",
   "execution_count": null,
   "id": "65515e2e-f400-4421-901b-344dee693668",
   "metadata": {},
   "outputs": [],
   "source": [
    "#reshape the cellDict w/ the cell locations into a pandas dataframe \n",
    "\n",
    "pd.DataFrame.from_dict(cellDict, orient = \"index\")"
   ]
  },
  {
   "cell_type": "code",
   "execution_count": null,
   "id": "91d52767-035e-473f-ab0a-f85e780bdea1",
   "metadata": {},
   "outputs": [],
   "source": [
    "cellDict[\"698035 561\"].shape"
   ]
  },
  {
   "cell_type": "code",
   "execution_count": null,
   "id": "dd149c3c-6732-4e6d-89f4-90ebd86a9244",
   "metadata": {},
   "outputs": [],
   "source": [
    "np.vstack(cellDict.values())"
   ]
  },
  {
   "cell_type": "code",
   "execution_count": null,
   "id": "7dc0db06-2a63-44ab-9085-8daf587bbaf5",
   "metadata": {},
   "outputs": [],
   "source": [
    "stackCells = np.vstack(cellDict.values())\n",
    "# stackCells = np.vstack((cellDict[\"689238 561\"],cellDict[\"689238 488\"]))\n",
    "stepSize = 1\n",
    "x_bin_edges = np.arange(0,50,stepSize)\n",
    "y_bin_edges = np.arange(0,70,stepSize)\n",
    "plt.hist2d(stackCells[:,2]-220, stackCells[:,1]-120, (x_bin_edges, y_bin_edges))\n",
    "plt.gca().invert_yaxis()\n",
    "plt.colorbar()\n",
    "plt.ylabel(\"DV\")\n",
    "plt.xlabel(\"ML\")\n",
    "plt.savefig(\"../results/coronal hist.png\",dpi=300)"
   ]
  },
  {
   "cell_type": "code",
   "execution_count": null,
   "id": "ada54e49-56ad-408c-babc-cfe91a5be1df",
   "metadata": {},
   "outputs": [],
   "source": [
    "i = 2\n",
    "expList = list(cellDict.keys())\n",
    "stackCells = cellDict[expList[i]]\n",
    "x_bin_edges = np.arange(0,50,stepSize)\n",
    "y_bin_edges = np.arange(0,70,stepSize)\n",
    "bin_egdes = np.arange(0,80,1)\n",
    "plt.hist2d(stackCells[:,2]-220, stackCells[:,1]-120, (x_bin_edges, y_bin_edges))\n",
    "plt.gca().invert_yaxis()\n",
    "plt.colorbar()\n",
    "plt.title(expList[i])\n",
    "plt.ylabel(\"DV\")\n",
    "plt.xlabel(\"ML\");\n",
    "plt.savefig(\"../results/hist ex 3.png\",dpi=300, transparent=True)"
   ]
  },
  {
   "cell_type": "code",
   "execution_count": null,
   "id": "14e53d30-cd49-4508-8464-5337b583c5aa",
   "metadata": {},
   "outputs": [],
   "source": [
    "stackCells = np.vstack(cellDict.values())\n",
    "# stackCells = np.vstack((cellDict[\"689238 561\"],cellDict[\"689238 488\"]))\n",
    "stepSize = 1\n",
    "x_bin_edges = np.arange(0,50,stepSize)\n",
    "y_bin_edges = np.arange(0,70,stepSize)\n",
    "plt.hist2d(stackCells[:,2]-220, stackCells[:,1]-120, (x_bin_edges, y_bin_edges), cmap = 'viridis')\n",
    "plt.gca().invert_yaxis()\n",
    "# Set the color of the axes to white\n",
    "plt.gca().spines['bottom'].set_color('white')\n",
    "plt.gca().spines['top'].set_color('white') \n",
    "plt.gca().spines['right'].set_color('white')\n",
    "plt.gca().spines['left'].set_color('white')\n",
    "\n",
    "# Set the color of the ticks to white\n",
    "plt.tick_params(axis='x', colors='white')\n",
    "plt.tick_params(axis='y', colors='white')\n",
    "\n",
    "# set colorbar label plus label color\n",
    "cb = plt.colorbar()\n",
    "cb.set_label('Cell count', color='white')\n",
    "\n",
    "# set colorbar tick color\n",
    "cb.ax.yaxis.set_tick_params(color='white')\n",
    "\n",
    "# set colorbar edgecolor \n",
    "cb.outline.set_edgecolor('white')\n",
    "\n",
    "# set colorbar ticklabels\n",
    "plt.setp(plt.getp(cb.ax.axes, 'yticklabels'), color='white')\n",
    "plt.savefig(\"../results/coronal hist.png\",dpi=300, transparent =True)"
   ]
  },
  {
   "cell_type": "code",
   "execution_count": null,
   "id": "2d62021f-dde8-4971-b0a0-79903665de74",
   "metadata": {},
   "outputs": [],
   "source": [
    "stackCells = np.vstack(cellDict.values())\n",
    "# stackCells = np.vstack((cellDict[\"689238 561\"],cellDict[\"689238 488\"]))\n",
    "bin_egdes = np.arange(0,80,1)\n",
    "plt.hist2d(stackCells[:,0]-220, stackCells[:,1]-120, bin_egdes, cmap = \"viridis\")\n",
    "plt.gca().invert_yaxis()\n",
    "\n",
    "# Set the color of the axes to white\n",
    "plt.gca().spines['bottom'].set_color('white')\n",
    "plt.gca().spines['top'].set_color('white') \n",
    "plt.gca().spines['right'].set_color('white')\n",
    "plt.gca().spines['left'].set_color('white')\n",
    "\n",
    "# Set the color of the ticks to white\n",
    "plt.tick_params(axis='x', colors='white')\n",
    "plt.tick_params(axis='y', colors='white')\n",
    "\n",
    "# set colorbar label plus label color\n",
    "cb = plt.colorbar()\n",
    "cb.set_label('Cell count', color='white')\n",
    "\n",
    "# set colorbar tick color\n",
    "cb.ax.yaxis.set_tick_params(color='white')\n",
    "\n",
    "# set colorbar edgecolor \n",
    "cb.outline.set_edgecolor('white')\n",
    "\n",
    "# set colorbar ticklabels\n",
    "plt.setp(plt.getp(cb.ax.axes, 'yticklabels'), color='white')\n",
    "\n",
    "plt.savefig(\"../results/sagittal hist.png\",dpi=300, transparent=True)"
   ]
  },
  {
   "cell_type": "code",
   "execution_count": null,
   "id": "b60b3613-ac03-45b0-a5e2-98b62783a79d",
   "metadata": {},
   "outputs": [],
   "source": [
    "plt.figure(dpi=300)\n",
    "bin_egdes = np.arange(0,80,1)\n",
    "nExps = len(cellDict)\n",
    "nRow = int(np.floor(np.sqrt(nExps)))\n",
    "nCol = int(np.ceil(nExps / nRow))\n",
    "for i, items in enumerate(cellDict.items(), 1):\n",
    "    key, val = items\n",
    "    plt.subplot(nRow,nCol,i)\n",
    "    plt.hist2d(val[:,2]-220, val[:,1]-120, bin_egdes)\n",
    "    plt.colorbar()\n",
    "    plt.title(key)\n",
    "    plt.ylabel(\"DV\")\n",
    "    plt.xlabel(\"ML\")\n",
    "    # plt.rc('font',**{\"size\": 3})\n",
    "    plt.tight_layout();"
   ]
  },
  {
   "cell_type": "markdown",
   "id": "3617027b-feee-4f9c-976b-d15e9c070d2e",
   "metadata": {},
   "source": [
    "## Try NMF"
   ]
  },
  {
   "cell_type": "code",
   "execution_count": null,
   "id": "9673e0c2-3c3c-4c95-a430-45a418a2a438",
   "metadata": {},
   "outputs": [],
   "source": [
    "from sklearn.decomposition import NMF"
   ]
  },
  {
   "cell_type": "code",
   "execution_count": null,
   "id": "0ef0e3df-d875-46d0-b9f6-8e9223455202",
   "metadata": {},
   "outputs": [],
   "source": [
    "## Prepare data as an array of dictionaries\n",
    "expList = list(cellDict.keys())\n",
    "nExps = len(expList)\n",
    "stepSize = 1\n",
    "x_bin_edges = np.arange(0,50,stepSize)\n",
    "y_bin_edges = np.arange(0,70,stepSize)\n",
    "xLen = len(x_bin_edges)-1\n",
    "yLen = len(y_bin_edges)-1\n",
    "vectorSize = xLen*yLen # convert 2d array to vector\n",
    "histArray = np.empty((nExps,vectorSize))\n",
    "for i in range(nExps):\n",
    "    stackCells = cellDict[expList[i]]\n",
    "    a, xa, ya = np.histogram2d(stackCells[:,2]-220, stackCells[:,1]-120, (x_bin_edges, y_bin_edges)) # Coronal section\n",
    "    # a, xa, ya = np.histogram2d(stackCells[:,0]-220, stackCells[:,1]-120, (x_bin_edges, y_bin_edges)) # Sagittal section\n",
    "    histArray[i,:] = a.reshape(1,vectorSize)\n",
    "# plt.imshow(a.T, origin='lower')"
   ]
  },
  {
   "cell_type": "code",
   "execution_count": null,
   "id": "97d292f8-7b73-4633-8527-4aa975c59531",
   "metadata": {},
   "outputs": [],
   "source": [
    "i = 2\n",
    "# plt.imshow(histArray[i,:].reshape((xLen,yLen)).T, origin = \"lower\")\n",
    "plt.imshow(histArray[i,:].reshape((xLen,yLen)).T)"
   ]
  },
  {
   "cell_type": "code",
   "execution_count": null,
   "id": "edda1783-e0ef-4f8f-84ac-202754a555ca",
   "metadata": {},
   "outputs": [],
   "source": [
    "model = NMF(n_components=5, init='random', random_state=0)\n",
    "W = model.fit_transform(histArray)\n",
    "H = model.components_"
   ]
  },
  {
   "cell_type": "code",
   "execution_count": null,
   "id": "7a2788da-5735-449d-a3f0-eeef1545ce32",
   "metadata": {},
   "outputs": [],
   "source": [
    "i = 0\n",
    "# plt.imshow(H[i,:].reshape((xLen,yLen)).T, origin = \"lower\")\n",
    "plt.imshow(H[i,:].reshape((xLen,yLen)).T)"
   ]
  },
  {
   "cell_type": "code",
   "execution_count": null,
   "id": "90676e9a-fe4c-4089-8f68-8d44df4f8c9c",
   "metadata": {},
   "outputs": [],
   "source": [
    "for i in range(5):\n",
    "    plt.figure()\n",
    "    # plt.imshow(H[i,:].reshape((xLen,yLen)).T, origin = \"lower\")\n",
    "    plt.imshow(H[i,:].reshape((xLen,yLen)).T)\n",
    "    fn = \"../results/component \" + str(i) + \".svg\"\n",
    "    plt.savefig(fn,dpi=300)"
   ]
  },
  {
   "cell_type": "code",
   "execution_count": null,
   "id": "d12d03a0-29a8-4b09-9693-c6838646fe61",
   "metadata": {},
   "outputs": [],
   "source": [
    "vars(model)"
   ]
  },
  {
   "cell_type": "code",
   "execution_count": null,
   "id": "e1d1651e-2c30-4b1d-ba30-797af6903c39",
   "metadata": {},
   "outputs": [],
   "source": [
    "W.shape"
   ]
  },
  {
   "cell_type": "code",
   "execution_count": null,
   "id": "5bf279a3-ce8e-40d8-b195-c27486a5a2e8",
   "metadata": {},
   "outputs": [],
   "source": [
    "plt.figure()\n",
    "for i in range(W.shape[1]):\n",
    "    label = \"Component \" + str(i)\n",
    "    plt.plot(W[:,i],label=label)\n",
    "plt.legend()"
   ]
  },
  {
   "cell_type": "code",
   "execution_count": null,
   "id": "1d3d033b-0c82-4af3-b2bf-4a56efd87e31",
   "metadata": {},
   "outputs": [],
   "source": [
    "wHeldOut = W\n",
    "# wHeldOut[12,:] = 0\n",
    "np.argmax(W[:,0])\n",
    "list(cellDict.keys())[2]"
   ]
  },
  {
   "cell_type": "code",
   "execution_count": null,
   "id": "573fcc1d-6181-41ea-8545-d9268410491d",
   "metadata": {},
   "outputs": [],
   "source": [
    "np.argmax(W[:,4])\n",
    "list(cellDict.keys())[2]"
   ]
  },
  {
   "cell_type": "code",
   "execution_count": null,
   "id": "780fc6ee-2e6a-4391-b886-a7409ea6162b",
   "metadata": {},
   "outputs": [],
   "source": [
    "maxComponents = 20\n",
    "modelErr = np.zeros(maxComponents-1)\n",
    "norm = np.linalg.norm(histArray)\n",
    "for i in range(1,maxComponents):\n",
    "    model = NMF(n_components=i, init='random', random_state=0)\n",
    "    W = model.fit_transform(histArray)\n",
    "#     H = model.components_\n",
    "    modelErr[i-1] = model.reconstruction_err_"
   ]
  },
  {
   "cell_type": "code",
   "execution_count": null,
   "id": "13ca74ba-54b2-4579-bff6-83f90572f716",
   "metadata": {},
   "outputs": [],
   "source": [
    "plt.plot(np.arange(1,20),modelErr,'o-')\n",
    "plt.xticks(np.arange(0,21,5))\n",
    "plt.ylabel(\"Reconstruction Error\")\n",
    "plt.xlabel(\"Num. Components\")\n",
    "plt.savefig(\"../results/NMF Reconstruction Error.svg\",dpi=300)"
   ]
  },
  {
   "cell_type": "code",
   "execution_count": null,
   "id": "46de2930-2ae0-4a33-83b9-b4de52514ef0",
   "metadata": {},
   "outputs": [],
   "source": [
    "plt.figure()\n",
    "for i in range(W.shape[1]):\n",
    "    label = \"Component \" + str(i)\n",
    "    plt.plot(W[:,i],label=label)\n",
    "plt.legend()"
   ]
  },
  {
   "cell_type": "markdown",
   "id": "812e3c39-9ff2-4abe-814e-31e72f9e7fb3",
   "metadata": {},
   "source": [
    "## Construct dataframe for further analysis of NMF domains"
   ]
  },
  {
   "cell_type": "code",
   "execution_count": null,
   "id": "ad627bc0-13eb-4738-ba6b-605ff93fad31",
   "metadata": {},
   "outputs": [],
   "source": [
    "nComponents = 5\n",
    "model = NMF(n_components=nComponents, init='random', random_state=0)\n",
    "W = model.fit_transform(histArray)\n",
    "H = model.components_"
   ]
  },
  {
   "cell_type": "code",
   "execution_count": null,
   "id": "11b4dae4-1561-4227-b31f-43b653cfc177",
   "metadata": {},
   "outputs": [],
   "source": [
    "sampleList = []\n",
    "chList = []\n",
    "for count, name in enumerate(expList):\n",
    "    sampleList.append(np.int64(expList[count][0:6]))\n",
    "    chList.append(expList[count][7:])\n",
    "chList = np.array(chList)"
   ]
  },
  {
   "cell_type": "code",
   "execution_count": null,
   "id": "3ab50ca1",
   "metadata": {},
   "outputs": [],
   "source": [
    "# to do: need to update components of this since switching to brainglobe \n",
    "# this will also change when loading metadata "
   ]
  },
  {
   "cell_type": "code",
   "execution_count": null,
   "id": "f9692021-4bb4-42de-85d5-0123c24e63ad",
   "metadata": {},
   "outputs": [],
   "source": [
    "# Format dataframe\n",
    "ccfData = pd.DataFrame(ccfCoordDict).transpose()\n",
    "ccfData.insert(0,\"Sample\",ccfData.index)\n",
    "ccfData = ccfData.melt(id_vars=\"Sample\", var_name = \"Channel\", value_name=\"CCF Coord\")\n",
    "ccfData = ccfData.dropna(axis = 0, how = \"any\")\n",
    "# Re-establish index\n",
    "ccfData.index = ccfData.Sample\n",
    "ccfData = ccfData.drop(columns = \"Sample\")\n",
    "\n",
    "# Add virus dictionary\n",
    "ccfData.insert(2,\"Virus\",np.nan)\n",
    "ccfData.insert(3,\"Payload\",np.nan)\n",
    "ccfData.insert(4,\"Capsid\",np.nan)\n",
    "for sample, virus in virusDict.items():\n",
    "    ccfData.loc[sample,[\"Virus\",\"Payload\",\"Capsid\"]] = [virus, virus.split('-')[1], virus.split('-')[0]]\n",
    "\n",
    "# Get coordinates for projection\n",
    "ccfCoords = np.array(list(ccfData[\"CCF Coord\"]))\n",
    "\n",
    "# Get CCF Structure\n",
    "ccfData.insert(5,\"CCF Struct\",np.nan)\n",
    "ccfData.insert(6,\"CCF Parent\",np.nan)\n",
    "coordMap = structure_tree.get_structures_by_id(annot[ccfCoords[:,0],ccfCoords[:,1],ccfCoords[:,2]])\n",
    "for count, structDict in enumerate(coordMap):\n",
    "    ccfData[\"CCF Struct\"].iloc[count] = structDict[\"acronym\"]\n",
    "    ccfData[\"CCF Parent\"].iloc[count] = acronymMap[structDict[\"structure_id_path\"][-2]] # get next level parent acronym\n",
    "    \n",
    "# Add factor contribution. ccfData order is different from expList due to melt operation.\n",
    "# Trying to reconcile these here - may be more complicated than need be...\n",
    "nExps = len(sampleList)\n",
    "expIndx = np.empty(nExps, dtype = int)\n",
    "for count, sample in enumerate(zip(ccfData.index, ccfData.Channel)):\n",
    "    for i in range(nExps):\n",
    "        if (sample[0] == sampleList[i]) & (sample[1] == chList[i]):\n",
    "            expIndx[count] = i\n",
    "            break\n",
    "\n",
    "for i in range(nComponents):\n",
    "    field = \"Factor \" + str(i)\n",
    "    ccfData[field] = W[expIndx,i] / np.max(W[expIndx,i])"
   ]
  },
  {
   "cell_type": "code",
   "execution_count": null,
   "id": "1bd4d328-a68c-427c-a0bf-ffde11307818",
   "metadata": {},
   "outputs": [],
   "source": [
    "W[expIndx,0]"
   ]
  },
  {
   "cell_type": "code",
   "execution_count": null,
   "id": "9a8556aa-ead6-435a-a440-59fc6643d874",
   "metadata": {},
   "outputs": [],
   "source": [
    "nExps = len(sampleList)\n",
    "expIndx = np.empty(nExps, dtype = int)\n",
    "for count, sample in enumerate(zip(ccfData.index, ccfData.Channel)):\n",
    "    for i in range(nExps):\n",
    "        if (sample[0] == sampleList[i]) & (sample[1] == chList[i]):\n",
    "            expIndx[count] = i\n",
    "            break\n",
    "            # print(str(sampleList[i]) + ' ' + chList[i] + ' ' + str(i))\n",
    "    # print(sample[1])"
   ]
  },
  {
   "cell_type": "code",
   "execution_count": null,
   "id": "8c558db8-d372-44b3-a5ab-754f06391f57",
   "metadata": {},
   "outputs": [],
   "source": [
    "expIndx"
   ]
  },
  {
   "cell_type": "code",
   "execution_count": null,
   "id": "04c56a7c-a13d-47ff-a9e4-c4b2e201c7b3",
   "metadata": {},
   "outputs": [],
   "source": [
    "ccfData.head(5)"
   ]
  },
  {
   "cell_type": "code",
   "execution_count": null,
   "id": "befdea61-cacf-4974-9d7f-f88e906d583c",
   "metadata": {},
   "outputs": [],
   "source": [
    "plt.figure()\n",
    "for i in range(W.shape[1]):\n",
    "    label = \"Component \" + str(i)\n",
    "    plt.plot(W[:,i],label=label)\n",
    "plt.legend()"
   ]
  },
  {
   "cell_type": "code",
   "execution_count": null,
   "id": "632e9d71-67c9-4c28-afd0-2cf48a796187",
   "metadata": {},
   "outputs": [],
   "source": [
    "ccfData.head(5)"
   ]
  },
  {
   "cell_type": "code",
   "execution_count": null,
   "id": "fd22ad52-014d-455e-932c-a585f36e0726",
   "metadata": {},
   "outputs": [],
   "source": [
    "i = 2\n",
    "plt.figure(figsize = (12.8,4.8)) # size of 2 figures\n",
    "plt.subplot(1,2,1)\n",
    "plt.imshow(H[i,:].reshape((xLen,yLen)).T, cmap = \"viridis\")\n",
    "plt.axis('tight')\n",
    "plt.subplot(1,2,2)\n",
    "field = \"Factor \" + str(i)\n",
    "sns.stripplot(ccfData,x = \"CCF Parent\", y = field, color = \"gray\", order=[\"ACAd\",\"PL\",\"ILA\",\"FRP\",\"ORBm\",\"ORBl\",\"ORBvl\",\"MOs\",\"AId\"], s = 7, jitter = .2)\n",
    "# sns.despine()\n",
    "plt.axis('tight');"
   ]
  },
  {
   "cell_type": "markdown",
   "id": "ce9cb2a5-37cd-4082-a949-c805734dc1dd",
   "metadata": {},
   "source": [
    "## Try to add flatmap representations"
   ]
  },
  {
   "cell_type": "code",
   "execution_count": null,
   "id": "05b70553-6996-4e8b-b992-672f607a0ed6",
   "metadata": {},
   "outputs": [],
   "source": [
    "from pathlib import Path\n",
    "from allensdk.core.reference_space_cache import ReferenceSpaceCache\n",
    "import ccf_streamlines.projection as ccfproj\n",
    "output_dir = '../scratch/'\n",
    "# Establish reference space\n",
    "reference_space_key = 'annotation/ccf_2017'\n",
    "resolution = 25\n",
    "rspc = ReferenceSpaceCache(resolution, reference_space_key, manifest=Path(output_dir) / 'manifest.json')\n",
    "annot, annot_info = rspc.get_annotation_volume()\n",
    "structure_tree= rspc.get_structure_tree()\n",
    "rsp = rspc.get_reference_space()\n",
    "# Set up CCF structure lookup dicts\n",
    "idMap = structure_tree.get_id_acronym_map()\n",
    "acronymMap = {IDs:acronym for acronym, IDs in idMap.items()} # invert idMap"
   ]
  },
  {
   "cell_type": "code",
   "execution_count": null,
   "id": "a7832509",
   "metadata": {
    "scrolled": true
   },
   "outputs": [],
   "source": [
    "from allensdk.api import api\n",
    "apiObj = api.Api(\"../results\")\n",
    "apiObj.retrieve_file_over_http(\"http://download.alleninstitute.org/informatics-archive/current-release/mouse_ccf/cortical_coordinates/ccf_2017/ccf_streamlines_assets/view_lookup/flatmap_dorsal.h5\",\"../scratch/flatmap_dorsal.h5\")\n",
    "apiObj.retrieve_file_over_http(\"http://download.alleninstitute.org/informatics-archive/current-release/mouse_ccf/cortical_coordinates/ccf_2017/ccf_streamlines_assets/master_updated/labelDescription_ITKSNAPColor.txt\",\"../scratch/labelDescription_ITKSNAPColor.txt\")\n",
    "apiObj.retrieve_file_over_http(\"http://download.alleninstitute.org/informatics-archive/current-release/mouse_ccf/cortical_coordinates/ccf_2017/ccf_streamlines_assets/streamlines/closest_surface_voxel_lookup.h5\",\"../scratch/closest_surface_voxel_lookup.h5\")\n",
    "apiObj.retrieve_file_over_http(\"http://download.alleninstitute.org/informatics-archive/current-release/mouse_ccf/cortical_coordinates/ccf_2017/ccf_streamlines_assets/master_updated/flatmap_dorsal.nrrd\",\"../scratch/flatmap_dorsal.nrrd\")\n",
    "apiObj.retrieve_file_over_http(\"http://download.alleninstitute.org/informatics-archive/current-release/mouse_ccf/cortical_coordinates/ccf_2017/ccf_streamlines_assets/streamlines/surface_paths_10_v3.h5\",\"../scratch/surface_paths_10_v3.h5\")"
   ]
  },
  {
   "cell_type": "code",
   "execution_count": null,
   "id": "a45e6b7c-0f8b-417b-adc0-f68c9da767ff",
   "metadata": {},
   "outputs": [],
   "source": [
    "# Get flatmap boundaries\n",
    "bf_boundary_finder = ccfproj.BoundaryFinder(\n",
    "    projected_atlas_file=\"../scratch/flatmap_dorsal.nrrd\",\n",
    "    labels_file=\"../scratch/labelDescription_ITKSNAPColor.txt\",\n",
    ")\n",
    "\n",
    "# And we can get the right hemisphere boundaries that match up with\n",
    "# our projection if we specify the same configuration\n",
    "bf_right_boundaries = bf_boundary_finder.region_boundaries(\n",
    "    # we want the right hemisphere boundaries, but located in the right place\n",
    "    # to plot both hemispheres at the same time\n",
    "    hemisphere='right',\n",
    "\n",
    "    # we also want the hemispheres to be adjacent\n",
    "    view_space_for_other_hemisphere='flatmap_dorsal',\n",
    ")\n",
    "\n",
    "# Setup projector object\n",
    "ccf_coord_proj = ccfproj.IsocortexCoordinateProjector(\n",
    "    projection_file=\"../scratch/flatmap_dorsal.h5\",\n",
    "    surface_paths_file=\"../scratch/surface_paths_10_v3.h5\",\n",
    "    closest_surface_voxel_reference_file=\"../scratch/closest_surface_voxel_lookup.h5\"\n",
    ")"
   ]
  },
  {
   "cell_type": "code",
   "execution_count": null,
   "id": "a3c734ef-ad55-44df-96b9-435f52c4550a",
   "metadata": {},
   "outputs": [],
   "source": [
    "# Project CCF coords onto flatmap\n",
    "injCoords = ccfCoords*25 # convert from voxels to microns\n",
    "\n",
    "# Project injection site onto dorsal flatmap\n",
    "projCoords = ccf_coord_proj.project_coordinates(injCoords, scale='voxels', hemisphere = 'right', view_space_for_other_hemisphere=\"flatmap_dorsal\")\n",
    "\n",
    "# Add projections to dataframe\n",
    "ccfData.insert(4,\"ML\",np.nan)\n",
    "ccfData.insert(5,\"AP\",np.nan)\n",
    "ccfData.insert(6,\"DV\",np.nan)\n",
    "ccfData.loc[:,[\"ML\",\"AP\",\"DV\"]] = projCoords"
   ]
  },
  {
   "cell_type": "code",
   "execution_count": null,
   "id": "ac4e283a-3019-4d02-a581-e66546e2123e",
   "metadata": {},
   "outputs": [],
   "source": [
    "for k, boundary_coords in bf_right_boundaries.items():\n",
    "    plt.plot(*boundary_coords.T, color = 'k', lw= 2)\n",
    "\n",
    "sns.scatterplot(ccfData,x = \"ML\", y = \"AP\",edgecolor = \"none\", hue = \"Factor 2\",zorder = 2, s =80, palette = \"viridis\")\n",
    "plt.legend(loc = \"upper right\")"
   ]
  },
  {
   "cell_type": "code",
   "execution_count": null,
   "id": "5c9f8774-3a92-4cbf-9735-8eb0a0c01ea4",
   "metadata": {},
   "outputs": [],
   "source": [
    "i = 1\n",
    "plt.figure(figsize = (12.8,4.8)) # size of 2 figures\n",
    "plt.subplot(1,2,1)\n",
    "plt.imshow(H[i,:].reshape((xLen,yLen)).T, cmap = \"viridis\")\n",
    "plt.axis('tight')\n",
    "plt.subplot(1,2,2)\n",
    "field = \"Factor \" + str(i)\n",
    "sns.stripplot(ccfData,x = \"CCF Parent\", y = field, color = \"gray\", order=[\"ACAd\",\"PL\",\"ILA\",\"FRP\",\"ORBm\",\"ORBl\",\"ORBvl\",\"MOs\",\"AId\"], s = 7, jitter = .2)\n",
    "# sns.despine()\n",
    "plt.axis('tight');"
   ]
  },
  {
   "cell_type": "code",
   "execution_count": null,
   "id": "172d9c3a-d53f-4a46-bde2-963f2a47dea7",
   "metadata": {},
   "outputs": [],
   "source": [
    "ccfData.sort_values(\"Factor 1\", ascending=False)"
   ]
  },
  {
   "cell_type": "code",
   "execution_count": null,
   "id": "57e95daa-74c9-44d9-8766-9bfe1c749c63",
   "metadata": {},
   "outputs": [],
   "source": [
    "struct = \"Factor 1\"\n",
    "plotData = ccfData.copy()\n",
    "plt.figure(dpi=300)\n",
    "for k, boundary_coords in bf_right_boundaries.items():\n",
    "    plt.plot(*boundary_coords.T, color = 'k', lw= 2)\n",
    "\n",
    "plotData = plotData.sort_values(by=struct,ascending=True) # sort for plotting largest value on top\n",
    "ax = sns.scatterplot(plotData,x = \"ML\", y = \"AP\", s = 45, hue = struct, hue_norm=(0,1),\n",
    "                     edgecolor = 'black', linewidth = 1, zorder = 2, palette = 'viridis')\n",
    "\n",
    "norm = plt.Normalize(0, 1)\n",
    "sm = plt.cm.ScalarMappable(cmap=\"viridis\", norm=norm)\n",
    "sm = plt.cm.ScalarMappable(cmap=\"viridis\")\n",
    "plt.colorbar(sm, ax = ax)\n",
    "ax.get_legend().remove()\n",
    "plt.title(struct)\n",
    "plt.savefig(\"../results/factor 1 flatmap.svg\",dpi=300)"
   ]
  },
  {
   "cell_type": "code",
   "execution_count": null,
   "id": "7ee4af70-b450-4b77-8845-58de043af1b4",
   "metadata": {},
   "outputs": [],
   "source": [
    "for i in range(5):\n",
    "    plt.figure()\n",
    "    # plt.imshow(H[i,:].reshape((xLen,yLen)).T, origin = \"lower\")\n",
    "    plt.imshow(H[i,:].reshape((xLen,yLen)).T)\n",
    "    plt.title(i)"
   ]
  },
  {
   "cell_type": "code",
   "execution_count": null,
   "id": "891f887e-2dcb-45a3-8bec-e3e1ff5f6b86",
   "metadata": {},
   "outputs": [],
   "source": [
    "from matplotlib.colors import Normalize, to_hex"
   ]
  },
  {
   "cell_type": "code",
   "execution_count": null,
   "id": "24763b0b-1316-463b-8d65-d505c746fdf5",
   "metadata": {},
   "outputs": [],
   "source": [
    "\n",
    "# rFactor = \"Factor 0\"\n",
    "# gFactor = \"Factor 1\"\n",
    "# bFactor = \"Factor 2\"\n",
    "\n",
    "rFactor = \"Factor 1\"\n",
    "gFactor = \"Factor 0\"\n",
    "bFactor = \"Factor 3\"\n",
    "plotData = ccfData.copy()\n",
    "plt.figure(dpi=300)\n",
    "for k, boundary_coords in bf_right_boundaries.items():\n",
    "    plt.plot(*boundary_coords.T, color = 'k', lw= 2)\n",
    "\n",
    "plotData['color'] = plotData.apply(lambda row: to_hex((row[rFactor], row[gFactor], row[bFactor])), axis=1)\n",
    "palette = {color: color for color in plotData['color'].unique()}\n",
    "plotData = plotData.sort_values(by='color',ascending=True) # sort for plotting largest value on top\n",
    "ax = sns.scatterplot(plotData,x = \"ML\", y = \"AP\", s = 45, hue = \"color\",\n",
    "                     edgecolor = 'black', linewidth = 1, zorder = 2, palette = palette)\n",
    "\n",
    "ax.get_legend().remove()\n",
    "plt.title(rFactor + \" \" + gFactor + \" \" + bFactor)\n",
    "plt.savefig(\"../results/joint factors flatmap.svg\",dpi=300)"
   ]
  },
  {
   "cell_type": "code",
   "execution_count": null,
   "id": "3bf71557-2f38-4c1d-a7de-9b24da16b9cf",
   "metadata": {},
   "outputs": [],
   "source": [
    "\n",
    "# rFactor = \"Factor 0\"\n",
    "# gFactor = \"Factor 1\"\n",
    "# bFactor = \"Factor 2\"\n",
    "\n",
    "rFactor = \"Factor 1\"\n",
    "gFactor = \"Factor 0\"\n",
    "bFactor = \"Factor 2\"\n",
    "plotData = ccfData.copy()\n",
    "plt.figure(dpi=300)\n",
    "for k, boundary_coords in bf_right_boundaries.items():\n",
    "    plt.plot(*boundary_coords.T, color = 'k', lw= 2)\n",
    "\n",
    "plotData['color'] = plotData.apply(lambda row: to_hex((row[rFactor], row[gFactor], row[bFactor])), axis=1)\n",
    "palette = {color: color for color in plotData['color'].unique()}\n",
    "plotData = plotData.sort_values(by='color',ascending=True) # sort for plotting largest value on top\n",
    "ax = sns.scatterplot(plotData,x = \"ML\", y = \"AP\", s = 45, hue = \"color\",\n",
    "                     edgecolor = 'black', linewidth = 1, zorder = 2, palette = palette)\n",
    "\n",
    "ax.get_legend().remove()\n",
    "plt.title(rFactor + \" \" + gFactor + \" \" + bFactor)\n",
    "# plt.savefig(\"../results/joint factors flatmap.svg\",dpi=300)"
   ]
  },
  {
   "cell_type": "code",
   "execution_count": null,
   "id": "24912a17-0a06-4725-8c74-f873468011e8",
   "metadata": {},
   "outputs": [],
   "source": [
    "# Create RGB colors and convert them to hex\n",
    "plotData['color'] = plotData.apply(lambda row: to_hex((row['Factor 0'], row['Factor 1'], row['Factor 2'])), axis=1)\n",
    "# Create a color palette dictionary\n",
    "palette = {color: color for color in plotData['color'].unique()}\n",
    "# sns.scatterplot(data=X, x='posX', y='posY', hue='color', palette=X['color'].unique(), legend=False, s=100)"
   ]
  },
  {
   "cell_type": "code",
   "execution_count": null,
   "id": "c6d7d85c-8a37-4453-8e85-2f3381daa048",
   "metadata": {},
   "outputs": [],
   "source": [
    "ccfData.sort_values(\"Factor 1\", ascending=False).head(5)"
   ]
  },
  {
   "cell_type": "code",
   "execution_count": null,
   "id": "4996f8ff-15eb-413d-adc0-8e93b4f9f48f",
   "metadata": {},
   "outputs": [],
   "source": [
    "lookFor = \"698927 488\"\n",
    "for i, name in enumerate(expList):\n",
    "    if name == lookFor:\n",
    "        print(name)\n",
    "        print(i)\n",
    "        break"
   ]
  },
  {
   "cell_type": "code",
   "execution_count": null,
   "id": "a0531f23-472b-4edf-a982-8d0693068a2a",
   "metadata": {},
   "outputs": [],
   "source": [
    "i = 33\n",
    "plt.imshow(histArray[i,:].reshape((xLen,yLen)).T)"
   ]
  },
  {
   "cell_type": "code",
   "execution_count": null,
   "id": "5de715ba-d2b0-4a2c-af8f-a3d0efc39170",
   "metadata": {},
   "outputs": [],
   "source": [
    "i = 4\n",
    "showName = 2\n",
    "field = \"Factor \" + str(i)\n",
    "sns.stripplot(ccfData,x = \"CCF Parent\", y = field, color = \"white\", order=[\"ACAd\",\"PL\",\"ILA\",\"FRP\",\"ORBm\",\"ORBl\",\"ORBvl\",\"MOs\",\"AId\"], s = 7, jitter = .2)\n",
    "sns.despine()\n",
    "plt.ylabel(\"Factor \" + str(showName), color = \"white\")\n",
    "plt.xlabel('Injection Site', color='white')\n",
    "plt.axis('tight');\n",
    "\n",
    "# Set the color of the axes to white\n",
    "plt.gca().spines['bottom'].set_color('white')\n",
    "plt.gca().spines['top'].set_color('white') \n",
    "plt.gca().spines['right'].set_color('white')\n",
    "plt.gca().spines['left'].set_color('white')\n",
    "\n",
    "# Set the color of the ticks to white\n",
    "plt.tick_params(axis='x', colors='white')\n",
    "plt.tick_params(axis='y', colors='white')\n",
    "\n",
    "\n",
    "# Set the color of the axis labels to white\n",
    "# plt.xlabel('X Axis', color='white')\n",
    "# plt.ylabel('Y Axis', color='white')\n",
    "\n",
    "plt.savefig(\"../results/input \" + str(showName) + \".svg\", dpi = 300, transparent=True)"
   ]
  }
 ],
 "metadata": {
  "kernelspec": {
   "display_name": "Python 3 (ipykernel)",
   "language": "python",
   "name": "python3"
  },
  "language_info": {
   "codemirror_mode": {
    "name": "ipython",
    "version": 3
   },
   "file_extension": ".py",
   "mimetype": "text/x-python",
   "name": "python",
   "nbconvert_exporter": "python",
   "pygments_lexer": "ipython3",
   "version": "3.10.12"
  }
 },
 "nbformat": 4,
 "nbformat_minor": 5
}
