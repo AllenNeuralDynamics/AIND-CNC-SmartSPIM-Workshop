{
 "cells": [
  {
   "cell_type": "markdown",
   "id": "0ed2e768-dc1c-46b6-a70f-fa4345ecb0e8",
   "metadata": {
    "jupyter": {
     "source_hidden": false
    }
   },
   "source": [
    "<h1 align=\"center\">UW CNC Fall Hackathon </h1>  \n",
    "<h3 align=\"center\"> Dec 4, 2024 </h3>   \n",
    "<h3 align=\"center\"> mapping mesoscale connectivity between the frontal cortex and thalamus</h3> \n",
    "    \n",
    "    "
   ]
  },
  {
   "cell_type": "markdown",
   "id": "9450874e",
   "metadata": {},
   "source": [
    "<div style=\"border-left: 3px solid #000; padding: 1px; padding-left: 10px; background: #F0FAFF; \">\n",
    "    \n",
    "**Overview:** In this notebook, we will analyze the connectivity between thalamic subregions and the frontal cortex using a 3D light sheet microscopy dataset of whole mouse brains. \n",
    "While this tutorial focuses on thalamic inputs to the frontal cortex, the dataset contains connections between the frontal cortex and other brain regions that have yet to be thoroughly explored.    \n",
    "    \n",
    "**Dataset:**  \n",
    "    \n",
    "**Experiment:** Retrograde viruses were injected into frontal cortex to induce the expression of nuclear-localized fluorophores in host cells in frontal cortex and their presynaptic partners across the brain. Each brain received 1-3 viral injections, resulting in multiple color channels highlighting different connections. Whole brains were imaged using a light sheet microscope (SmartSPIM). \n",
    "    \n",
    "**Image Processing:** The image tiles were stitched together into a 3D volume then transformed into a reference brain template called the Common Coordinate Framework (CCF). A cell detection model was applied to the images, yielding spatial coordinates for each detected cell. *Note that the cell detection model was optimized for the thalamus.  \n",
    "        \n",
    "**Goal:** This tutorial will show you how to:  \n",
    "    1. analyze connectivity across brain regions  \n",
    "    2. work with 3D volumetric microscopy data of whole mouse brains \n",
    "\n"
   ]
  },
  {
   "cell_type": "markdown",
   "id": "538e274b",
   "metadata": {},
   "source": [
    "<div style=\"border-left: 3px solid #000; padding: 1px; padding-left: 10px; background: #F0FAFF; \">\n",
    "\n",
    "#### Section 1: Import packages and load data<br>\n",
    "    \n",
    "    "
   ]
  },
  {
   "cell_type": "code",
   "execution_count": 1,
   "id": "b1f94bd0-8928-4a05-8079-2aa84a3ac300",
   "metadata": {
    "tags": []
   },
   "outputs": [],
   "source": [
    "# general imports \n",
    "\n",
    "import numpy as np\n",
    "import matplotlib.pyplot as plt\n",
    "from matplotlib.colors import LogNorm, Normalize\n",
    "import pandas as pd\n",
    "%matplotlib inline"
   ]
  },
  {
   "cell_type": "code",
   "execution_count": 2,
   "id": "531bb4ba-851d-45a7-8a5e-a0eeab22b67c",
   "metadata": {},
   "outputs": [],
   "source": [
    "# specific imports and initialize brain atlas \n",
    "\n",
    "from load_data import load_data\n",
    "import brainglobe_atlasapi as atlasapi\n",
    "from brainglobe_atlasapi import BrainGlobeAtlas\n",
    "atlasapi.config.write_config_value('brainglobe_dir', '/data/.brainglobe') # points to allen mouse atlases pre-loaded in data folder \n",
    "atlas = BrainGlobeAtlas('allen_mouse_25um', \n",
    "                        check_latest = False) # load CCF mouse brain atlas, 25um resolution "
   ]
  },
  {
   "cell_type": "markdown",
   "id": "821fe0f5",
   "metadata": {},
   "source": [
    "<div style=\"border-left: 3px solid #000; padding: 1px; padding-left: 10px; background: #F0FAFF; \">\n",
    "\n",
    "### Break:  \n",
    "we will start by importing metadata as a df and unpack some of the experimental information"
   ]
  },
  {
   "cell_type": "code",
   "execution_count": null,
   "id": "a6d1431c",
   "metadata": {},
   "outputs": [],
   "source": []
  },
  {
   "cell_type": "code",
   "execution_count": null,
   "id": "cd13b4eb",
   "metadata": {},
   "outputs": [],
   "source": []
  },
  {
   "cell_type": "code",
   "execution_count": null,
   "id": "f5b03c5f",
   "metadata": {},
   "outputs": [],
   "source": []
  },
  {
   "cell_type": "code",
   "execution_count": null,
   "id": "53d2abe7",
   "metadata": {},
   "outputs": [],
   "source": []
  },
  {
   "cell_type": "code",
   "execution_count": null,
   "id": "341d2ad7",
   "metadata": {},
   "outputs": [],
   "source": []
  },
  {
   "cell_type": "markdown",
   "id": "46612880",
   "metadata": {},
   "source": [
    "<div style=\"border-left: 3px solid #000; padding: 1px; padding-left: 10px; background: #F0FAFF; \">\n",
    "\n",
    "#### Load data for a single brain \n",
    "      \n",
    "load_data will pull the relevant data from the files for a given mouse ID.  \n",
    "\n",
    "Here, you can see which channels went through each stage of processing.  \n",
    "(raw image channels > cell segmentation model applied > transformation to CCF space)\n",
    "    \n",
    "(to do: write docstrings for load_data) \n"
   ]
  },
  {
   "cell_type": "markdown",
   "id": "5250918b-4b4d-4c15-879b-d92fa4e05395",
   "metadata": {},
   "source": [
    "<div style=\"border-left: 3px solid #000; padding: 1px; padding-left: 10px; background: #f69cf7; \">\n",
    "SdV: Can we add proper docstrings to the functions in load_data to help users understand what the functions do, what inputs are, what outputs are, etc?"
   ]
  },
  {
   "cell_type": "markdown",
   "id": "eda28246-3b81-47f5-a515-99490403403c",
   "metadata": {},
   "source": [
    "<div style=\"border-left: 3px solid #000; padding: 1px; padding-left: 10px; background: #f69cf7; \">\n",
    "SdV: It might help to start with picking a brain - what do we know about this brain? Why are we picking it? This might work best starting with metadata, so we can add that shortly, but rather than brain out of a hat, let's motivate why we are looking at this brain."
   ]
  },
  {
   "cell_type": "code",
   "execution_count": 3,
   "id": "f23b1971",
   "metadata": {
    "tags": []
   },
   "outputs": [
    {
     "name": "stdout",
     "output_type": "stream",
     "text": [
      "Loading data from ../data/SmartSPIM_698035_2023-10-24_18-38-40_stitched_2023-10-28_20-52-51/image_tile_fusing/OMEZarr\n",
      "Found the following channels: ['445', '488', '561', '639']\n",
      "Found cell segmentations in the following channels: ['445', '488', '561']\n",
      "Found CCF aligned quantifications in the following channels: ['445', '488', '561']\n",
      "Grabbing volumes for level: 3\n"
     ]
    }
   ],
   "source": [
    "mouse_ID = '698035' \n",
    "x = load_data(mouse_ID)"
   ]
  },
  {
   "cell_type": "markdown",
   "id": "2150fe2b",
   "metadata": {},
   "source": [
    "<div style=\"border-left: 3px solid #000; padding: 1px; padding-left: 10px; background: #F0FAFF; \">\n",
    "\n",
    "We can quickly look at the slices in each channel using `plotSlice`. "
   ]
  },
  {
   "cell_type": "code",
   "execution_count": 4,
   "id": "8638162d",
   "metadata": {},
   "outputs": [
    {
     "name": "stdout",
     "output_type": "stream",
     "text": [
      "Help on method plotSlice in module load_data:\n",
      "\n",
      "plotSlice(ch=[], plane='coronal', section=[], extent=[], level=3, ticks=True, printOutput=True) method of load_data.load_data instance\n",
      "    Plots a single brain slice from the volumetric data in a specified plane.\n",
      "    \n",
      "    Parameters\n",
      "    ----------\n",
      "    ch : str, optional\n",
      "        Imaging channel to plot (e.g., \"488\", \"561\"). If not specified, defaults to the shortest wavelength available.\n",
      "    plane : str, optional\n",
      "        Plane in which to view the slice: \"coronal\", \"sagittal\", or \"transverse\". Defaults to \"coronal\".\n",
      "    section : int or float, optional\n",
      "        Position along the selected plane, in microns, to slice. If not specified, defaults to the midpoint.\n",
      "    extent : list of float, optional\n",
      "        4-element list defining the [left, right, bottom, top] extent of the plot in microns.\n",
      "        If not provided, defaults to the entire image field.\n",
      "    level : int, optional\n",
      "        Downsampling level for the data. Higher levels correspond to more downsampling, for faster plotting. Default is 3.\n",
      "    ticks : bool, optional\n",
      "        Whether to display x and y axis labels and tick marks. Default is True.\n",
      "    printOutput : bool, optional\n",
      "        If True, prints information about the section and level being plotted. Default is True.\n",
      "    \n",
      "    Returns\n",
      "    -------\n",
      "    None\n",
      "        Displays a matplotlib plot of the specified slice.\n",
      "\n"
     ]
    }
   ],
   "source": [
    "help(x.plotSlice)"
   ]
  },
  {
   "cell_type": "code",
   "execution_count": 16,
   "id": "0e76b6d2",
   "metadata": {},
   "outputs": [
    {
     "data": {
      "text/plain": [
       "1282"
      ]
     },
     "execution_count": 16,
     "metadata": {},
     "output_type": "execute_result"
    }
   ],
   "source": [
    "[chVol, xLabel, yLabel, printTxt] = x.orientVol(ch = \"488\", plane = \"coronal\", returnLabels = True)\n",
    "int(chVol.shape[0])"
   ]
  },
  {
   "cell_type": "code",
   "execution_count": 17,
   "id": "0119a71b",
   "metadata": {},
   "outputs": [
    {
     "data": {
      "text/plain": [
       "(1282, 499, 929)"
      ]
     },
     "execution_count": 17,
     "metadata": {},
     "output_type": "execute_result"
    }
   ],
   "source": [
    "chVol.shape"
   ]
  },
  {
   "cell_type": "code",
   "execution_count": null,
   "id": "fd9daae4",
   "metadata": {},
   "outputs": [],
   "source": [
    "# would be good to ask what units the coordinates are in... "
   ]
  },
  {
   "cell_type": "code",
   "execution_count": 36,
   "id": "8d80df5d",
   "metadata": {
    "scrolled": true,
    "tags": []
   },
   "outputs": [
    {
     "name": "stdout",
     "output_type": "stream",
     "text": [
      "Grabbing volumes for level: 3\n",
      "Plotting coronal axis, section: 5128 (level 3 index: 641)\n"
     ]
    },
    {
     "data": {
      "image/png": "[encoded data removed]",
      "text/plain": [
       "<Figure size 640x480 with 1 Axes>"
      ]
     },
     "metadata": {},
     "output_type": "display_data"
    }
   ],
   "source": [
    "x.plotSlice(ch = \"488\", plane = \"coronal\", section = []) \n",
    "\n",
    "# find range of sections (shape of volume) \n",
    "# are these slices transformed to CCF? no \n",
    "# is the imaging sliced at 25 um? probably yes. "
   ]
  },
  {
   "cell_type": "code",
   "execution_count": null,
   "id": "41cc77b0",
   "metadata": {},
   "outputs": [],
   "source": [
    "# there seems to be a mismatch between the defined sections and the index? unpack what is in there a bit... "
   ]
  },
  {
   "cell_type": "code",
   "execution_count": 34,
   "id": "628b8568",
   "metadata": {},
   "outputs": [
    {
     "data": {
      "text/plain": [
       "291"
      ]
     },
     "execution_count": 34,
     "metadata": {},
     "output_type": "execute_result"
    }
   ],
   "source": [
    "cellLocs[cellLocs['channel'] == \"488\"][\"DV\"].max()"
   ]
  },
  {
   "cell_type": "markdown",
   "id": "a84fd8ca",
   "metadata": {},
   "source": [
    "<div style=\"border-left: 3px solid #000; padding: 1px; padding-left: 10px; background: #F0FAFF; \">\n",
    "\n",
    "Neuroglancer link to browse through the data in 3D \n",
    "    \n",
    "(note: we won't use this once we can upload metadata into a df)"
   ]
  },
  {
   "cell_type": "code",
   "execution_count": 8,
   "id": "47727534",
   "metadata": {
    "collapsed": true,
    "tags": []
   },
   "outputs": [
    {
     "ename": "AttributeError",
     "evalue": "'load_data' object has no attribute 'getNGLink'",
     "output_type": "error",
     "traceback": [
      "\u001b[0;31m---------------------------------------------------------------------------\u001b[0m",
      "\u001b[0;31mAttributeError\u001b[0m                            Traceback (most recent call last)",
      "Cell \u001b[0;32mIn[8], line 1\u001b[0m\n\u001b[0;32m----> 1\u001b[0m \u001b[43mx\u001b[49m\u001b[38;5;241;43m.\u001b[39;49m\u001b[43mgetNGLink\u001b[49m()\n\u001b[1;32m      3\u001b[0m \u001b[38;5;66;03m# point to cleaned up links in metadata\u001b[39;00m\n\u001b[1;32m      4\u001b[0m \u001b[38;5;66;03m# get neuroglancer links in metadata df \u001b[39;00m\n",
      "\u001b[0;31mAttributeError\u001b[0m: 'load_data' object has no attribute 'getNGLink'"
     ]
    }
   ],
   "source": [
    "# point to cleaned up links in metadata\n",
    "# get neuroglancer links in metadata df "
   ]
  },
  {
   "cell_type": "markdown",
   "id": "040341f7",
   "metadata": {},
   "source": [
    "<div style=\"border-left: 3px solid #000; padding: 1px; padding-left: 10px; background: #F0FAFF; \">\n",
    "\n",
    "The `getCellsCCFdf` function will load the spatial coordinates of the detected cells in each channel. Note that these coordinates are transformed into CCF space.<br><br>"
   ]
  },
  {
   "cell_type": "code",
   "execution_count": 6,
   "id": "922a97c8",
   "metadata": {},
   "outputs": [
    {
     "name": "stdout",
     "output_type": "stream",
     "text": [
      "Help on method getCellsCCFdf in module load_data:\n",
      "\n",
      "getCellsCCFdf(ch: list) method of load_data.load_data instance\n",
      "    Retrieves and formats CCF transformed coordinates of segmented cells into a dataframe. \n",
      "    \n",
      "    Parameters\n",
      "    ----------\n",
      "    ch : list of str \n",
      "        List of imaging channels to retrieve coordinates from (e.g., \"488\", \"561\"). \n",
      "    \n",
      "    Returns\n",
      "    -------\n",
      "    location_df : pd.DataFrame\n",
      "        Dataframe where each row is a cell and each column is a coordinate: AP (anterior-posterior), DV (dorsal-ventral), or ML (medial-lateral), with an additional \"channel\" column indicating the channel of origin.\n",
      "\n"
     ]
    }
   ],
   "source": [
    "help(x.getCellsCCFdf)"
   ]
  },
  {
   "cell_type": "code",
   "execution_count": 13,
   "id": "1b38b213",
   "metadata": {},
   "outputs": [
    {
     "data": {
      "text/html": [
       "<div>\n",
       "<style scoped>\n",
       "    .dataframe tbody tr th:only-of-type {\n",
       "        vertical-align: middle;\n",
       "    }\n",
       "\n",
       "    .dataframe tbody tr th {\n",
       "        vertical-align: top;\n",
       "    }\n",
       "\n",
       "    .dataframe thead th {\n",
       "        text-align: right;\n",
       "    }\n",
       "</style>\n",
       "<table border=\"1\" class=\"dataframe\">\n",
       "  <thead>\n",
       "    <tr style=\"text-align: right;\">\n",
       "      <th></th>\n",
       "      <th>AP</th>\n",
       "      <th>DV</th>\n",
       "      <th>ML</th>\n",
       "      <th>channel</th>\n",
       "    </tr>\n",
       "  </thead>\n",
       "  <tbody>\n",
       "    <tr>\n",
       "      <th>0</th>\n",
       "      <td>259</td>\n",
       "      <td>17</td>\n",
       "      <td>248</td>\n",
       "      <td>445</td>\n",
       "    </tr>\n",
       "    <tr>\n",
       "      <th>1</th>\n",
       "      <td>196</td>\n",
       "      <td>15</td>\n",
       "      <td>259</td>\n",
       "      <td>445</td>\n",
       "    </tr>\n",
       "    <tr>\n",
       "      <th>2</th>\n",
       "      <td>202</td>\n",
       "      <td>15</td>\n",
       "      <td>252</td>\n",
       "      <td>445</td>\n",
       "    </tr>\n",
       "    <tr>\n",
       "      <th>3</th>\n",
       "      <td>194</td>\n",
       "      <td>18</td>\n",
       "      <td>250</td>\n",
       "      <td>445</td>\n",
       "    </tr>\n",
       "    <tr>\n",
       "      <th>4</th>\n",
       "      <td>202</td>\n",
       "      <td>19</td>\n",
       "      <td>241</td>\n",
       "      <td>445</td>\n",
       "    </tr>\n",
       "    <tr>\n",
       "      <th>...</th>\n",
       "      <td>...</td>\n",
       "      <td>...</td>\n",
       "      <td>...</td>\n",
       "      <td>...</td>\n",
       "    </tr>\n",
       "    <tr>\n",
       "      <th>536458</th>\n",
       "      <td>338</td>\n",
       "      <td>276</td>\n",
       "      <td>246</td>\n",
       "      <td>561</td>\n",
       "    </tr>\n",
       "    <tr>\n",
       "      <th>536459</th>\n",
       "      <td>335</td>\n",
       "      <td>282</td>\n",
       "      <td>256</td>\n",
       "      <td>561</td>\n",
       "    </tr>\n",
       "    <tr>\n",
       "      <th>536460</th>\n",
       "      <td>333</td>\n",
       "      <td>282</td>\n",
       "      <td>252</td>\n",
       "      <td>561</td>\n",
       "    </tr>\n",
       "    <tr>\n",
       "      <th>536461</th>\n",
       "      <td>339</td>\n",
       "      <td>279</td>\n",
       "      <td>250</td>\n",
       "      <td>561</td>\n",
       "    </tr>\n",
       "    <tr>\n",
       "      <th>536462</th>\n",
       "      <td>339</td>\n",
       "      <td>288</td>\n",
       "      <td>279</td>\n",
       "      <td>561</td>\n",
       "    </tr>\n",
       "  </tbody>\n",
       "</table>\n",
       "<p>536463 rows × 4 columns</p>\n",
       "</div>"
      ],
      "text/plain": [
       "         AP   DV   ML channel\n",
       "0       259   17  248     445\n",
       "1       196   15  259     445\n",
       "2       202   15  252     445\n",
       "3       194   18  250     445\n",
       "4       202   19  241     445\n",
       "...     ...  ...  ...     ...\n",
       "536458  338  276  246     561\n",
       "536459  335  282  256     561\n",
       "536460  333  282  252     561\n",
       "536461  339  279  250     561\n",
       "536462  339  288  279     561\n",
       "\n",
       "[536463 rows x 4 columns]"
      ]
     },
     "execution_count": 13,
     "metadata": {},
     "output_type": "execute_result"
    }
   ],
   "source": [
    "cellLocs = x.getCellsCCFdf([\"445\", \"488\", \"561\"])\n",
    "cellLocs"
   ]
  },
  {
   "cell_type": "markdown",
   "id": "1fec1819",
   "metadata": {},
   "source": [
    "How many cells were detected in each channel? "
   ]
  },
  {
   "cell_type": "code",
   "execution_count": 9,
   "id": "ad6b9c77",
   "metadata": {},
   "outputs": [
    {
     "name": "stdout",
     "output_type": "stream",
     "text": [
      "249322\n"
     ]
    }
   ],
   "source": [
    "print(len(cellLocs[cellLocs['channel'] == \"445\"]))"
   ]
  },
  {
   "cell_type": "code",
   "execution_count": 9,
   "id": "e32cafe2",
   "metadata": {},
   "outputs": [
    {
     "name": "stdout",
     "output_type": "stream",
     "text": [
      "257323\n"
     ]
    }
   ],
   "source": [
    "print(len(cellLocs[cellLocs['channel'] == \"488\"]))"
   ]
  },
  {
   "cell_type": "code",
   "execution_count": 10,
   "id": "afa48cef",
   "metadata": {},
   "outputs": [
    {
     "name": "stdout",
     "output_type": "stream",
     "text": [
      "163794\n"
     ]
    }
   ],
   "source": [
    "print(len(cellLocs[cellLocs['channel'] == \"561\"]))"
   ]
  },
  {
   "cell_type": "code",
   "execution_count": 78,
   "id": "6feaadc0",
   "metadata": {
    "tags": []
   },
   "outputs": [],
   "source": [
    "# write docstrings and unpack function \n",
    "# what is structure? \n",
    "\n",
    "# is it possible to add brain structure outlines w/ heatmap overlaid? "
   ]
  },
  {
   "cell_type": "markdown",
   "id": "0dfdc970",
   "metadata": {},
   "source": [
    "Map the spatial coordinate of each detected cell to its corresponding brain structure"
   ]
  },
  {
   "cell_type": "code",
   "execution_count": 8,
   "id": "73bfc569",
   "metadata": {},
   "outputs": [],
   "source": [
    "# find the brain structure for each cell coordinate and attach as a new column to the dataframe \n",
    "\n",
    "brain_region = [] \n",
    "\n",
    "for _, cell in cellLocs.iterrows(): \n",
    "    ap, dv, ml = cell['AP'], cell['DV'], cell['ML']\n",
    "    brain_region.append(atlas.structure_from_coords([ap, dv, ml], as_acronym = True))\n",
    "    \n",
    "cellLocs['brain_region'] = brain_region"
   ]
  },
  {
   "cell_type": "code",
   "execution_count": 12,
   "id": "781ce5b6",
   "metadata": {},
   "outputs": [
    {
     "data": {
      "text/html": [
       "<div>\n",
       "<style scoped>\n",
       "    .dataframe tbody tr th:only-of-type {\n",
       "        vertical-align: middle;\n",
       "    }\n",
       "\n",
       "    .dataframe tbody tr th {\n",
       "        vertical-align: top;\n",
       "    }\n",
       "\n",
       "    .dataframe thead th {\n",
       "        text-align: right;\n",
       "    }\n",
       "</style>\n",
       "<table border=\"1\" class=\"dataframe\">\n",
       "  <thead>\n",
       "    <tr style=\"text-align: right;\">\n",
       "      <th></th>\n",
       "      <th>AP</th>\n",
       "      <th>DV</th>\n",
       "      <th>ML</th>\n",
       "      <th>channel</th>\n",
       "      <th>brain_region</th>\n",
       "    </tr>\n",
       "  </thead>\n",
       "  <tbody>\n",
       "    <tr>\n",
       "      <th>0</th>\n",
       "      <td>1</td>\n",
       "      <td>1</td>\n",
       "      <td>76</td>\n",
       "      <td>445</td>\n",
       "      <td>Outside atlas</td>\n",
       "    </tr>\n",
       "    <tr>\n",
       "      <th>1</th>\n",
       "      <td>1</td>\n",
       "      <td>1</td>\n",
       "      <td>76</td>\n",
       "      <td>445</td>\n",
       "      <td>Outside atlas</td>\n",
       "    </tr>\n",
       "    <tr>\n",
       "      <th>2</th>\n",
       "      <td>1</td>\n",
       "      <td>1</td>\n",
       "      <td>72</td>\n",
       "      <td>445</td>\n",
       "      <td>Outside atlas</td>\n",
       "    </tr>\n",
       "    <tr>\n",
       "      <th>3</th>\n",
       "      <td>1</td>\n",
       "      <td>1</td>\n",
       "      <td>73</td>\n",
       "      <td>445</td>\n",
       "      <td>Outside atlas</td>\n",
       "    </tr>\n",
       "    <tr>\n",
       "      <th>4</th>\n",
       "      <td>1</td>\n",
       "      <td>1</td>\n",
       "      <td>74</td>\n",
       "      <td>445</td>\n",
       "      <td>Outside atlas</td>\n",
       "    </tr>\n",
       "    <tr>\n",
       "      <th>...</th>\n",
       "      <td>...</td>\n",
       "      <td>...</td>\n",
       "      <td>...</td>\n",
       "      <td>...</td>\n",
       "      <td>...</td>\n",
       "    </tr>\n",
       "    <tr>\n",
       "      <th>670434</th>\n",
       "      <td>527</td>\n",
       "      <td>319</td>\n",
       "      <td>293</td>\n",
       "      <td>561</td>\n",
       "      <td>Outside atlas</td>\n",
       "    </tr>\n",
       "    <tr>\n",
       "      <th>670435</th>\n",
       "      <td>527</td>\n",
       "      <td>319</td>\n",
       "      <td>279</td>\n",
       "      <td>561</td>\n",
       "      <td>Outside atlas</td>\n",
       "    </tr>\n",
       "    <tr>\n",
       "      <th>670436</th>\n",
       "      <td>527</td>\n",
       "      <td>319</td>\n",
       "      <td>294</td>\n",
       "      <td>561</td>\n",
       "      <td>Outside atlas</td>\n",
       "    </tr>\n",
       "    <tr>\n",
       "      <th>670437</th>\n",
       "      <td>527</td>\n",
       "      <td>319</td>\n",
       "      <td>295</td>\n",
       "      <td>561</td>\n",
       "      <td>Outside atlas</td>\n",
       "    </tr>\n",
       "    <tr>\n",
       "      <th>670438</th>\n",
       "      <td>527</td>\n",
       "      <td>319</td>\n",
       "      <td>296</td>\n",
       "      <td>561</td>\n",
       "      <td>Outside atlas</td>\n",
       "    </tr>\n",
       "  </tbody>\n",
       "</table>\n",
       "<p>670439 rows × 5 columns</p>\n",
       "</div>"
      ],
      "text/plain": [
       "         AP   DV   ML channel   brain_region\n",
       "0         1    1   76     445  Outside atlas\n",
       "1         1    1   76     445  Outside atlas\n",
       "2         1    1   72     445  Outside atlas\n",
       "3         1    1   73     445  Outside atlas\n",
       "4         1    1   74     445  Outside atlas\n",
       "...     ...  ...  ...     ...            ...\n",
       "670434  527  319  293     561  Outside atlas\n",
       "670435  527  319  279     561  Outside atlas\n",
       "670436  527  319  294     561  Outside atlas\n",
       "670437  527  319  295     561  Outside atlas\n",
       "670438  527  319  296     561  Outside atlas\n",
       "\n",
       "[670439 rows x 5 columns]"
      ]
     },
     "execution_count": 12,
     "metadata": {},
     "output_type": "execute_result"
    }
   ],
   "source": [
    "cellLocs"
   ]
  },
  {
   "cell_type": "code",
   "execution_count": 21,
   "id": "7455b025",
   "metadata": {},
   "outputs": [],
   "source": [
    "# Let's narrow our focus to the thalamic sub-nuclei and compare the cell counts in each brain region across channels \n",
    "# Each injection site location is slightly different within each brain.  "
   ]
  },
  {
   "cell_type": "code",
   "execution_count": 9,
   "id": "42debeab",
   "metadata": {},
   "outputs": [
    {
     "data": {
      "text/html": [
       "<div>\n",
       "<style scoped>\n",
       "    .dataframe tbody tr th:only-of-type {\n",
       "        vertical-align: middle;\n",
       "    }\n",
       "\n",
       "    .dataframe tbody tr th {\n",
       "        vertical-align: top;\n",
       "    }\n",
       "\n",
       "    .dataframe thead th {\n",
       "        text-align: right;\n",
       "    }\n",
       "</style>\n",
       "<table border=\"1\" class=\"dataframe\">\n",
       "  <thead>\n",
       "    <tr style=\"text-align: right;\">\n",
       "      <th>brain_region</th>\n",
       "      <th>CL</th>\n",
       "      <th>CM</th>\n",
       "      <th>IAD</th>\n",
       "      <th>IMD</th>\n",
       "      <th>MD</th>\n",
       "      <th>PCN</th>\n",
       "      <th>PT</th>\n",
       "      <th>PVT</th>\n",
       "    </tr>\n",
       "    <tr>\n",
       "      <th>channel</th>\n",
       "      <th></th>\n",
       "      <th></th>\n",
       "      <th></th>\n",
       "      <th></th>\n",
       "      <th></th>\n",
       "      <th></th>\n",
       "      <th></th>\n",
       "      <th></th>\n",
       "    </tr>\n",
       "  </thead>\n",
       "  <tbody>\n",
       "    <tr>\n",
       "      <th>445</th>\n",
       "      <td>2</td>\n",
       "      <td>878</td>\n",
       "      <td>2</td>\n",
       "      <td>79</td>\n",
       "      <td>982</td>\n",
       "      <td>336</td>\n",
       "      <td>7</td>\n",
       "      <td>190</td>\n",
       "    </tr>\n",
       "    <tr>\n",
       "      <th>488</th>\n",
       "      <td>16</td>\n",
       "      <td>716</td>\n",
       "      <td>172</td>\n",
       "      <td>853</td>\n",
       "      <td>1390</td>\n",
       "      <td>78</td>\n",
       "      <td>195</td>\n",
       "      <td>972</td>\n",
       "    </tr>\n",
       "    <tr>\n",
       "      <th>561</th>\n",
       "      <td>29</td>\n",
       "      <td>303</td>\n",
       "      <td>461</td>\n",
       "      <td>223</td>\n",
       "      <td>1047</td>\n",
       "      <td>9</td>\n",
       "      <td>440</td>\n",
       "      <td>1413</td>\n",
       "    </tr>\n",
       "  </tbody>\n",
       "</table>\n",
       "</div>"
      ],
      "text/plain": [
       "brain_region  CL   CM  IAD  IMD    MD  PCN   PT   PVT\n",
       "channel                                              \n",
       "445            2  878    2   79   982  336    7   190\n",
       "488           16  716  172  853  1390   78  195   972\n",
       "561           29  303  461  223  1047    9  440  1413"
      ]
     },
     "execution_count": 9,
     "metadata": {},
     "output_type": "execute_result"
    }
   ],
   "source": [
    "# thalamic subregions of interest \n",
    "roiList = [\"MD\", \"PT\", \"IAD\", \"PVT\", \"IMD\", \"CM\", \"PCN\", \"CL\"]\n",
    "\n",
    "# use pivot table to create a connectivity matrix of NxM\n",
    "# rows = channels \n",
    "# columns = thalamus brain regions \n",
    "# values = cell counts \n",
    "\n",
    "filtered_cellLocs = cellLocs[cellLocs[\"brain_region\"].isin(roiList)]\n",
    "conn_mat = filtered_cellLocs.pivot_table(index = \"channel\", \n",
    "                                      columns = \"brain_region\", \n",
    "                                      aggfunc = \"size\", \n",
    "                                      fill_value = 0)\n",
    "conn_mat"
   ]
  },
  {
   "cell_type": "code",
   "execution_count": 15,
   "id": "6841eb6e",
   "metadata": {},
   "outputs": [
    {
     "data": {
      "image/png": "[encoded data removed]",
      "text/plain": [
       "<Figure size 640x480 with 2 Axes>"
      ]
     },
     "metadata": {},
     "output_type": "display_data"
    }
   ],
   "source": [
    "# generate heatmap using matplotlib \n",
    "\n",
    "plt.imshow(conn_mat, cmap=\"gray_r\", norm=LogNorm())\n",
    "plt.colorbar(label=\"cell counts\")\n",
    "plt.xticks(ticks=range(len(conn_mat.columns)), labels=conn_mat.columns, rotation=90)\n",
    "plt.yticks(ticks=range(len(conn_mat.index)), labels=conn_mat.index)\n",
    "plt.title(\"Connectivity Matrix\")\n",
    "plt.xlabel(\"Brain Regions\")\n",
    "plt.ylabel(\"Channels\")\n",
    "plt.show()"
   ]
  },
  {
   "cell_type": "code",
   "execution_count": 17,
   "id": "aa5e89fa",
   "metadata": {},
   "outputs": [],
   "source": [
    "def plotCellsOnSlice(x, ch, plane=\"coronal\", section=None, level=3, vmin=0, vmax=600, cell_color=\"red\", cell_size=5):\n",
    "        \"\"\"\n",
    "        Plot a slice of the specified imaging channel with overlaid cell locations from a CCF-aligned dataset.\n",
    "        \n",
    "        Parameters\n",
    "        ----------\n",
    "        ch : str\n",
    "            Imaging channel to plot (e.g., \"488\" or \"561\").\n",
    "        plane : str\n",
    "            The plane in which to visualize the slice (\"coronal\", \"sagittal\", or \"horizontal\").\n",
    "        section : float\n",
    "            Position of the slice in microns along the primary plane's axis.\n",
    "        level : int\n",
    "            Resolution level of the zarr data.\n",
    "        vmin, vmax : int\n",
    "            Intensity values for contrast adjustment of the image.\n",
    "        cell_color : str\n",
    "            Color of overlaid cell dots.\n",
    "        cell_size : int\n",
    "            Size of overlaid cell dots.\n",
    "        \"\"\"\n",
    "        # Plot the specified slice\n",
    "        x.plotSlice(ch=ch, plane=plane, section=section, level=level, vmin=vmin, vmax=vmax)\n",
    "        \n",
    "        # Get the cell coordinates in the DataFrame format\n",
    "        cell_data = x.getCellsCCFdf([ch])\n",
    "        \n",
    "        # Get the orientation labels and axis corresponding to the specified plane\n",
    "        _, x_label, y_label, _ = x.orientVol(ch, plane=plane, returnLabels=True)\n",
    "        \n",
    "        # Define slice bounds for filtering\n",
    "        slice_thickness = x.zarrMultiple[level] * x.baseResolution[2 if plane == \"sagittal\" else 0]\n",
    "        \n",
    "        # Filter cells based on the selected plane and section slice\n",
    "        if plane == \"coronal\":\n",
    "            axis_name = \"AP\"\n",
    "            x_coords, y_coords = \"ML\", \"DV\"\n",
    "        elif plane == \"sagittal\":\n",
    "            axis_name = \"ML\"\n",
    "            x_coords, y_coords = \"AP\", \"DV\"\n",
    "        elif plane == \"horizontal\":\n",
    "            axis_name = \"DV\"\n",
    "            x_coords, y_coords = \"ML\", \"AP\"\n",
    "        \n",
    "        # Calculate the lower and upper bounds for cells to be included in the slice\n",
    "        if section is None:\n",
    "            section = 0.5 * cell_data[axis_name].max()  # Default to middle of range if no section specified\n",
    "        \n",
    "        lower_bound = section - 0.5 * slice_thickness\n",
    "        upper_bound = section + 0.5 * slice_thickness\n",
    "        \n",
    "        # Filter cells based on the bounds\n",
    "        cell_slice = cell_data[(cell_data[axis_name] >= lower_bound) & (cell_data[axis_name] <= upper_bound)]\n",
    "        \n",
    "        # Plot the cell locations as scatter points on the image\n",
    "        plt.scatter(cell_slice[x_coords], cell_slice[y_coords], c=cell_color, s=cell_size, label=f\"Cells ({ch})\")\n",
    "        plt.legend()\n",
    "        \n",
    "        # Finalize plot with labels\n",
    "        plt.xlabel(x_label)\n",
    "        plt.ylabel(y_label)\n",
    "        plt.title(f\"Slice at {section} µm in {plane.capitalize()} Plane with Cell Locations\")\n",
    "        plt.show()\n"
   ]
  },
  {
   "cell_type": "code",
   "execution_count": 21,
   "id": "3f55d2ea",
   "metadata": {},
   "outputs": [
    {
     "name": "stdout",
     "output_type": "stream",
     "text": [
      "Grabbing volumes for level: 3\n"
     ]
    },
    {
     "ename": "TypeError",
     "evalue": "unsupported operand type(s) for /: 'list' and 'int'",
     "output_type": "error",
     "traceback": [
      "\u001b[0;31m---------------------------------------------------------------------------\u001b[0m",
      "\u001b[0;31mTypeError\u001b[0m                                 Traceback (most recent call last)",
      "Cell \u001b[0;32mIn[21], line 1\u001b[0m\n\u001b[0;32m----> 1\u001b[0m \u001b[43mplotCellsOnSlice\u001b[49m\u001b[43m(\u001b[49m\u001b[43mx\u001b[49m\u001b[43m,\u001b[49m\u001b[43m \u001b[49m\u001b[43mch\u001b[49m\u001b[43m \u001b[49m\u001b[38;5;241;43m=\u001b[39;49m\u001b[43m \u001b[49m\u001b[38;5;124;43m\"\u001b[39;49m\u001b[38;5;124;43m488\u001b[39;49m\u001b[38;5;124;43m\"\u001b[39;49m\u001b[43m,\u001b[49m\u001b[43m \u001b[49m\u001b[43mplane\u001b[49m\u001b[38;5;241;43m=\u001b[39;49m\u001b[38;5;124;43m\"\u001b[39;49m\u001b[38;5;124;43mcoronal\u001b[39;49m\u001b[38;5;124;43m\"\u001b[39;49m\u001b[43m,\u001b[49m\u001b[43m \u001b[49m\u001b[43msection\u001b[49m\u001b[38;5;241;43m=\u001b[39;49m\u001b[43m[\u001b[49m\u001b[38;5;241;43m400\u001b[39;49m\u001b[43m]\u001b[49m\u001b[43m,\u001b[49m\u001b[43m \u001b[49m\u001b[43mlevel\u001b[49m\u001b[38;5;241;43m=\u001b[39;49m\u001b[38;5;241;43m3\u001b[39;49m\u001b[43m,\u001b[49m\u001b[43m \u001b[49m\u001b[43mvmin\u001b[49m\u001b[38;5;241;43m=\u001b[39;49m\u001b[38;5;241;43m0\u001b[39;49m\u001b[43m,\u001b[49m\u001b[43m \u001b[49m\u001b[43mvmax\u001b[49m\u001b[38;5;241;43m=\u001b[39;49m\u001b[38;5;241;43m600\u001b[39;49m\u001b[43m,\u001b[49m\u001b[43m \u001b[49m\u001b[43mcell_color\u001b[49m\u001b[38;5;241;43m=\u001b[39;49m\u001b[38;5;124;43m\"\u001b[39;49m\u001b[38;5;124;43mred\u001b[39;49m\u001b[38;5;124;43m\"\u001b[39;49m\u001b[43m,\u001b[49m\u001b[43m \u001b[49m\u001b[43mcell_size\u001b[49m\u001b[38;5;241;43m=\u001b[39;49m\u001b[38;5;241;43m5\u001b[39;49m\u001b[43m)\u001b[49m\n",
      "Cell \u001b[0;32mIn[17], line 23\u001b[0m, in \u001b[0;36mplotCellsOnSlice\u001b[0;34m(x, ch, plane, section, level, vmin, vmax, cell_color, cell_size)\u001b[0m\n\u001b[1;32m      2\u001b[0m \u001b[38;5;250m\u001b[39m\u001b[38;5;124;03m\"\"\"\u001b[39;00m\n\u001b[1;32m      3\u001b[0m \u001b[38;5;124;03mPlot a slice of the specified imaging channel with overlaid cell locations from a CCF-aligned dataset.\u001b[39;00m\n\u001b[1;32m      4\u001b[0m \u001b[38;5;124;03m\u001b[39;00m\n\u001b[0;32m   (...)\u001b[0m\n\u001b[1;32m     20\u001b[0m \u001b[38;5;124;03m    Size of overlaid cell dots.\u001b[39;00m\n\u001b[1;32m     21\u001b[0m \u001b[38;5;124;03m\"\"\"\u001b[39;00m\n\u001b[1;32m     22\u001b[0m \u001b[38;5;66;03m# Plot the specified slice\u001b[39;00m\n\u001b[0;32m---> 23\u001b[0m \u001b[43mx\u001b[49m\u001b[38;5;241;43m.\u001b[39;49m\u001b[43mplotSlice\u001b[49m\u001b[43m(\u001b[49m\u001b[43mch\u001b[49m\u001b[38;5;241;43m=\u001b[39;49m\u001b[43mch\u001b[49m\u001b[43m,\u001b[49m\u001b[43m \u001b[49m\u001b[43mplane\u001b[49m\u001b[38;5;241;43m=\u001b[39;49m\u001b[43mplane\u001b[49m\u001b[43m,\u001b[49m\u001b[43m \u001b[49m\u001b[43msection\u001b[49m\u001b[38;5;241;43m=\u001b[39;49m\u001b[43msection\u001b[49m\u001b[43m,\u001b[49m\u001b[43m \u001b[49m\u001b[43mlevel\u001b[49m\u001b[38;5;241;43m=\u001b[39;49m\u001b[43mlevel\u001b[49m\u001b[43m,\u001b[49m\u001b[43m \u001b[49m\u001b[43mvmin\u001b[49m\u001b[38;5;241;43m=\u001b[39;49m\u001b[43mvmin\u001b[49m\u001b[43m,\u001b[49m\u001b[43m \u001b[49m\u001b[43mvmax\u001b[49m\u001b[38;5;241;43m=\u001b[39;49m\u001b[43mvmax\u001b[49m\u001b[43m)\u001b[49m\n\u001b[1;32m     25\u001b[0m \u001b[38;5;66;03m# Get the cell coordinates in the DataFrame format\u001b[39;00m\n\u001b[1;32m     26\u001b[0m cell_data \u001b[38;5;241m=\u001b[39m x\u001b[38;5;241m.\u001b[39mgetCellsCCFdf([ch])\n",
      "File \u001b[0;32m~/capsule/code/load_data.py:165\u001b[0m, in \u001b[0;36mload_data.plotSlice\u001b[0;34m(self, ch, plane, section, extent, level, vmin, vmax, alpha, ticks, printOutput)\u001b[0m\n\u001b[1;32m    163\u001b[0m     section \u001b[38;5;241m=\u001b[39m sectionIndex \u001b[38;5;241m*\u001b[39m \u001b[38;5;28mself\u001b[39m\u001b[38;5;241m.\u001b[39mzarrMultiple[level]\n\u001b[1;32m    164\u001b[0m \u001b[38;5;28;01melse\u001b[39;00m: \u001b[38;5;66;03m# otherwise convert microns to indices\u001b[39;00m\n\u001b[0;32m--> 165\u001b[0m     sectionIndex \u001b[38;5;241m=\u001b[39m \u001b[38;5;28mint\u001b[39m(\u001b[43msection\u001b[49m\u001b[43m \u001b[49m\u001b[38;5;241;43m/\u001b[39;49m\u001b[43m \u001b[49m\u001b[38;5;28;43mself\u001b[39;49m\u001b[38;5;241;43m.\u001b[39;49m\u001b[43mzarrMultiple\u001b[49m\u001b[43m[\u001b[49m\u001b[43mlevel\u001b[49m\u001b[43m]\u001b[49m)\n\u001b[1;32m    166\u001b[0m \u001b[38;5;28;01mif\u001b[39;00m (\u001b[38;5;129;01mnot\u001b[39;00m extent) \u001b[38;5;241m|\u001b[39m \u001b[38;5;28mlen\u001b[39m(extent) \u001b[38;5;241m!=\u001b[39m \u001b[38;5;241m4\u001b[39m:\n\u001b[1;32m    167\u001b[0m     extentIndices \u001b[38;5;241m=\u001b[39m np\u001b[38;5;241m.\u001b[39marray([\u001b[38;5;241m0\u001b[39m, chVol\u001b[38;5;241m.\u001b[39mshape[\u001b[38;5;241m2\u001b[39m], chVol\u001b[38;5;241m.\u001b[39mshape[\u001b[38;5;241m1\u001b[39m], \u001b[38;5;241m0\u001b[39m])\n",
      "\u001b[0;31mTypeError\u001b[0m: unsupported operand type(s) for /: 'list' and 'int'"
     ]
    }
   ],
   "source": [
    "plotCellsOnSlice(x, ch = \"488\", plane=\"coronal\", section=[400], level=3, vmin=0, vmax=600, cell_color=\"red\", cell_size=5)\n"
   ]
  },
  {
   "cell_type": "code",
   "execution_count": null,
   "id": "207d1105",
   "metadata": {},
   "outputs": [],
   "source": [
    "# trying to do some plotting \n",
    "# can we overlay this with the CCF flatmap representations? \n",
    "\n"
   ]
  },
  {
   "cell_type": "code",
   "execution_count": 77,
   "id": "04fe6059",
   "metadata": {},
   "outputs": [
    {
     "data": {
      "text/plain": [
       "<matplotlib.colorbar.Colorbar at 0x7fc844cf6620>"
      ]
     },
     "execution_count": 77,
     "metadata": {},
     "output_type": "execute_result"
    },
    {
     "data": {
      "image/png": "[encoded data removed]",
      "text/plain": [
       "<Figure size 640x480 with 2 Axes>"
      ]
     },
     "metadata": {},
     "output_type": "display_data"
    }
   ],
   "source": [
    "from matplotlib.colors import ListedColormap\n",
    "\n",
    "bin_egdes = np.arange(0,500,5)\n",
    "plt.hist2d(cellLocs[cellLocs['channel'] == \"488\"][\"DV\"], cellLocs[cellLocs['channel'] == \"488\"][\"ML\"], bin_egdes, cmap = \"Greys\")\n",
    "plt.colorbar()"
   ]
  },
  {
   "cell_type": "code",
   "execution_count": 79,
   "id": "cf006c32",
   "metadata": {},
   "outputs": [
    {
     "data": {
      "text/plain": [
       "<matplotlib.colorbar.Colorbar at 0x7fc844bd37f0>"
      ]
     },
     "execution_count": 79,
     "metadata": {},
     "output_type": "execute_result"
    },
    {
     "data": {
      "image/png": "[encoded data removed]",
      "text/plain": [
       "<Figure size 640x480 with 2 Axes>"
      ]
     },
     "metadata": {},
     "output_type": "display_data"
    }
   ],
   "source": [
    "bin_egdes = np.arange(0,500,5)\n",
    "plt.hist2d(cellLocs[cellLocs['channel'] == \"445\"][\"DV\"], cellLocs[cellLocs['channel'] == \"445\"][\"ML\"], bin_egdes, cmap = \"Greys\")\n",
    "plt.colorbar()"
   ]
  },
  {
   "cell_type": "code",
   "execution_count": 80,
   "id": "d3c2fb78",
   "metadata": {},
   "outputs": [
    {
     "data": {
      "text/plain": [
       "<matplotlib.colorbar.Colorbar at 0x7fc844c67e20>"
      ]
     },
     "execution_count": 80,
     "metadata": {},
     "output_type": "execute_result"
    },
    {
     "data": {
      "image/png": "[encoded data removed]",
      "text/plain": [
       "<Figure size 640x480 with 2 Axes>"
      ]
     },
     "metadata": {},
     "output_type": "display_data"
    }
   ],
   "source": [
    "bin_egdes = np.arange(0,500,5)\n",
    "plt.hist2d(cellLocs[cellLocs['channel'] == \"561\"][\"DV\"], cellLocs[cellLocs['channel'] == \"561\"][\"ML\"], bin_egdes, cmap = \"Greys\")\n",
    "plt.colorbar()"
   ]
  },
  {
   "cell_type": "code",
   "execution_count": null,
   "id": "f01b8aa4",
   "metadata": {},
   "outputs": [],
   "source": [
    "# to do - figure out a way to overlay brain structure mask outlines or flatmap representation over this... \n",
    "# so you see that the highest concentration is in the thalamus....\n",
    "# maybe think about using get structure mask and just getting outlines but dunno how to overlay the heatmap. \n",
    "\n",
    "# what i've found is that using the brainglobe dependent visualization tools (brainglobe-heatmap and brainrender), \n",
    "# we run into that annoying issue of writing a config to the data folders and i'm not sure how to simply fix that \n",
    "# like we did for brain globe... \n",
    "\n",
    "# alternatively we can try to use flatmap representations.... ask Mathew about this or look for documentation "
   ]
  },
  {
   "cell_type": "code",
   "execution_count": null,
   "id": "2d52087d",
   "metadata": {},
   "outputs": [],
   "source": [
    "# divide by 25 to get into pixels space... "
   ]
  },
  {
   "cell_type": "code",
   "execution_count": null,
   "id": "b3901f2a",
   "metadata": {},
   "outputs": [],
   "source": []
  },
  {
   "cell_type": "code",
   "execution_count": null,
   "id": "c4774573",
   "metadata": {},
   "outputs": [],
   "source": []
  },
  {
   "cell_type": "code",
   "execution_count": null,
   "id": "cf5c048e",
   "metadata": {},
   "outputs": [],
   "source": [
    "# in the meantime can we do something similar? \n",
    "\n",
    "# for example plot a heatmap of the cells overlaid with the brain structures? need to find the right orientation \n",
    "# alternatively plot each thalamic structure accordingly with the color of cells.... \n",
    "\n",
    "# think about this later... "
   ]
  },
  {
   "cell_type": "code",
   "execution_count": null,
   "id": "10458407",
   "metadata": {},
   "outputs": [],
   "source": []
  },
  {
   "cell_type": "code",
   "execution_count": null,
   "id": "2f8a35b3",
   "metadata": {},
   "outputs": [],
   "source": [
    "# helpful to have more context on the injection sites for each channel, so we can think about comparisons "
   ]
  },
  {
   "cell_type": "code",
   "execution_count": 52,
   "id": "bb182bb8",
   "metadata": {},
   "outputs": [],
   "source": [
    "# other to do - earlier on, do some plotting of cells overlaid w/ either brain slices or some structure outlines "
   ]
  },
  {
   "cell_type": "code",
   "execution_count": null,
   "id": "a85b4773",
   "metadata": {},
   "outputs": [],
   "source": [
    "# provide some code to load in a larger dataset "
   ]
  },
  {
   "cell_type": "code",
   "execution_count": null,
   "id": "a1d0a4ba",
   "metadata": {},
   "outputs": [],
   "source": [
    "# add some questions at the end to explore further... "
   ]
  },
  {
   "cell_type": "code",
   "execution_count": null,
   "id": "b6173196",
   "metadata": {},
   "outputs": [],
   "source": []
  },
  {
   "cell_type": "code",
   "execution_count": null,
   "id": "c133979f",
   "metadata": {},
   "outputs": [],
   "source": []
  },
  {
   "cell_type": "code",
   "execution_count": null,
   "id": "a726f942",
   "metadata": {},
   "outputs": [],
   "source": []
  },
  {
   "cell_type": "code",
   "execution_count": null,
   "id": "6b4824fa",
   "metadata": {},
   "outputs": [],
   "source": [
    "# rest of notebook is in a very messy state "
   ]
  },
  {
   "cell_type": "code",
   "execution_count": null,
   "id": "ae03cdc4",
   "metadata": {},
   "outputs": [],
   "source": [
    "# can probably use something like brainglobe-render \n",
    "#  https://brainglobe.info/documentation/brainglobe-heatmap/index.html\n",
    "# look into this... "
   ]
  },
  {
   "cell_type": "code",
   "execution_count": 24,
   "id": "76f775e8",
   "metadata": {},
   "outputs": [
    {
     "data": {
      "text/plain": [
       "<matplotlib.colorbar.Colorbar at 0x7f7c0a2b3d90>"
      ]
     },
     "execution_count": 24,
     "metadata": {},
     "output_type": "execute_result"
    },
    {
     "data": {
      "image/png": "[encoded data removed]",
      "text/plain": [
       "<Figure size 640x480 with 2 Axes>"
      ]
     },
     "metadata": {},
     "output_type": "display_data"
    }
   ],
   "source": [
    "bin_egdes = np.arange(0,500,5)\n",
    "plt.hist2d(cellLocs[cellLocs['channel'] == \"445\"][\"DV\"], cellLocs[cellLocs['channel'] == \"445\"][\"ML\"], bin_egdes, cmap = \"Greys\")\n",
    "plt.colorbar()"
   ]
  },
  {
   "cell_type": "code",
   "execution_count": 25,
   "id": "a7e84976",
   "metadata": {},
   "outputs": [],
   "source": [
    "mask_root = atlas.get_structure_mask(\"root\")\n",
    "mask = atlas.get_structure_mask(\"MD\")\n",
    "mask2 = atlas.get_structure_mask(\"DORpm\")\n",
    "\n",
    "mask_root[mask_root>0]=5\n",
    "mask[mask>0]=2\n",
    "mask2[mask2>0]=3\n",
    "mask_root = mask + mask2 + mask_root"
   ]
  },
  {
   "cell_type": "code",
   "execution_count": 27,
   "id": "cb09d1e8",
   "metadata": {},
   "outputs": [
    {
     "data": {
      "text/plain": [
       "(array([[12., 14.,  9., ...,  0.,  0.,  0.],\n",
       "        [ 0.,  3.,  0., ...,  0.,  0.,  0.],\n",
       "        [ 1.,  1.,  2., ...,  0.,  0.,  0.],\n",
       "        ...,\n",
       "        [ 0.,  0.,  0., ...,  0.,  0.,  0.],\n",
       "        [ 0.,  0.,  0., ...,  0.,  0.,  0.],\n",
       "        [ 0.,  0.,  0., ...,  0.,  0.,  0.]]),\n",
       " array([  0,   5,  10,  15,  20,  25,  30,  35,  40,  45,  50,  55,  60,\n",
       "         65,  70,  75,  80,  85,  90,  95, 100, 105, 110, 115, 120, 125,\n",
       "        130, 135, 140, 145, 150, 155, 160, 165, 170, 175, 180, 185, 190,\n",
       "        195, 200, 205, 210, 215, 220, 225, 230, 235, 240, 245, 250, 255,\n",
       "        260, 265, 270, 275, 280, 285, 290, 295, 300, 305, 310, 315, 320,\n",
       "        325, 330, 335, 340, 345, 350, 355, 360, 365, 370, 375, 380, 385,\n",
       "        390, 395, 400, 405, 410, 415, 420, 425, 430, 435, 440, 445, 450,\n",
       "        455, 460, 465, 470, 475, 480, 485, 490, 495]),\n",
       " array([  0,   5,  10,  15,  20,  25,  30,  35,  40,  45,  50,  55,  60,\n",
       "         65,  70,  75,  80,  85,  90,  95, 100, 105, 110, 115, 120, 125,\n",
       "        130, 135, 140, 145, 150, 155, 160, 165, 170, 175, 180, 185, 190,\n",
       "        195, 200, 205, 210, 215, 220, 225, 230, 235, 240, 245, 250, 255,\n",
       "        260, 265, 270, 275, 280, 285, 290, 295, 300, 305, 310, 315, 320,\n",
       "        325, 330, 335, 340, 345, 350, 355, 360, 365, 370, 375, 380, 385,\n",
       "        390, 395, 400, 405, 410, 415, 420, 425, 430, 435, 440, 445, 450,\n",
       "        455, 460, 465, 470, 475, 480, 485, 490, 495]),\n",
       " <matplotlib.collections.QuadMesh at 0x7f7c09efdc90>)"
      ]
     },
     "execution_count": 27,
     "metadata": {},
     "output_type": "execute_result"
    },
    {
     "data": {
      "image/png": "[encoded data removed]",
      "text/plain": [
       "<Figure size 1200x300 with 3 Axes>"
      ]
     },
     "metadata": {},
     "output_type": "display_data"
    }
   ],
   "source": [
    "space = atlas.space\n",
    "f, axs = plt.subplots(1,3, figsize=(12, 3))\n",
    "for i, (plane, labels) in enumerate(zip(space.sections, space.axis_labels)):\n",
    "    axs[i].imshow(mask_root.max(i), cmap=\"gray\")\n",
    "    axs[i].set_title(f\"{plane.capitalize()} view\")\n",
    "    axs[i].set_ylabel(labels[0])\n",
    "    axs[i].set_xlabel(labels[1])\n"
   ]
  },
  {
   "cell_type": "code",
   "execution_count": null,
   "id": "058e7ae8",
   "metadata": {},
   "outputs": [],
   "source": [
    "bin_egdes = np.arange(0,500,5)\n",
    "plt.hist2d(cellLocs[\"445\"][:,1], cellLocs[\"445\"][:,2], bin_egdes, cmap=\"Greys\")\n",
    "plt.colorbar();"
   ]
  },
  {
   "cell_type": "code",
   "execution_count": null,
   "id": "8d5ddda6-dd68-4f86-8dd8-9a2467e73b36",
   "metadata": {
    "tags": []
   },
   "outputs": [],
   "source": [
    "bin_egdes = np.arange(0,500,5)\n",
    "plt.hist2d(cellLocs[\"561\"][:,0], cellLocs[\"561\"][:,1], bin_egdes, vmax=1000)\n",
    "plt.colorbar();"
   ]
  },
  {
   "cell_type": "markdown",
   "id": "adbd43ef",
   "metadata": {},
   "source": [
    "<div style=\"border-left: 3px solid #000; padding: 1px; padding-left: 10px; background: #F0FAFF; \">\n",
    "\n",
    "#### Section 2: Quantify cell counts in each thalamic sub-region  \n",
    "    \n",
    "We can cross-reference the spatial coordinates of the detected cells in our dataset to the CCF reference brain atlas and identify which brain regions our cells are in. Here, we use brainglobe_atlasapi to import the Allen Mouse Brain Atlas (25um resolution) and identify the spatial bounds of our brain regions of interest. You can use the same approach to target other brain regions by acronym. More details on CCF and the brain region hierarchy here. (to do: point to CCF content. e.g.https://allenswdb.github.io/background/CCF.html?highlight=ccf ) \n",
    "\n"
   ]
  },
  {
   "cell_type": "markdown",
   "id": "c13bf079-8255-4a75-93b9-0cc8fd750c19",
   "metadata": {},
   "source": [
    "<div style=\"border-left: 3px solid #000; padding: 1px; padding-left: 10px; background: #f69cf7; \">\n",
    "SdV: I wonder if it's not too hard to plot a heatmap of the cells with some CCF boundaries superimposed to try to motivate the question a bit?"
   ]
  },
  {
   "cell_type": "code",
   "execution_count": null,
   "id": "909175de-3409-4a99-8bc7-8517539a6aa6",
   "metadata": {
    "tags": []
   },
   "outputs": [],
   "source": [
    "atlasapi.config.write_config_value('brainglobe_dir', '/data/.brainglobe') # points to allen mouse atlases pre-loaded in data folder \n",
    "\n",
    "atlas = BrainGlobeAtlas('allen_mouse_25um', check_latest = False) # load CCF mouse brain atlas, 25um resolution \n",
    "\n",
    "\n",
    "stack = atlas.get_structure_mask(\"TH\")"
   ]
  },
  {
   "cell_type": "code",
   "execution_count": null,
   "id": "ce07c395-c1c2-4d99-83c8-4074f6756852",
   "metadata": {
    "tags": []
   },
   "outputs": [],
   "source": [
    "stack.shape"
   ]
  },
  {
   "cell_type": "code",
   "execution_count": null,
   "id": "abbee91c-3fd3-4d2b-ab74-8fa66108a1ec",
   "metadata": {
    "tags": []
   },
   "outputs": [],
   "source": [
    "np.where(stack>0)"
   ]
  },
  {
   "cell_type": "code",
   "execution_count": null,
   "id": "a4090fcf-6e5c-4b25-bfbd-c15d39168662",
   "metadata": {
    "tags": []
   },
   "outputs": [],
   "source": [
    "atlas.mesh_from_structure(\"TH\")"
   ]
  },
  {
   "cell_type": "code",
   "execution_count": null,
   "id": "7b53d404-2676-4ce3-a1bd-227472a03de4",
   "metadata": {
    "tags": []
   },
   "outputs": [],
   "source": [
    "plt.imshow(stack[:,:,217])"
   ]
  },
  {
   "cell_type": "code",
   "execution_count": 1,
   "id": "459ea10f-b16b-4e99-ad0e-35321c1c322f",
   "metadata": {},
   "outputs": [
    {
     "ename": "NameError",
     "evalue": "name 'np' is not defined",
     "output_type": "error",
     "traceback": [
      "\u001b[0;31m---------------------------------------------------------------------------\u001b[0m",
      "\u001b[0;31mNameError\u001b[0m                                 Traceback (most recent call last)",
      "Cell \u001b[0;32mIn[1], line 1\u001b[0m\n\u001b[0;32m----> 1\u001b[0m bin_egdes \u001b[38;5;241m=\u001b[39m \u001b[43mnp\u001b[49m\u001b[38;5;241m.\u001b[39marange(\u001b[38;5;241m0\u001b[39m,\u001b[38;5;241m500\u001b[39m,\u001b[38;5;241m5\u001b[39m)\n\u001b[1;32m      2\u001b[0m plt\u001b[38;5;241m.\u001b[39mhist2d(cellLocs[\u001b[38;5;124m\"\u001b[39m\u001b[38;5;124m561\u001b[39m\u001b[38;5;124m\"\u001b[39m][:,\u001b[38;5;241m0\u001b[39m], cellLocs[\u001b[38;5;124m\"\u001b[39m\u001b[38;5;124m561\u001b[39m\u001b[38;5;124m\"\u001b[39m][:,\u001b[38;5;241m1\u001b[39m], bin_egdes, vmax\u001b[38;5;241m=\u001b[39m\u001b[38;5;241m1000\u001b[39m)\n\u001b[1;32m      3\u001b[0m plt\u001b[38;5;241m.\u001b[39mcolorbar();\n",
      "\u001b[0;31mNameError\u001b[0m: name 'np' is not defined"
     ]
    }
   ],
   "source": [
    "bin_egdes = np.arange(0,500,5)\n",
    "plt.hist2d(cellLocs[\"561\"][:,0], cellLocs[\"561\"][:,1], bin_egdes, vmax=1000)\n",
    "plt.colorbar();\n",
    "\n"
   ]
  },
  {
   "cell_type": "markdown",
   "id": "cca007e5-a2c7-4626-b548-4df1ee329219",
   "metadata": {},
   "source": [
    "<div style=\"border-left: 3px solid #000; padding: 1px; padding-left: 10px; background: #f69cf7; \">\n",
    "SdV: These functions are wonky - parameter lists don't match the inputs and some are using global variables when they shouldn't.\n",
    "    \n",
    "`generate_region_mask`: Can we use the brainglobe mask function instead? Lean into existing tools rather than recreating them?\n",
    "    \n",
    "`mask_cells`: this function uses a roiMask that isn't passed into the function - so using a global variable. That's not good. \n",
    "    \n",
    "I wrote a shorter way to do this below. The numbers are very slightly different so someone should check, but I think it is easier to parse"
   ]
  },
  {
   "cell_type": "markdown",
   "id": "d6a7ebe8",
   "metadata": {},
   "source": [
    "<div style=\"border-left: 3px solid #000; padding: 1px; padding-left: 10px; background: #F0FAFF; \">\n",
    "\n",
    "This section uses a set of functions to:  \n",
    "1. create an array the size of the brain volume, with the brain regions of interest masked out \n",
    "2. get the cells within the brain regions \n",
    "3. count how many cells are in each region "
   ]
  },
  {
   "cell_type": "markdown",
   "id": "640caec9",
   "metadata": {},
   "source": [
    "<div style=\"border-left: 3px solid #000; padding: 1px; padding-left: 10px; background: #F0FAFF; \">\n",
    "\n",
    "#### Section 4: How are targeted cells in the thalamus spatially organized?<br> \n",
    "    \n",
    "We will use different plotting tools to assess the spatial organization of the cells in each region. "
   ]
  },
  {
   "cell_type": "markdown",
   "id": "c2aebd68-7a11-463f-99ee-f6a2558df06b",
   "metadata": {},
   "source": [
    "<div style=\"border-left: 3px solid #000; padding: 1px; padding-left: 10px; background: #f69cf7; \">\n",
    "SdV: I think we need a little more motivation about what we're doing in each section. What question are we trying to answer and why?"
   ]
  },
  {
   "cell_type": "code",
   "execution_count": null,
   "id": "529e25c1-f4e6-4fe3-825d-b8fe8fba90b1",
   "metadata": {
    "tags": []
   },
   "outputs": [],
   "source": [
    "pd.DataFrame(cellLocs['445'])"
   ]
  },
  {
   "cell_type": "code",
   "execution_count": null,
   "id": "0bfe321d",
   "metadata": {
    "tags": []
   },
   "outputs": [],
   "source": [
    "# Restructures data to separate cells by brain region\n",
    "\n",
    "annot = atlas.annotation \n",
    "uniqVals, valCounts = np.unique(annot[maskCells[:,0], maskCells[:,1], maskCells[:,2]], return_counts=True)\n",
    "cellCCF = annot[maskCells[:,0], maskCells[:,1], maskCells[:,2]]\n",
    "structDict = {}\n",
    "for name in uniqVals:\n",
    "    isStruct = cellCCF == name\n",
    "    structDict[atlas.structures[name]['acronym']] = isStruct\n",
    "    "
   ]
  },
  {
   "cell_type": "code",
   "execution_count": null,
   "id": "1c9730b4-e60e-429c-810a-cee2ba5c59fe",
   "metadata": {
    "tags": []
   },
   "outputs": [],
   "source": [
    "structDict"
   ]
  },
  {
   "cell_type": "markdown",
   "id": "dee5259a",
   "metadata": {},
   "source": [
    "<div style=\"border-left: 3px solid #000; padding: 1px; padding-left: 10px; background: #F0FAFF; \">\n",
    "\n",
    "to do: add some context here about the importance of anterior-posterior organization   \n",
    "      \n",
    "    "
   ]
  },
  {
   "cell_type": "markdown",
   "id": "5f1a6590-23c9-49f5-934f-e0f1c4615c6c",
   "metadata": {
    "tags": []
   },
   "source": [
    "<div style=\"border-left: 3px solid #000; padding: 1px; padding-left: 10px; background: #f69cf7; \">\n",
    "SdV: We still don't know which coordinate is the ap one. \n",
    "\n",
    "also, why are we multiplying the coordinate by 25 below? I assume this has to do with the atlas resolution? If so, what are the units of the coordinates that we get in cellLocs?"
   ]
  },
  {
   "cell_type": "code",
   "execution_count": null,
   "id": "bfb935a6-eac2-4bd0-8c36-7eb1c45733f5",
   "metadata": {
    "tags": []
   },
   "outputs": [],
   "source": [
    "# Violin plots showing the spread of the cells across the anterior-posterior axis in each sub-region \n",
    "\n",
    "plt.figure()\n",
    "a = 1\n",
    "b = []\n",
    "c = []\n",
    "for key, val in structDict.items():\n",
    "    plt.violinplot(maskCells[val,0]*25, positions=[a], widths = 1)\n",
    "    b.extend([a])\n",
    "    c.extend([key])\n",
    "    a = a + 1\n",
    "plt.ylabel(\"AP Position (um)\")\n",
    "plt.xticks(b,c);"
   ]
  },
  {
   "cell_type": "code",
   "execution_count": null,
   "id": "f521434f-e681-49a5-9789-06590f015e30",
   "metadata": {
    "tags": []
   },
   "outputs": [],
   "source": [
    "# Heatmap depicting 2D spatial histogram of cell locations \n",
    "\n",
    "# to do - what are axes labels? \n",
    "\n",
    "bin_egdes = np.arange(0,80,1)\n",
    "plt.hist2d(maskCells[:,0]-220, maskCells[:,1]-120, bin_egdes)\n",
    "plt.colorbar();"
   ]
  },
  {
   "cell_type": "markdown",
   "id": "24596f5b-a220-4256-a77c-a49862e7bc56",
   "metadata": {},
   "source": [
    "<div style=\"border-left: 3px solid #000; padding: 1px; padding-left: 10px; background: #f69cf7; \">\n",
    "SdV: Ditto on axis labels. Also why the -220 and -120?"
   ]
  },
  {
   "cell_type": "code",
   "execution_count": null,
   "id": "b82173ed-1885-4c40-98be-b72db0ea560a",
   "metadata": {},
   "outputs": [],
   "source": [
    "# Heatmap depicting 2D spatial histogram of cell locations \n",
    "bin_egdes = np.arange(0,80,1)\n",
    "plt.hist2d(maskCells[:,2]-220, maskCells[:,1]-120, bin_egdes)\n",
    "plt.colorbar()\n",
    "plt.ylabel(\"DV\")\n",
    "plt.xlabel(\"ML\");"
   ]
  },
  {
   "cell_type": "markdown",
   "id": "aabe9759",
   "metadata": {},
   "source": [
    "<div style=\"border-left: 3px solid #000; padding: 1px; padding-left: 10px; background: #F0FAFF; \">\n",
    "\n",
    "   to do: need to add axes labels and add more context on this figure  \n"
   ]
  },
  {
   "cell_type": "code",
   "execution_count": null,
   "id": "e714fa4d",
   "metadata": {
    "tags": []
   },
   "outputs": [],
   "source": [
    "# Sort each cell into CCF structures\n",
    "\n",
    "plt.ecdf(maskCells[structDict[\"PVT\"],0]*25, label = \"PVT\")\n",
    "plt.ecdf(maskCells[structDict[\"MD\"],0]*25, label = \"MD\")\n",
    "plt.ecdf(maskCells[structDict[\"PCN\"],0]*25, label = \"PCN\")\n",
    "plt.legend()"
   ]
  },
  {
   "cell_type": "markdown",
   "id": "146e7622-aada-4d2e-9fa3-60a844ff0822",
   "metadata": {},
   "source": [
    "<div style=\"border-left: 3px solid #000; padding: 1px; padding-left: 10px; background: #f69cf7; \">\n",
    "SdV: What is this plot? cumulative histogram of AP coordinates in each region? If so, I'd put this plot up by the violin plots.\n",
    "I think this section is missing a question. The point is that the cells in different structures are in different locations? But that's a given because they are in these different structures?"
   ]
  },
  {
   "cell_type": "markdown",
   "id": "009326be-7af1-4b4c-9a8a-749758db2c6b",
   "metadata": {},
   "source": [
    "<div style=\"border-left: 3px solid #000; padding: 1px; padding-left: 10px; background: #f69cf7; \">\n",
    "SdV: Before we move to other datasets, isn't there something else to think about with this dataset? Like comparing the different channels? Comparing projections from different locations in cortex? I think it could help to motivate looking across datasets. So far it's just been can we label cells based on their coordinates, but why do we care about where these cells are located?"
   ]
  },
  {
   "cell_type": "code",
   "execution_count": null,
   "id": "655f85d5-7048-4fb6-9677-6a926c6e42d1",
   "metadata": {
    "tags": []
   },
   "outputs": [],
   "source": [
    "\n",
    "atlasapi.config.write_config_value('brainglobe_dir', '/data/.brainglobe') # points to allen mouse atlases pre-loaded in data folder \n",
    "\n",
    "atlas = BrainGlobeAtlas('allen_mouse_25um', check_latest = False) # load CCF mouse brain atlas, 25um resolution \n",
    "roiList = [\"MD\",\"PT\",\"IAD\",\"PVT\",\"IMD\",\"CM\",\"PCN\",\"CL\"] # list of thalamic sub-regions to target \n",
    "cellLocs_ch = cellLocs[\"561\"] # cell locations within one imaging channel \n",
    "\n",
    "for roi in roiList:\n",
    "    count=0\n",
    "    for cell in cellLocs_ch:\n",
    "        if atlas.structure_from_coords(cell, as_acronym=True)==roi: #do the cell coordinates map to the roi?\n",
    "            count+=1\n",
    "    print(roi, count)"
   ]
  },
  {
   "cell_type": "code",
   "execution_count": null,
   "id": "f431864b-c811-4768-a6e3-7806177ba0c9",
   "metadata": {
    "tags": []
   },
   "outputs": [],
   "source": [
    "\n",
    "cellLocs_ch = cellLocs[\"445\"] # cell locations within one imaging channel \n",
    "\n",
    "for roi in roiList:\n",
    "    count=0\n",
    "    for cell in cellLocs_ch:\n",
    "        if atlas.structure_from_coords(cell, as_acronym=True)==roi: #do the cell coordinates map to the roi?\n",
    "            count+=1\n",
    "    print(roi, count)"
   ]
  },
  {
   "cell_type": "markdown",
   "id": "e17a826c",
   "metadata": {},
   "source": [
    "<div style=\"border-left: 3px solid #000; padding: 1px; padding-left: 10px; background: #F0FAFF; \">\n",
    "\n",
    "#### Section 5: Import metadata and analyze multiple datasets<br>\n",
    "    \n",
    "Now, let's look at the data from multiple brains and channels. \n",
    "\n",
    "(to do: waiting until we can import metadata/qc information. for now, i've uploaded a few data assets to test the batch processing code) "
   ]
  },
  {
   "cell_type": "code",
   "execution_count": null,
   "id": "24e0f415-8a30-46d1-8708-e3d505f1c160",
   "metadata": {},
   "outputs": [],
   "source": [
    "# ccfCoordDict = {685903: {'445': [171, 66, 284], '488': [162, 61, 248], '561': [157, 80, 267]},\n",
    "#                 698035: {'445': [115, 120, 287], '488': [100, 127, 236], '561': [133, 133, 232]},\n",
    "#                 689238: {'445': [126, 92, 259], '488': [127, 84, 271], '561': [122, 138, 237]},\n",
    "#                 691387: {'445': [94, 117, 279], '488': [103, 124, 295], '561': [103, 131, 314]},\n",
    "#                 691388: {'445': [107, 126, 259], '488': [99, 130, 274], '561': [102, 112, 238]},\n",
    "#                 694512: {'445': [142, 101, 237], '488': [154, 75, 254], '561': [157, 89, 238]},\n",
    "#                 695721: {'445': [107, 98, 255], '488': [144, 85, 258], '561': [129, 89, 254]},\n",
    "#                 696668: {'561': [161, 82, 241]},\n",
    "#                 684812: {'445': [166, 65, 197], '488': [166, 70, 265], '561': [167, 85, 240]},\n",
    "#                 684821: {'488': [119, 100, 266], '561': [121, 98, 298]},\n",
    "#                 689237: {'445': [139, 96, 244], '561': [140, 86, 295]},\n",
    "#                 696669: {'445': [141, 87, 289], '561': [105, 113, 287]},\n",
    "#                 693977: {'488': [154, 93, 268], '561': [93, 139, 240]},\n",
    "#                 698927: {'488': [104, 128, 295], '561': [95, 117, 245]},\n",
    "#                 698928: {'488': [146, 138, 232], '561': [145, 88, 271]},\n",
    "#                 693979: {'488': [164, 91, 239], '561': [154, 95, 264]},\n",
    "#                 693980: {'488': [120, 139, 293], '561': [115, 101, 286]},\n",
    "#                 692909: {'561': [122, 132, 294]},\n",
    "#                 692907: {'561': [115, 112, 244]},\n",
    "#                 692912: {'561': [152, 131, 245]},\n",
    "#                 692911: {'561': [123, 127, 294]},\n",
    "#                 701750: {'561': [150, 142, 243]},\n",
    "#                 701751: {'561': [105, 126, 284]},\n",
    "#                 701754: {'561': [146, 80, 255]},\n",
    "#                 721832: {'488': [120, 145, 306]}} #manually annotated, estimate injection site later\n",
    "\n",
    "# virusDict = {685903:'AAVrg-XFP',\n",
    "#              # 698034:'AAVrg',\n",
    "#              698035:'AAVrg-XFP',\n",
    "#              689238:'AAVrg-XFP',\n",
    "#              691387:'AAVrg-XFP',\n",
    "#              691388:'AAVrg-XFP',\n",
    "#              694512:'AAVrg-XFP',\n",
    "#              695721:'AAVrg-XFP',\n",
    "#              696668:'AAVrg-XFP',\n",
    "#              684812:'AAVrg-XFP',\n",
    "#              684821:'AAVrg-XFP',\n",
    "#              689237:'AAVrg-XFP',\n",
    "#              696669:'AAVrg-XFP',\n",
    "#              693977:\"RabV-XFP\",\n",
    "#              698927:\"RabV-XFP\",\n",
    "#              698928:\"RabV-XFP\",\n",
    "#              693979:\"RabV-XFP\",\n",
    "#              693980:\"RabV-XFP\",\n",
    "#              692909:\"AAVrg-Recombinase\",\n",
    "#              692907:\"AAVrg-Recombinase\",\n",
    "#              692912:\"AAVrg-Recombinase\",\n",
    "#              692911:\"AAVrg-Recombinase\",\n",
    "#              685110:\"AAVrg-Recombinase\",\n",
    "#              701750:\"RabV-Recombinase\",\n",
    "#              701751:\"RabV-Recombinase\",\n",
    "#              701754:\"RabV-Recombinase\",\n",
    "#              721832:\"AAVrg-XFP\"\n",
    "#             }"
   ]
  },
  {
   "cell_type": "code",
   "execution_count": null,
   "id": "d37b90db",
   "metadata": {
    "tags": []
   },
   "outputs": [],
   "source": [
    "# suyee: placeholder until we get metadata/qc access. only working with a few data assets to test my code since i converted to using brainglobeatlas\n",
    "\n",
    "ccfCoordDict = {698035: {'445': [115, 120, 287], '488': [100, 127, 236], '561': [133, 133, 232]},\n",
    "                691388: {'445': [107, 126, 259], '488': [99, 130, 274], '561': [102, 112, 238]}} #manually annotated, estimate injection site later\n",
    "\n",
    "virusDict = {698035:'AAVrg-XFP',\n",
    "             691388:'AAVrg-XFP'}"
   ]
  },
  {
   "cell_type": "code",
   "execution_count": null,
   "id": "ac3c4dba",
   "metadata": {
    "tags": []
   },
   "outputs": [],
   "source": [
    "# Define our mouse brain atlas and brain regions of interest again \n",
    "\n",
    "atlas = BrainGlobeAtlas('allen_mouse_25um', check_latest = False) # load CCF mouse brain atlas, 25um resolution \n",
    "roiList = [\"MD\",\"PT\",\"IAD\",\"PVT\",\"IMD\",\"CM\",\"PCN\",\"CL\"] # list of thalamic sub-regions to target \n",
    "\n",
    "# iterate through all of the mouse IDs and grab the detected cell locations in each channel \n",
    "\n",
    "cellDict = {}\n",
    "for sample in ccfCoordDict.keys():\n",
    "    brainObj = load_data(sample, level=3)\n",
    "    chList = list(brainObj.ccfCellsPaths.keys())\n",
    "    cellLocs = brainObj.getCellsCCF(chList)\n",
    "    \n",
    "    for channel in ccfCoordDict[sample].keys():\n",
    "        cellLocs_ch = cellLocs[channel]\n",
    "        cellDict[str(sample) + \" \" + channel] = mask_cells(cellLocs_ch)\n",
    "        "
   ]
  },
  {
   "cell_type": "code",
   "execution_count": null,
   "id": "e4858a68-cd8a-482e-98c2-62d2619829f6",
   "metadata": {},
   "outputs": [],
   "source": []
  },
  {
   "cell_type": "markdown",
   "id": "8b01b3f9",
   "metadata": {},
   "source": [
    "<div style=\"border-left: 3px solid #000; padding: 1px; padding-left: 10px; background: #F0FAFF; \">\n",
    "\n",
    "Now, we have a dictionary that contains the cell locations for each channel imaged and processed for each mouse ID. "
   ]
  },
  {
   "cell_type": "code",
   "execution_count": null,
   "id": "7b17d50a-298a-42be-b2db-356be038e2b6",
   "metadata": {},
   "outputs": [],
   "source": [
    "for key, val in cellDict.items():\n",
    "    print(key + \": \" + str(len(val)))"
   ]
  },
  {
   "cell_type": "code",
   "execution_count": null,
   "id": "82a52abf",
   "metadata": {},
   "outputs": [],
   "source": [
    "# stopping here for now "
   ]
  },
  {
   "cell_type": "code",
   "execution_count": null,
   "id": "f3c118ad",
   "metadata": {},
   "outputs": [],
   "source": []
  },
  {
   "cell_type": "code",
   "execution_count": null,
   "id": "960074aa",
   "metadata": {},
   "outputs": [],
   "source": []
  },
  {
   "cell_type": "code",
   "execution_count": null,
   "id": "6cf4d814",
   "metadata": {},
   "outputs": [],
   "source": []
  },
  {
   "cell_type": "code",
   "execution_count": null,
   "id": "8a79d261-5b6a-46f7-955b-b0855c19f0e8",
   "metadata": {},
   "outputs": [],
   "source": [
    "for key, val in cellDict.items():\n",
    "    if len(val) > 100:\n",
    "        plt.ecdf(val[:,0]*25, label = key)\n",
    "plt.legend()"
   ]
  },
  {
   "cell_type": "code",
   "execution_count": null,
   "id": "13912839-4cfc-4022-a228-3de1167611f3",
   "metadata": {},
   "outputs": [],
   "source": [
    "plt.figure()\n",
    "a = 1\n",
    "b = []\n",
    "c = []\n",
    "for key, val in cellDict.items():\n",
    "    if len(val) > 800:\n",
    "        plt.violinplot(val[:,0]*25, positions=[a], widths = len(val)/6785)\n",
    "        b.extend([a])\n",
    "        c.extend([key])\n",
    "        a = a + 1\n",
    "plt.ylabel(\"AP Position (um)\")\n",
    "plt.xticks(b,c);"
   ]
  },
  {
   "cell_type": "code",
   "execution_count": null,
   "id": "65515e2e-f400-4421-901b-344dee693668",
   "metadata": {},
   "outputs": [],
   "source": [
    "#reshape the cellDict w/ the cell locations into a pandas dataframe \n",
    "\n",
    "pd.DataFrame.from_dict(cellDict, orient = \"index\")"
   ]
  },
  {
   "cell_type": "code",
   "execution_count": null,
   "id": "91d52767-035e-473f-ab0a-f85e780bdea1",
   "metadata": {},
   "outputs": [],
   "source": [
    "cellDict[\"698035 561\"].shape"
   ]
  },
  {
   "cell_type": "code",
   "execution_count": null,
   "id": "dd149c3c-6732-4e6d-89f4-90ebd86a9244",
   "metadata": {},
   "outputs": [],
   "source": [
    "np.vstack(cellDict.values())"
   ]
  },
  {
   "cell_type": "code",
   "execution_count": null,
   "id": "7dc0db06-2a63-44ab-9085-8daf587bbaf5",
   "metadata": {},
   "outputs": [],
   "source": [
    "stackCells = np.vstack(cellDict.values())\n",
    "# stackCells = np.vstack((cellDict[\"689238 561\"],cellDict[\"689238 488\"]))\n",
    "stepSize = 1\n",
    "x_bin_edges = np.arange(0,50,stepSize)\n",
    "y_bin_edges = np.arange(0,70,stepSize)\n",
    "plt.hist2d(stackCells[:,2]-220, stackCells[:,1]-120, (x_bin_edges, y_bin_edges))\n",
    "plt.gca().invert_yaxis()\n",
    "plt.colorbar()\n",
    "plt.ylabel(\"DV\")\n",
    "plt.xlabel(\"ML\")\n",
    "plt.savefig(\"../results/coronal hist.png\",dpi=300)"
   ]
  },
  {
   "cell_type": "code",
   "execution_count": null,
   "id": "ada54e49-56ad-408c-babc-cfe91a5be1df",
   "metadata": {},
   "outputs": [],
   "source": [
    "i = 2\n",
    "expList = list(cellDict.keys())\n",
    "stackCells = cellDict[expList[i]]\n",
    "x_bin_edges = np.arange(0,50,stepSize)\n",
    "y_bin_edges = np.arange(0,70,stepSize)\n",
    "bin_egdes = np.arange(0,80,1)\n",
    "plt.hist2d(stackCells[:,2]-220, stackCells[:,1]-120, (x_bin_edges, y_bin_edges))\n",
    "plt.gca().invert_yaxis()\n",
    "plt.colorbar()\n",
    "plt.title(expList[i])\n",
    "plt.ylabel(\"DV\")\n",
    "plt.xlabel(\"ML\");\n",
    "plt.savefig(\"../results/hist ex 3.png\",dpi=300, transparent=True)"
   ]
  },
  {
   "cell_type": "code",
   "execution_count": null,
   "id": "14e53d30-cd49-4508-8464-5337b583c5aa",
   "metadata": {},
   "outputs": [],
   "source": [
    "stackCells = np.vstack(cellDict.values())\n",
    "# stackCells = np.vstack((cellDict[\"689238 561\"],cellDict[\"689238 488\"]))\n",
    "stepSize = 1\n",
    "x_bin_edges = np.arange(0,50,stepSize)\n",
    "y_bin_edges = np.arange(0,70,stepSize)\n",
    "plt.hist2d(stackCells[:,2]-220, stackCells[:,1]-120, (x_bin_edges, y_bin_edges), cmap = 'viridis')\n",
    "plt.gca().invert_yaxis()\n",
    "# Set the color of the axes to white\n",
    "plt.gca().spines['bottom'].set_color('white')\n",
    "plt.gca().spines['top'].set_color('white') \n",
    "plt.gca().spines['right'].set_color('white')\n",
    "plt.gca().spines['left'].set_color('white')\n",
    "\n",
    "# Set the color of the ticks to white\n",
    "plt.tick_params(axis='x', colors='white')\n",
    "plt.tick_params(axis='y', colors='white')\n",
    "\n",
    "# set colorbar label plus label color\n",
    "cb = plt.colorbar()\n",
    "cb.set_label('Cell count', color='white')\n",
    "\n",
    "# set colorbar tick color\n",
    "cb.ax.yaxis.set_tick_params(color='white')\n",
    "\n",
    "# set colorbar edgecolor \n",
    "cb.outline.set_edgecolor('white')\n",
    "\n",
    "# set colorbar ticklabels\n",
    "plt.setp(plt.getp(cb.ax.axes, 'yticklabels'), color='white')\n",
    "plt.savefig(\"../results/coronal hist.png\",dpi=300, transparent =True)"
   ]
  },
  {
   "cell_type": "code",
   "execution_count": null,
   "id": "2d62021f-dde8-4971-b0a0-79903665de74",
   "metadata": {},
   "outputs": [],
   "source": [
    "stackCells = np.vstack(cellDict.values())\n",
    "# stackCells = np.vstack((cellDict[\"689238 561\"],cellDict[\"689238 488\"]))\n",
    "bin_egdes = np.arange(0,80,1)\n",
    "plt.hist2d(stackCells[:,0]-220, stackCells[:,1]-120, bin_egdes, cmap = \"viridis\")\n",
    "plt.gca().invert_yaxis()\n",
    "\n",
    "# Set the color of the axes to white\n",
    "plt.gca().spines['bottom'].set_color('white')\n",
    "plt.gca().spines['top'].set_color('white') \n",
    "plt.gca().spines['right'].set_color('white')\n",
    "plt.gca().spines['left'].set_color('white')\n",
    "\n",
    "# Set the color of the ticks to white\n",
    "plt.tick_params(axis='x', colors='white')\n",
    "plt.tick_params(axis='y', colors='white')\n",
    "\n",
    "# set colorbar label plus label color\n",
    "cb = plt.colorbar()\n",
    "cb.set_label('Cell count', color='white')\n",
    "\n",
    "# set colorbar tick color\n",
    "cb.ax.yaxis.set_tick_params(color='white')\n",
    "\n",
    "# set colorbar edgecolor \n",
    "cb.outline.set_edgecolor('white')\n",
    "\n",
    "# set colorbar ticklabels\n",
    "plt.setp(plt.getp(cb.ax.axes, 'yticklabels'), color='white')\n",
    "\n",
    "plt.savefig(\"../results/sagittal hist.png\",dpi=300, transparent=True)"
   ]
  },
  {
   "cell_type": "code",
   "execution_count": null,
   "id": "b60b3613-ac03-45b0-a5e2-98b62783a79d",
   "metadata": {},
   "outputs": [],
   "source": [
    "plt.figure(dpi=300)\n",
    "bin_egdes = np.arange(0,80,1)\n",
    "nExps = len(cellDict)\n",
    "nRow = int(np.floor(np.sqrt(nExps)))\n",
    "nCol = int(np.ceil(nExps / nRow))\n",
    "for i, items in enumerate(cellDict.items(), 1):\n",
    "    key, val = items\n",
    "    plt.subplot(nRow,nCol,i)\n",
    "    plt.hist2d(val[:,2]-220, val[:,1]-120, bin_egdes)\n",
    "    plt.colorbar()\n",
    "    plt.title(key)\n",
    "    plt.ylabel(\"DV\")\n",
    "    plt.xlabel(\"ML\")\n",
    "    # plt.rc('font',**{\"size\": 3})\n",
    "    plt.tight_layout();"
   ]
  },
  {
   "cell_type": "markdown",
   "id": "3617027b-feee-4f9c-976b-d15e9c070d2e",
   "metadata": {},
   "source": [
    "## Try NMF"
   ]
  },
  {
   "cell_type": "code",
   "execution_count": null,
   "id": "9673e0c2-3c3c-4c95-a430-45a418a2a438",
   "metadata": {},
   "outputs": [],
   "source": [
    "from sklearn.decomposition import NMF"
   ]
  },
  {
   "cell_type": "code",
   "execution_count": null,
   "id": "0ef0e3df-d875-46d0-b9f6-8e9223455202",
   "metadata": {},
   "outputs": [],
   "source": [
    "## Prepare data as an array of dictionaries\n",
    "expList = list(cellDict.keys())\n",
    "nExps = len(expList)\n",
    "stepSize = 1\n",
    "x_bin_edges = np.arange(0,50,stepSize)\n",
    "y_bin_edges = np.arange(0,70,stepSize)\n",
    "xLen = len(x_bin_edges)-1\n",
    "yLen = len(y_bin_edges)-1\n",
    "vectorSize = xLen*yLen # convert 2d array to vector\n",
    "histArray = np.empty((nExps,vectorSize))\n",
    "for i in range(nExps):\n",
    "    stackCells = cellDict[expList[i]]\n",
    "    a, xa, ya = np.histogram2d(stackCells[:,2]-220, stackCells[:,1]-120, (x_bin_edges, y_bin_edges)) # Coronal section\n",
    "    # a, xa, ya = np.histogram2d(stackCells[:,0]-220, stackCells[:,1]-120, (x_bin_edges, y_bin_edges)) # Sagittal section\n",
    "    histArray[i,:] = a.reshape(1,vectorSize)\n",
    "# plt.imshow(a.T, origin='lower')"
   ]
  },
  {
   "cell_type": "code",
   "execution_count": null,
   "id": "97d292f8-7b73-4633-8527-4aa975c59531",
   "metadata": {},
   "outputs": [],
   "source": [
    "i = 2\n",
    "# plt.imshow(histArray[i,:].reshape((xLen,yLen)).T, origin = \"lower\")\n",
    "plt.imshow(histArray[i,:].reshape((xLen,yLen)).T)"
   ]
  },
  {
   "cell_type": "code",
   "execution_count": null,
   "id": "edda1783-e0ef-4f8f-84ac-202754a555ca",
   "metadata": {},
   "outputs": [],
   "source": [
    "model = NMF(n_components=5, init='random', random_state=0)\n",
    "W = model.fit_transform(histArray)\n",
    "H = model.components_"
   ]
  },
  {
   "cell_type": "code",
   "execution_count": null,
   "id": "7a2788da-5735-449d-a3f0-eeef1545ce32",
   "metadata": {},
   "outputs": [],
   "source": [
    "i = 0\n",
    "# plt.imshow(H[i,:].reshape((xLen,yLen)).T, origin = \"lower\")\n",
    "plt.imshow(H[i,:].reshape((xLen,yLen)).T)"
   ]
  },
  {
   "cell_type": "code",
   "execution_count": null,
   "id": "90676e9a-fe4c-4089-8f68-8d44df4f8c9c",
   "metadata": {},
   "outputs": [],
   "source": [
    "for i in range(5):\n",
    "    plt.figure()\n",
    "    # plt.imshow(H[i,:].reshape((xLen,yLen)).T, origin = \"lower\")\n",
    "    plt.imshow(H[i,:].reshape((xLen,yLen)).T)\n",
    "    fn = \"../results/component \" + str(i) + \".svg\"\n",
    "    plt.savefig(fn,dpi=300)"
   ]
  },
  {
   "cell_type": "code",
   "execution_count": null,
   "id": "d12d03a0-29a8-4b09-9693-c6838646fe61",
   "metadata": {},
   "outputs": [],
   "source": [
    "vars(model)"
   ]
  },
  {
   "cell_type": "code",
   "execution_count": null,
   "id": "e1d1651e-2c30-4b1d-ba30-797af6903c39",
   "metadata": {},
   "outputs": [],
   "source": [
    "W.shape"
   ]
  },
  {
   "cell_type": "code",
   "execution_count": null,
   "id": "5bf279a3-ce8e-40d8-b195-c27486a5a2e8",
   "metadata": {},
   "outputs": [],
   "source": [
    "plt.figure()\n",
    "for i in range(W.shape[1]):\n",
    "    label = \"Component \" + str(i)\n",
    "    plt.plot(W[:,i],label=label)\n",
    "plt.legend()"
   ]
  },
  {
   "cell_type": "code",
   "execution_count": null,
   "id": "1d3d033b-0c82-4af3-b2bf-4a56efd87e31",
   "metadata": {},
   "outputs": [],
   "source": [
    "wHeldOut = W\n",
    "# wHeldOut[12,:] = 0\n",
    "np.argmax(W[:,0])\n",
    "list(cellDict.keys())[2]"
   ]
  },
  {
   "cell_type": "code",
   "execution_count": null,
   "id": "573fcc1d-6181-41ea-8545-d9268410491d",
   "metadata": {},
   "outputs": [],
   "source": [
    "np.argmax(W[:,4])\n",
    "list(cellDict.keys())[2]"
   ]
  },
  {
   "cell_type": "code",
   "execution_count": null,
   "id": "780fc6ee-2e6a-4391-b886-a7409ea6162b",
   "metadata": {},
   "outputs": [],
   "source": [
    "maxComponents = 20\n",
    "modelErr = np.zeros(maxComponents-1)\n",
    "norm = np.linalg.norm(histArray)\n",
    "for i in range(1,maxComponents):\n",
    "    model = NMF(n_components=i, init='random', random_state=0)\n",
    "    W = model.fit_transform(histArray)\n",
    "#     H = model.components_\n",
    "    modelErr[i-1] = model.reconstruction_err_"
   ]
  },
  {
   "cell_type": "code",
   "execution_count": null,
   "id": "13ca74ba-54b2-4579-bff6-83f90572f716",
   "metadata": {},
   "outputs": [],
   "source": [
    "plt.plot(np.arange(1,20),modelErr,'o-')\n",
    "plt.xticks(np.arange(0,21,5))\n",
    "plt.ylabel(\"Reconstruction Error\")\n",
    "plt.xlabel(\"Num. Components\")\n",
    "plt.savefig(\"../results/NMF Reconstruction Error.svg\",dpi=300)"
   ]
  },
  {
   "cell_type": "code",
   "execution_count": null,
   "id": "46de2930-2ae0-4a33-83b9-b4de52514ef0",
   "metadata": {},
   "outputs": [],
   "source": [
    "plt.figure()\n",
    "for i in range(W.shape[1]):\n",
    "    label = \"Component \" + str(i)\n",
    "    plt.plot(W[:,i],label=label)\n",
    "plt.legend()"
   ]
  },
  {
   "cell_type": "markdown",
   "id": "812e3c39-9ff2-4abe-814e-31e72f9e7fb3",
   "metadata": {},
   "source": [
    "## Construct dataframe for further analysis of NMF domains"
   ]
  },
  {
   "cell_type": "code",
   "execution_count": null,
   "id": "ad627bc0-13eb-4738-ba6b-605ff93fad31",
   "metadata": {},
   "outputs": [],
   "source": [
    "nComponents = 5\n",
    "model = NMF(n_components=nComponents, init='random', random_state=0)\n",
    "W = model.fit_transform(histArray)\n",
    "H = model.components_"
   ]
  },
  {
   "cell_type": "code",
   "execution_count": null,
   "id": "11b4dae4-1561-4227-b31f-43b653cfc177",
   "metadata": {},
   "outputs": [],
   "source": [
    "sampleList = []\n",
    "chList = []\n",
    "for count, name in enumerate(expList):\n",
    "    sampleList.append(np.int64(expList[count][0:6]))\n",
    "    chList.append(expList[count][7:])\n",
    "chList = np.array(chList)"
   ]
  },
  {
   "cell_type": "code",
   "execution_count": null,
   "id": "3ab50ca1",
   "metadata": {},
   "outputs": [],
   "source": [
    "# to do: need to update components of this since switching to brainglobe \n",
    "# this will also change when loading metadata "
   ]
  },
  {
   "cell_type": "code",
   "execution_count": null,
   "id": "f9692021-4bb4-42de-85d5-0123c24e63ad",
   "metadata": {},
   "outputs": [],
   "source": [
    "# Format dataframe\n",
    "ccfData = pd.DataFrame(ccfCoordDict).transpose()\n",
    "ccfData.insert(0,\"Sample\",ccfData.index)\n",
    "ccfData = ccfData.melt(id_vars=\"Sample\", var_name = \"Channel\", value_name=\"CCF Coord\")\n",
    "ccfData = ccfData.dropna(axis = 0, how = \"any\")\n",
    "# Re-establish index\n",
    "ccfData.index = ccfData.Sample\n",
    "ccfData = ccfData.drop(columns = \"Sample\")\n",
    "\n",
    "# Add virus dictionary\n",
    "ccfData.insert(2,\"Virus\",np.nan)\n",
    "ccfData.insert(3,\"Payload\",np.nan)\n",
    "ccfData.insert(4,\"Capsid\",np.nan)\n",
    "for sample, virus in virusDict.items():\n",
    "    ccfData.loc[sample,[\"Virus\",\"Payload\",\"Capsid\"]] = [virus, virus.split('-')[1], virus.split('-')[0]]\n",
    "\n",
    "# Get coordinates for projection\n",
    "ccfCoords = np.array(list(ccfData[\"CCF Coord\"]))\n",
    "\n",
    "# Get CCF Structure\n",
    "ccfData.insert(5,\"CCF Struct\",np.nan)\n",
    "ccfData.insert(6,\"CCF Parent\",np.nan)\n",
    "coordMap = structure_tree.get_structures_by_id(annot[ccfCoords[:,0],ccfCoords[:,1],ccfCoords[:,2]])\n",
    "for count, structDict in enumerate(coordMap):\n",
    "    ccfData[\"CCF Struct\"].iloc[count] = structDict[\"acronym\"]\n",
    "    ccfData[\"CCF Parent\"].iloc[count] = acronymMap[structDict[\"structure_id_path\"][-2]] # get next level parent acronym\n",
    "    \n",
    "# Add factor contribution. ccfData order is different from expList due to melt operation.\n",
    "# Trying to reconcile these here - may be more complicated than need be...\n",
    "nExps = len(sampleList)\n",
    "expIndx = np.empty(nExps, dtype = int)\n",
    "for count, sample in enumerate(zip(ccfData.index, ccfData.Channel)):\n",
    "    for i in range(nExps):\n",
    "        if (sample[0] == sampleList[i]) & (sample[1] == chList[i]):\n",
    "            expIndx[count] = i\n",
    "            break\n",
    "\n",
    "for i in range(nComponents):\n",
    "    field = \"Factor \" + str(i)\n",
    "    ccfData[field] = W[expIndx,i] / np.max(W[expIndx,i])"
   ]
  },
  {
   "cell_type": "code",
   "execution_count": null,
   "id": "1bd4d328-a68c-427c-a0bf-ffde11307818",
   "metadata": {},
   "outputs": [],
   "source": [
    "W[expIndx,0]"
   ]
  },
  {
   "cell_type": "code",
   "execution_count": null,
   "id": "9a8556aa-ead6-435a-a440-59fc6643d874",
   "metadata": {},
   "outputs": [],
   "source": [
    "nExps = len(sampleList)\n",
    "expIndx = np.empty(nExps, dtype = int)\n",
    "for count, sample in enumerate(zip(ccfData.index, ccfData.Channel)):\n",
    "    for i in range(nExps):\n",
    "        if (sample[0] == sampleList[i]) & (sample[1] == chList[i]):\n",
    "            expIndx[count] = i\n",
    "            break\n",
    "            # print(str(sampleList[i]) + ' ' + chList[i] + ' ' + str(i))\n",
    "    # print(sample[1])"
   ]
  },
  {
   "cell_type": "code",
   "execution_count": null,
   "id": "8c558db8-d372-44b3-a5ab-754f06391f57",
   "metadata": {},
   "outputs": [],
   "source": [
    "expIndx"
   ]
  },
  {
   "cell_type": "code",
   "execution_count": null,
   "id": "04c56a7c-a13d-47ff-a9e4-c4b2e201c7b3",
   "metadata": {},
   "outputs": [],
   "source": [
    "ccfData.head(5)"
   ]
  },
  {
   "cell_type": "code",
   "execution_count": null,
   "id": "befdea61-cacf-4974-9d7f-f88e906d583c",
   "metadata": {},
   "outputs": [],
   "source": [
    "plt.figure()\n",
    "for i in range(W.shape[1]):\n",
    "    label = \"Component \" + str(i)\n",
    "    plt.plot(W[:,i],label=label)\n",
    "plt.legend()"
   ]
  },
  {
   "cell_type": "code",
   "execution_count": null,
   "id": "632e9d71-67c9-4c28-afd0-2cf48a796187",
   "metadata": {},
   "outputs": [],
   "source": [
    "ccfData.head(5)"
   ]
  },
  {
   "cell_type": "code",
   "execution_count": null,
   "id": "fd22ad52-014d-455e-932c-a585f36e0726",
   "metadata": {},
   "outputs": [],
   "source": [
    "i = 2\n",
    "plt.figure(figsize = (12.8,4.8)) # size of 2 figures\n",
    "plt.subplot(1,2,1)\n",
    "plt.imshow(H[i,:].reshape((xLen,yLen)).T, cmap = \"viridis\")\n",
    "plt.axis('tight')\n",
    "plt.subplot(1,2,2)\n",
    "field = \"Factor \" + str(i)\n",
    "sns.stripplot(ccfData,x = \"CCF Parent\", y = field, color = \"gray\", order=[\"ACAd\",\"PL\",\"ILA\",\"FRP\",\"ORBm\",\"ORBl\",\"ORBvl\",\"MOs\",\"AId\"], s = 7, jitter = .2)\n",
    "# sns.despine()\n",
    "plt.axis('tight');"
   ]
  },
  {
   "cell_type": "markdown",
   "id": "ce9cb2a5-37cd-4082-a949-c805734dc1dd",
   "metadata": {},
   "source": [
    "## Try to add flatmap representations"
   ]
  },
  {
   "cell_type": "code",
   "execution_count": null,
   "id": "05b70553-6996-4e8b-b992-672f607a0ed6",
   "metadata": {},
   "outputs": [],
   "source": [
    "from pathlib import Path\n",
    "from allensdk.core.reference_space_cache import ReferenceSpaceCache\n",
    "import ccf_streamlines.projection as ccfproj\n",
    "output_dir = '../scratch/'\n",
    "# Establish reference space\n",
    "reference_space_key = 'annotation/ccf_2017'\n",
    "resolution = 25\n",
    "rspc = ReferenceSpaceCache(resolution, reference_space_key, manifest=Path(output_dir) / 'manifest.json')\n",
    "annot, annot_info = rspc.get_annotation_volume()\n",
    "structure_tree= rspc.get_structure_tree()\n",
    "rsp = rspc.get_reference_space()\n",
    "# Set up CCF structure lookup dicts\n",
    "idMap = structure_tree.get_id_acronym_map()\n",
    "acronymMap = {IDs:acronym for acronym, IDs in idMap.items()} # invert idMap"
   ]
  },
  {
   "cell_type": "code",
   "execution_count": null,
   "id": "a7832509",
   "metadata": {
    "scrolled": true
   },
   "outputs": [],
   "source": [
    "from allensdk.api import api\n",
    "apiObj = api.Api(\"../results\")\n",
    "apiObj.retrieve_file_over_http(\"http://download.alleninstitute.org/informatics-archive/current-release/mouse_ccf/cortical_coordinates/ccf_2017/ccf_streamlines_assets/view_lookup/flatmap_dorsal.h5\",\"../scratch/flatmap_dorsal.h5\")\n",
    "apiObj.retrieve_file_over_http(\"http://download.alleninstitute.org/informatics-archive/current-release/mouse_ccf/cortical_coordinates/ccf_2017/ccf_streamlines_assets/master_updated/labelDescription_ITKSNAPColor.txt\",\"../scratch/labelDescription_ITKSNAPColor.txt\")\n",
    "apiObj.retrieve_file_over_http(\"http://download.alleninstitute.org/informatics-archive/current-release/mouse_ccf/cortical_coordinates/ccf_2017/ccf_streamlines_assets/streamlines/closest_surface_voxel_lookup.h5\",\"../scratch/closest_surface_voxel_lookup.h5\")\n",
    "apiObj.retrieve_file_over_http(\"http://download.alleninstitute.org/informatics-archive/current-release/mouse_ccf/cortical_coordinates/ccf_2017/ccf_streamlines_assets/master_updated/flatmap_dorsal.nrrd\",\"../scratch/flatmap_dorsal.nrrd\")\n",
    "apiObj.retrieve_file_over_http(\"http://download.alleninstitute.org/informatics-archive/current-release/mouse_ccf/cortical_coordinates/ccf_2017/ccf_streamlines_assets/streamlines/surface_paths_10_v3.h5\",\"../scratch/surface_paths_10_v3.h5\")"
   ]
  },
  {
   "cell_type": "code",
   "execution_count": null,
   "id": "a45e6b7c-0f8b-417b-adc0-f68c9da767ff",
   "metadata": {},
   "outputs": [],
   "source": [
    "# Get flatmap boundaries\n",
    "bf_boundary_finder = ccfproj.BoundaryFinder(\n",
    "    projected_atlas_file=\"../scratch/flatmap_dorsal.nrrd\",\n",
    "    labels_file=\"../scratch/labelDescription_ITKSNAPColor.txt\",\n",
    ")\n",
    "\n",
    "# And we can get the right hemisphere boundaries that match up with\n",
    "# our projection if we specify the same configuration\n",
    "bf_right_boundaries = bf_boundary_finder.region_boundaries(\n",
    "    # we want the right hemisphere boundaries, but located in the right place\n",
    "    # to plot both hemispheres at the same time\n",
    "    hemisphere='right',\n",
    "\n",
    "    # we also want the hemispheres to be adjacent\n",
    "    view_space_for_other_hemisphere='flatmap_dorsal',\n",
    ")\n",
    "\n",
    "# Setup projector object\n",
    "ccf_coord_proj = ccfproj.IsocortexCoordinateProjector(\n",
    "    projection_file=\"../scratch/flatmap_dorsal.h5\",\n",
    "    surface_paths_file=\"../scratch/surface_paths_10_v3.h5\",\n",
    "    closest_surface_voxel_reference_file=\"../scratch/closest_surface_voxel_lookup.h5\"\n",
    ")"
   ]
  },
  {
   "cell_type": "code",
   "execution_count": null,
   "id": "a3c734ef-ad55-44df-96b9-435f52c4550a",
   "metadata": {},
   "outputs": [],
   "source": [
    "# Project CCF coords onto flatmap\n",
    "injCoords = ccfCoords*25 # convert from voxels to microns\n",
    "\n",
    "# Project injection site onto dorsal flatmap\n",
    "projCoords = ccf_coord_proj.project_coordinates(injCoords, scale='voxels', hemisphere = 'right', view_space_for_other_hemisphere=\"flatmap_dorsal\")\n",
    "\n",
    "# Add projections to dataframe\n",
    "ccfData.insert(4,\"ML\",np.nan)\n",
    "ccfData.insert(5,\"AP\",np.nan)\n",
    "ccfData.insert(6,\"DV\",np.nan)\n",
    "ccfData.loc[:,[\"ML\",\"AP\",\"DV\"]] = projCoords"
   ]
  },
  {
   "cell_type": "code",
   "execution_count": null,
   "id": "ac4e283a-3019-4d02-a581-e66546e2123e",
   "metadata": {},
   "outputs": [],
   "source": [
    "for k, boundary_coords in bf_right_boundaries.items():\n",
    "    plt.plot(*boundary_coords.T, color = 'k', lw= 2)\n",
    "\n",
    "sns.scatterplot(ccfData,x = \"ML\", y = \"AP\",edgecolor = \"none\", hue = \"Factor 2\",zorder = 2, s =80, palette = \"viridis\")\n",
    "plt.legend(loc = \"upper right\")"
   ]
  },
  {
   "cell_type": "code",
   "execution_count": null,
   "id": "5c9f8774-3a92-4cbf-9735-8eb0a0c01ea4",
   "metadata": {},
   "outputs": [],
   "source": [
    "i = 1\n",
    "plt.figure(figsize = (12.8,4.8)) # size of 2 figures\n",
    "plt.subplot(1,2,1)\n",
    "plt.imshow(H[i,:].reshape((xLen,yLen)).T, cmap = \"viridis\")\n",
    "plt.axis('tight')\n",
    "plt.subplot(1,2,2)\n",
    "field = \"Factor \" + str(i)\n",
    "sns.stripplot(ccfData,x = \"CCF Parent\", y = field, color = \"gray\", order=[\"ACAd\",\"PL\",\"ILA\",\"FRP\",\"ORBm\",\"ORBl\",\"ORBvl\",\"MOs\",\"AId\"], s = 7, jitter = .2)\n",
    "# sns.despine()\n",
    "plt.axis('tight');"
   ]
  },
  {
   "cell_type": "code",
   "execution_count": null,
   "id": "172d9c3a-d53f-4a46-bde2-963f2a47dea7",
   "metadata": {},
   "outputs": [],
   "source": [
    "ccfData.sort_values(\"Factor 1\", ascending=False)"
   ]
  },
  {
   "cell_type": "code",
   "execution_count": null,
   "id": "57e95daa-74c9-44d9-8766-9bfe1c749c63",
   "metadata": {},
   "outputs": [],
   "source": [
    "struct = \"Factor 1\"\n",
    "plotData = ccfData.copy()\n",
    "plt.figure(dpi=300)\n",
    "for k, boundary_coords in bf_right_boundaries.items():\n",
    "    plt.plot(*boundary_coords.T, color = 'k', lw= 2)\n",
    "\n",
    "plotData = plotData.sort_values(by=struct,ascending=True) # sort for plotting largest value on top\n",
    "ax = sns.scatterplot(plotData,x = \"ML\", y = \"AP\", s = 45, hue = struct, hue_norm=(0,1),\n",
    "                     edgecolor = 'black', linewidth = 1, zorder = 2, palette = 'viridis')\n",
    "\n",
    "norm = plt.Normalize(0, 1)\n",
    "sm = plt.cm.ScalarMappable(cmap=\"viridis\", norm=norm)\n",
    "sm = plt.cm.ScalarMappable(cmap=\"viridis\")\n",
    "plt.colorbar(sm, ax = ax)\n",
    "ax.get_legend().remove()\n",
    "plt.title(struct)\n",
    "plt.savefig(\"../results/factor 1 flatmap.svg\",dpi=300)"
   ]
  },
  {
   "cell_type": "code",
   "execution_count": null,
   "id": "7ee4af70-b450-4b77-8845-58de043af1b4",
   "metadata": {},
   "outputs": [],
   "source": [
    "for i in range(5):\n",
    "    plt.figure()\n",
    "    # plt.imshow(H[i,:].reshape((xLen,yLen)).T, origin = \"lower\")\n",
    "    plt.imshow(H[i,:].reshape((xLen,yLen)).T)\n",
    "    plt.title(i)"
   ]
  },
  {
   "cell_type": "code",
   "execution_count": null,
   "id": "891f887e-2dcb-45a3-8bec-e3e1ff5f6b86",
   "metadata": {},
   "outputs": [],
   "source": [
    "from matplotlib.colors import Normalize, to_hex"
   ]
  },
  {
   "cell_type": "code",
   "execution_count": null,
   "id": "24763b0b-1316-463b-8d65-d505c746fdf5",
   "metadata": {},
   "outputs": [],
   "source": [
    "\n",
    "# rFactor = \"Factor 0\"\n",
    "# gFactor = \"Factor 1\"\n",
    "# bFactor = \"Factor 2\"\n",
    "\n",
    "rFactor = \"Factor 1\"\n",
    "gFactor = \"Factor 0\"\n",
    "bFactor = \"Factor 3\"\n",
    "plotData = ccfData.copy()\n",
    "plt.figure(dpi=300)\n",
    "for k, boundary_coords in bf_right_boundaries.items():\n",
    "    plt.plot(*boundary_coords.T, color = 'k', lw= 2)\n",
    "\n",
    "plotData['color'] = plotData.apply(lambda row: to_hex((row[rFactor], row[gFactor], row[bFactor])), axis=1)\n",
    "palette = {color: color for color in plotData['color'].unique()}\n",
    "plotData = plotData.sort_values(by='color',ascending=True) # sort for plotting largest value on top\n",
    "ax = sns.scatterplot(plotData,x = \"ML\", y = \"AP\", s = 45, hue = \"color\",\n",
    "                     edgecolor = 'black', linewidth = 1, zorder = 2, palette = palette)\n",
    "\n",
    "ax.get_legend().remove()\n",
    "plt.title(rFactor + \" \" + gFactor + \" \" + bFactor)\n",
    "plt.savefig(\"../results/joint factors flatmap.svg\",dpi=300)"
   ]
  },
  {
   "cell_type": "code",
   "execution_count": null,
   "id": "3bf71557-2f38-4c1d-a7de-9b24da16b9cf",
   "metadata": {},
   "outputs": [],
   "source": [
    "\n",
    "# rFactor = \"Factor 0\"\n",
    "# gFactor = \"Factor 1\"\n",
    "# bFactor = \"Factor 2\"\n",
    "\n",
    "rFactor = \"Factor 1\"\n",
    "gFactor = \"Factor 0\"\n",
    "bFactor = \"Factor 2\"\n",
    "plotData = ccfData.copy()\n",
    "plt.figure(dpi=300)\n",
    "for k, boundary_coords in bf_right_boundaries.items():\n",
    "    plt.plot(*boundary_coords.T, color = 'k', lw= 2)\n",
    "\n",
    "plotData['color'] = plotData.apply(lambda row: to_hex((row[rFactor], row[gFactor], row[bFactor])), axis=1)\n",
    "palette = {color: color for color in plotData['color'].unique()}\n",
    "plotData = plotData.sort_values(by='color',ascending=True) # sort for plotting largest value on top\n",
    "ax = sns.scatterplot(plotData,x = \"ML\", y = \"AP\", s = 45, hue = \"color\",\n",
    "                     edgecolor = 'black', linewidth = 1, zorder = 2, palette = palette)\n",
    "\n",
    "ax.get_legend().remove()\n",
    "plt.title(rFactor + \" \" + gFactor + \" \" + bFactor)\n",
    "# plt.savefig(\"../results/joint factors flatmap.svg\",dpi=300)"
   ]
  },
  {
   "cell_type": "code",
   "execution_count": null,
   "id": "24912a17-0a06-4725-8c74-f873468011e8",
   "metadata": {},
   "outputs": [],
   "source": [
    "# Create RGB colors and convert them to hex\n",
    "plotData['color'] = plotData.apply(lambda row: to_hex((row['Factor 0'], row['Factor 1'], row['Factor 2'])), axis=1)\n",
    "# Create a color palette dictionary\n",
    "palette = {color: color for color in plotData['color'].unique()}\n",
    "# sns.scatterplot(data=X, x='posX', y='posY', hue='color', palette=X['color'].unique(), legend=False, s=100)"
   ]
  },
  {
   "cell_type": "code",
   "execution_count": null,
   "id": "c6d7d85c-8a37-4453-8e85-2f3381daa048",
   "metadata": {},
   "outputs": [],
   "source": [
    "ccfData.sort_values(\"Factor 1\", ascending=False).head(5)"
   ]
  },
  {
   "cell_type": "code",
   "execution_count": null,
   "id": "4996f8ff-15eb-413d-adc0-8e93b4f9f48f",
   "metadata": {},
   "outputs": [],
   "source": [
    "lookFor = \"698927 488\"\n",
    "for i, name in enumerate(expList):\n",
    "    if name == lookFor:\n",
    "        print(name)\n",
    "        print(i)\n",
    "        break"
   ]
  },
  {
   "cell_type": "code",
   "execution_count": null,
   "id": "a0531f23-472b-4edf-a982-8d0693068a2a",
   "metadata": {},
   "outputs": [],
   "source": [
    "i = 33\n",
    "plt.imshow(histArray[i,:].reshape((xLen,yLen)).T)"
   ]
  },
  {
   "cell_type": "code",
   "execution_count": null,
   "id": "5de715ba-d2b0-4a2c-af8f-a3d0efc39170",
   "metadata": {},
   "outputs": [],
   "source": [
    "i = 4\n",
    "showName = 2\n",
    "field = \"Factor \" + str(i)\n",
    "sns.stripplot(ccfData,x = \"CCF Parent\", y = field, color = \"white\", order=[\"ACAd\",\"PL\",\"ILA\",\"FRP\",\"ORBm\",\"ORBl\",\"ORBvl\",\"MOs\",\"AId\"], s = 7, jitter = .2)\n",
    "sns.despine()\n",
    "plt.ylabel(\"Factor \" + str(showName), color = \"white\")\n",
    "plt.xlabel('Injection Site', color='white')\n",
    "plt.axis('tight');\n",
    "\n",
    "# Set the color of the axes to white\n",
    "plt.gca().spines['bottom'].set_color('white')\n",
    "plt.gca().spines['top'].set_color('white') \n",
    "plt.gca().spines['right'].set_color('white')\n",
    "plt.gca().spines['left'].set_color('white')\n",
    "\n",
    "# Set the color of the ticks to white\n",
    "plt.tick_params(axis='x', colors='white')\n",
    "plt.tick_params(axis='y', colors='white')\n",
    "\n",
    "\n",
    "# Set the color of the axis labels to white\n",
    "# plt.xlabel('X Axis', color='white')\n",
    "# plt.ylabel('Y Axis', color='white')\n",
    "\n",
    "plt.savefig(\"../results/input \" + str(showName) + \".svg\", dpi = 300, transparent=True)"
   ]
  }
 ],
 "metadata": {
  "kernelspec": {
   "display_name": "Python 3 (ipykernel)",
   "language": "python",
   "name": "python3"
  },
  "language_info": {
   "codemirror_mode": {
    "name": "ipython",
    "version": 3
   },
   "file_extension": ".py",
   "mimetype": "text/x-python",
   "name": "python",
   "nbconvert_exporter": "python",
   "pygments_lexer": "ipython3",
   "version": "3.10.12"
  }
 },
 "nbformat": 4,
 "nbformat_minor": 5
}
